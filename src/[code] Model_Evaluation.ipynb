{
 "cells": [
  {
   "cell_type": "code",
   "execution_count": 5,
   "id": "0de0a8a5",
   "metadata": {},
   "outputs": [],
   "source": [
    "import pandas as pd\n",
    "import random"
   ]
  },
  {
   "cell_type": "code",
   "execution_count": 6,
   "id": "22bdea3f",
   "metadata": {},
   "outputs": [],
   "source": [
    "results = pd.read_csv(\"gena_data_raw.csv\")"
   ]
  },
  {
   "cell_type": "code",
   "execution_count": 7,
   "id": "73318557",
   "metadata": {},
   "outputs": [
    {
     "name": "stdout",
     "output_type": "stream",
     "text": [
      "Numbers of ID in test sample: 250\n"
     ]
    }
   ],
   "source": [
    "list_id_papers = results['PMID'].unique().tolist()\n",
    "sample_id = random.sample(list_id_papers, 250)\n",
    "print(\"Numbers of ID in test sample:\", len(sample_id))"
   ]
  },
  {
   "cell_type": "code",
   "execution_count": 8,
   "id": "25eea1ae",
   "metadata": {},
   "outputs": [
    {
     "name": "stdout",
     "output_type": "stream",
     "text": [
      "Size of test sample: 250\n"
     ]
    },
    {
     "name": "stderr",
     "output_type": "stream",
     "text": [
      "C:\\Users\\milan\\AppData\\Local\\Temp\\ipykernel_1804\\1821593410.py:1: UserWarning: Boolean Series key will be reindexed to match DataFrame index.\n",
      "  sample_test = results.sample(frac=1)[results['PMID'].isin(sample_id)]\n"
     ]
    }
   ],
   "source": [
    "sample_test = results.sample(frac=1)[results['PMID'].isin(sample_id)]\n",
    "sample_test.drop_duplicates(subset=['PMID'], inplace=True)\n",
    "sample_test = sample_test.sample(n=250)\n",
    "print(\"Size of test sample:\", len(sample_test))\n",
    "sample_test['E1_Result'] = [1]*len(sample_test)\n",
    "sample_test['Relation_Result'] = [1]*len(sample_test)\n",
    "sample_test['E2_Result'] = [1]*len(sample_test)"
   ]
  },
  {
   "cell_type": "code",
   "execution_count": 9,
   "id": "db4efde5",
   "metadata": {},
   "outputs": [],
   "source": [
    "# Save to excel file\n",
    "sample_test.to_excel(\"sample_test_final_R01.xlsx\", index=False)\n",
    "sample_test.to_excel(\"sample_test_final_R02.xlsx\", index=False)"
   ]
  },
  {
   "cell_type": "markdown",
   "id": "9abdfb63",
   "metadata": {},
   "source": [
    "------------------------------------------------"
   ]
  },
  {
   "cell_type": "code",
   "execution_count": 17,
   "id": "2762dade",
   "metadata": {},
   "outputs": [],
   "source": [
    "result_1 = pd.read_excel(\"sample_test_final_R01.xlsx\")\n",
    "result_2 = pd.read_excel(\"sample_test_final_R02.xlsx\")"
   ]
  },
  {
   "cell_type": "code",
   "execution_count": 18,
   "id": "2c9cf4e6",
   "metadata": {},
   "outputs": [
    {
     "data": {
      "text/plain": [
       "(250, 250)"
      ]
     },
     "execution_count": 18,
     "metadata": {},
     "output_type": "execute_result"
    }
   ],
   "source": [
    "len(result_1), len(result_2)"
   ]
  },
  {
   "cell_type": "code",
   "execution_count": 19,
   "id": "0dfa8171",
   "metadata": {},
   "outputs": [
    {
     "name": "stdout",
     "output_type": "stream",
     "text": [
      "Precision of Entities by Annotator 1:  0.966\n",
      "Precision of Entities by Annotator 2:  0.97\n",
      "IAA of Entities:  0.8063266623628147\n"
     ]
    }
   ],
   "source": [
    "import sklearn\n",
    "from sklearn.metrics import cohen_kappa_score\n",
    "\n",
    "print(\"Precision of Entities by Annotator 1: \", (sum(result_1['E1_Result']) + sum(result_1['E2_Result']))/(2.0*len(result_1)))\n",
    "print(\"Precision of Entities by Annotator 2: \", (sum(result_2['E1_Result']) + sum(result_2['E2_Result']))/(2.0*len(result_2)))\n",
    "\n",
    "print(\"IAA of Entities: \", cohen_kappa_score(result_1['E1_Result'].tolist() + result_1['E2_Result'].tolist(), result_2['E1_Result'].tolist() + result_2['E2_Result'].tolist()))"
   ]
  },
  {
   "cell_type": "code",
   "execution_count": 20,
   "id": "17aefb8e",
   "metadata": {},
   "outputs": [
    {
     "name": "stdout",
     "output_type": "stream",
     "text": [
      "Precision of Relations by Annotator 1: 0.836\n",
      "Precision of Relations by Annotator 2: 0.852\n",
      "IAA of Entities:  0.8178063889226285\n"
     ]
    }
   ],
   "source": [
    "print(\"Precision of Relations by Annotator 1:\", result_1['Relation_Result'].mean())\n",
    "print(\"Precision of Relations by Annotator 2:\", result_2['Relation_Result'].mean())\n",
    "\n",
    "print(\"IAA of Entities: \", cohen_kappa_score(result_1['Relation_Result'].tolist(), result_2['Relation_Result']))"
   ]
  }
 ],
 "metadata": {
  "kernelspec": {
   "display_name": "Python 3 (ipykernel)",
   "language": "python",
   "name": "python3"
  },
  "language_info": {
   "codemirror_mode": {
    "name": "ipython",
    "version": 3
   },
   "file_extension": ".py",
   "mimetype": "text/x-python",
   "name": "python",
   "nbconvert_exporter": "python",
   "pygments_lexer": "ipython3",
   "version": "3.8.8"
  }
 },
 "nbformat": 4,
 "nbformat_minor": 5
}
