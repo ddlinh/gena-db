{
 "cells": [
  {
   "cell_type": "code",
   "execution_count": 2,
   "id": "ad043955",
   "metadata": {},
   "outputs": [
    {
     "name": "stdout",
     "output_type": "stream",
     "text": [
      "Looking in indexes: https://pypi.org/simple, https://pypi.ngc.nvidia.com\n",
      "Requirement already satisfied: biopython in c:\\users\\milan\\anaconda3\\lib\\site-packages (1.79)\n",
      "Requirement already satisfied: numpy in c:\\users\\milan\\anaconda3\\lib\\site-packages (from biopython) (1.19.5)\n"
     ]
    },
    {
     "name": "stderr",
     "output_type": "stream",
     "text": [
      "WARNING: You are using pip version 21.3.1; however, version 22.2.1 is available.\n",
      "You should consider upgrading via the 'c:\\users\\milan\\anaconda3\\python.exe -m pip install --upgrade pip' command.\n"
     ]
    }
   ],
   "source": [
    "!pip install -U pandas\n",
    "!pip install -U periodictable\n",
    "!pip install -U biopython"
   ]
  },
  {
   "cell_type": "markdown",
   "id": "a06279cb",
   "metadata": {
    "id": "a06279cb"
   },
   "source": [
    "## Import libraries"
   ]
  },
  {
   "cell_type": "code",
   "execution_count": 1,
   "id": "e325cb88",
   "metadata": {
    "id": "e325cb88"
   },
   "outputs": [],
   "source": [
    "import itertools\n",
    "import os\n",
    "import pandas as pd\n",
    "import re\n",
    "from pandas.core.frame import DataFrame\n",
    "import periodictable"
   ]
  },
  {
   "cell_type": "code",
   "execution_count": 2,
   "id": "16f796ab",
   "metadata": {
    "id": "16f796ab"
   },
   "outputs": [],
   "source": [
    "def search(query:str, max_results:int):\n",
    "    \"\"\"\n",
    "    Search for results in Pubmed with a given query\n",
    "    \"\"\"\n",
    "    Entrez.email = 'your.email@example.com'\n",
    "    try:\n",
    "        handle = Entrez.esearch(db='pubmed', \n",
    "                                sort='relevance', \n",
    "                                retmax=max_results,\n",
    "                                retmode='xml', \n",
    "                                term=query\n",
    "                                )\n",
    "        results = Entrez.read(handle)\n",
    "        return results\n",
    "    except:\n",
    "        return None\n",
    "\n",
    "def fetch_details(id_list:list):\n",
    "    \"\"\"\n",
    "    Get details from a given list of id papers\n",
    "    \"\"\"\n",
    "    try:\n",
    "        ids = ','.join(id_list)\n",
    "        Entrez.email = 'your.email@example.com'\n",
    "        handle = Entrez.efetch(db='pubmed',\n",
    "                               retmode='xml',\n",
    "                               id=ids)\n",
    "        results = Entrez.read(handle)\n",
    "        return results\n",
    "    except:\n",
    "        return None"
   ]
  },
  {
   "cell_type": "markdown",
   "id": "7b8bd9ac",
   "metadata": {
    "id": "7b8bd9ac"
   },
   "source": [
    "# Search with some typical keywords"
   ]
  },
  {
   "cell_type": "code",
   "execution_count": null,
   "id": "2bc21dd4",
   "metadata": {
    "colab": {
     "base_uri": "https://localhost:8080/"
    },
    "id": "2bc21dd4",
    "outputId": "1e562ab1-7475-4593-896a-5f906627f37a",
    "scrolled": true
   },
   "outputs": [
    {
     "data": {
      "text/plain": [
       "[('nutrition', 'psychology'),\n",
       " ('nutrition', 'mental health'),\n",
       " ('nutrition', 'feel'),\n",
       " ('nutrition', 'mood'),\n",
       " ('nutrition', 'sensation'),\n",
       " ('nutriment', 'psychology'),\n",
       " ('nutriment', 'mental health'),\n",
       " ('nutriment', 'feel'),\n",
       " ('nutriment', 'mood'),\n",
       " ('nutriment', 'sensation'),\n",
       " ('nourishment', 'psychology'),\n",
       " ('nourishment', 'mental health'),\n",
       " ('nourishment', 'feel'),\n",
       " ('nourishment', 'mood'),\n",
       " ('nourishment', 'sensation'),\n",
       " ('sustenance', 'psychology'),\n",
       " ('sustenance', 'mental health'),\n",
       " ('sustenance', 'feel'),\n",
       " ('sustenance', 'mood'),\n",
       " ('sustenance', 'sensation'),\n",
       " ('aliment', 'psychology'),\n",
       " ('aliment', 'mental health'),\n",
       " ('aliment', 'feel'),\n",
       " ('aliment', 'mood'),\n",
       " ('aliment', 'sensation'),\n",
       " ('alimentation', 'psychology'),\n",
       " ('alimentation', 'mental health'),\n",
       " ('alimentation', 'feel'),\n",
       " ('alimentation', 'mood'),\n",
       " ('alimentation', 'sensation'),\n",
       " ('victuals', 'psychology'),\n",
       " ('victuals', 'mental health'),\n",
       " ('victuals', 'feel'),\n",
       " ('victuals', 'mood'),\n",
       " ('victuals', 'sensation'),\n",
       " ('food', 'psychology'),\n",
       " ('food', 'mental health'),\n",
       " ('food', 'feel'),\n",
       " ('food', 'mood'),\n",
       " ('food', 'sensation'),\n",
       " ('nutrient', 'psychology'),\n",
       " ('nutrient', 'mental health'),\n",
       " ('nutrient', 'feel'),\n",
       " ('nutrient', 'mood'),\n",
       " ('nutrient', 'sensation')]"
      ]
     },
     "execution_count": 7,
     "metadata": {},
     "output_type": "execute_result"
    }
   ],
   "source": [
    "# Get some typical keywords\n",
    "keywords_food = ['nutrition', 'nutriment', 'nourishment', 'sustenance', 'aliment', 'alimentation', 'victuals', 'food', 'nutrient']\n",
    "keywords_mood = ['psychology', 'mental health', 'feel', 'mood', 'sensation']\n",
    "combine_keywords = [p for p in itertools.product(*[keywords_food, keywords_mood])]\n",
    "combine_keywords"
   ]
  },
  {
   "cell_type": "code",
   "execution_count": null,
   "id": "02f1ea58",
   "metadata": {
    "id": "02f1ea58",
    "outputId": "aed34466-ea9a-45e0-8c9f-d222e36b8118"
   },
   "outputs": [
    {
     "name": "stdout",
     "output_type": "stream",
     "text": [
      "-----------\n",
      "\n",
      "Query: nutrition and psychology\n",
      "\n",
      "1) Nutritional status, physical activity and associated nutrition knowledge of primary school learners.\n",
      "\n",
      "2) Social networks and their influences on nutrient intake, nutritional status and physical function in community-dwelling ethnically diverse older adults: a mixed-methods longitudinal study.\n",
      "\n",
      "3) A poorer nutritional status impacts quality of life in a sample population of elderly cancer patients.\n",
      "-----------\n",
      "\n",
      "Query: nutrition and mental health\n",
      "\n",
      "1) Correlates associated with mental health and nutritional status in Lebanese older adults: A cross-sectional study.\n",
      "\n",
      "2) Mental health symptoms and their relations with dietary diversity and nutritional status among mothers of young children in eastern Democratic Republic of the Congo.\n",
      "\n",
      "3) Community canteen services for the rural elderly: determining impacts on general mental health, nutritional status, satisfaction with life, and social capital.\n",
      "-----------\n",
      "\n",
      "Query: nutrition and feel\n",
      "\n",
      "1) Remaining Socially Connected at 100 and Beyond Reduces Impact of Loneliness on Nutritional Status.\n",
      "\n",
      "2) Correlates associated with mental health and nutritional status in Lebanese older adults: A cross-sectional study.\n",
      "\n",
      "3) Association between Postpartum Nutritional Status and Postpartum Depression Symptoms.\n",
      "-----------\n",
      "\n",
      "Query: nutrition and mood\n",
      "\n",
      "1) Does Depressive Affect Mediate the Relationship between Self-Care Capacity and Nutritional Status Among Rural Older Adults? : A Structural Equation Modeling Approach.\n",
      "\n",
      "2) A Two-Year Longitudinal Study of the Association between Oral Frailty and Deteriorating Nutritional Status among Community-Dwelling Older Adults.\n",
      "\n",
      "3) Nutritional status as a predictor of comprehensive activities of daily living function and quality of life in patients with stroke.\n",
      "-----------\n",
      "\n",
      "Query: nutrition and sensation\n",
      "\n",
      "1) Poor nutritional status, risk of sarcopenia and nutrition related complaints are prevalent in COVID-19 patients during and after hospital admission.\n",
      "\n",
      "2) Comprehensive care improves physical recovery of hip-fractured elderly Taiwanese patients with poor nutritional status.\n",
      "\n",
      "3) Dietary Supplement Intake and Its Association with Cognitive Function, Physical Fitness, Depressive Symptoms, Nutritional Status and Biochemical Indices in a 3-Year Follow-Up Among Community Dwelling Older Adults: A Longitudinal Study.\n",
      "-----------\n",
      "\n",
      "Query: nutriment and psychology\n",
      "\n",
      "1) An appraisal of self psychology.\n",
      "\n",
      "2) Orality and smoking.\n",
      "\n",
      "3) A randomized controlled double-blind clinical trial comparing versus placebo the effect of an edible algal extract (Ulva Lactuca) on the component of depression in healthy volunteers with anhedonia.\n",
      "-----------\n",
      "\n",
      "Query: nutriment and mental health\n",
      "\n",
      "1) [Pica: a descriptive study of patients in a speciality medical center].\n",
      "\n",
      "2) In re Conroy.\n",
      "-----------\n",
      "\n",
      "Query: nutriment and feel\n",
      "-----------\n",
      "\n",
      "Query: nutriment and mood\n",
      "\n",
      "1) Soybean protein-derived peptide nutriment increases negative nitrogen balance in burn injury-induced inflammatory stress response in aged rats through the modulation of white blood cells and immune factors.\n",
      "\n",
      "2) Changes in intestinal microbiota affect metabolism of ginsenoside Re.\n",
      "\n",
      "3) Molecular Modulation of Stress Induced to Abnormal Haematological Indices in Medical Students, Malaysian Perspective.\n",
      "-----------\n",
      "\n",
      "Query: nutriment and sensation\n",
      "\n",
      "1) Mouth rinsing with a sweet solution increases energy expenditure and decreases appetite during 60 min of self-regulated walking exercise.\n",
      "\n",
      "2) Characterization of the 2,3,7,8-tetrachlorodibenzo-p-dioxin (TCDD)-provoked strong and rapid aversion to unfamiliar foodstuffs in rats.\n",
      "\n",
      "3) Variations in intra-oral stimulation and nutritive sucking.\n",
      "-----------\n",
      "\n",
      "Query: nourishment and psychology\n",
      "\n",
      "1) Desiring foods: Cultivating non-attachment to nourishment in Buddhist Sri Lanka.\n",
      "\n",
      "2) The care strategy for families of terminally ill cancer patients who become unable to take nourishment orally: recommendations from a nationwide survey of bereaved family members' experiences.\n",
      "\n",
      "3) Struggling with nutrition in patients with advanced cancer: nutrition and nourishment-focusing on metabolism and supportive care.\n",
      "-----------\n",
      "\n",
      "Query: nourishment and mental health\n",
      "\n",
      "1) An Anecdotal Case Report of Chronic Lymphatic Leukemia with del(11q) Treated with Ibrutinib: Artificial Nourishment and Physical Activity Program.\n",
      "\n",
      "2) Neuro-nutraceuticals: The path to brain health via nourishment is not so distant.\n",
      "\n",
      "3) What Do Medical Students Do for Self-Care? A Student-Centered Approach to Well-Being.\n",
      "-----------\n",
      "\n",
      "Query: nourishment and feel\n",
      "\n",
      "1) Genes, emotions and gut microbiota: The next frontier for the gastroenterologist.\n",
      "\n",
      "2) The care strategy for families of terminally ill cancer patients who become unable to take nourishment orally: recommendations from a nationwide survey of bereaved family members' experiences.\n",
      "\n",
      "3) Food Is Love: Partnering With Families to Provide Nourishment at the End of Life.\n",
      "-----------\n",
      "\n",
      "Query: nourishment and mood\n",
      "\n",
      "1) Can sand nourishment material affect dune vegetation through nutrient addition?\n",
      "\n",
      "2) Quantitative differences in nourishment affect caste-related physiology and development in the paper wasp Polistes metricus.\n",
      "\n",
      "3) Maternal and nourishment factors interact to influence offspring developmental trajectories in social wasps.\n",
      "-----------\n",
      "\n",
      "Query: nourishment and sensation\n",
      "\n",
      "1) A superior vertical dermal pedicle for the nipple-areola: an alternative for severe breast hypertrophy and ptosis.\n",
      "\n",
      "2) [Nourishment in old age and high cuisine].\n",
      "\n",
      "3) A world without the olfactory dimension.\n",
      "-----------\n",
      "\n",
      "Query: sustenance and psychology\n",
      "\n",
      "1) Historical Sustenance Style and Social Orientations in China: Chinese Mongolians Are More Independent Than Han Chinese.\n",
      "\n",
      "2) Effect of levitra on sustenance of erection (EROS): an open-label, prospective, multicenter, single-arm study to investigate erection duration measured by stopwatch with flexible dose vardenafil administered for 8 weeks in subjects with erectile dysfunction.\n",
      "\n",
      "3) A modern conceptualization of phobia in al-Balkhi's 9th century treatise: Sustenance of the Body and Soul.\n",
      "-----------\n",
      "\n",
      "Query: sustenance and mental health\n",
      "\n",
      "1) Motivations of persons with psychiatric disabilities to work in mental health peer services: a qualitative study using self-determination theory.\n",
      "\n",
      "2) Spirituality as sustenance for mental health and meaningful doing: a case illustration.\n",
      "\n",
      "3) Finding the Why, Changing the How: Improving the Mental Health of Medical Students, Residents, and Physicians.\n",
      "-----------\n",
      "\n",
      "Query: sustenance and feel\n",
      "\n",
      "1) A modern conceptualization of phobia in al-Balkhi's 9th century treatise: Sustenance of the Body and Soul.\n",
      "\n",
      "2) Through the touch of god: child death and spiritual sustenance in a Hutterian colony.\n",
      "\n",
      "3) Applying Multi-Theory Model (MTM) of Health Behavior Change to Predict Water Consumption Instead of Sugar-Sweetened Beverages.\n",
      "-----------\n",
      "\n",
      "Query: sustenance and mood\n",
      "\n",
      "1) Obsessional Disorders in al-Balkhi's 9th century treatise: Sustenance of the Body and Soul.\n",
      "\n",
      "2) Depressive mood and obesity in US adults: comparison and moderation by sex, age, and race.\n",
      "\n",
      "3) How Does Perceived Health Status Affect Depression in Older Adults? Roles of Attitude toward Aging and Social Support.\n",
      "-----------\n",
      "\n",
      "Query: sustenance and sensation\n",
      "\n",
      "1) Radiation-Related Alterations of Taste Function in Patients With Head and Neck Cancer: a Systematic Review.\n",
      "\n",
      "2) [A study on clinical and electrophysiologic characteristics of ventricular tachycardia: comparison of differences on its sustenance].\n",
      "\n",
      "3) Genomic and Transcriptomic Basis of Hanseniaspora vineae's Impact on Flavor Diversity and Wine Quality.\n",
      "-----------\n",
      "\n",
      "Query: aliment and psychology\n",
      "\n",
      "1) Systematic review: psychosocial factors associated with pain in inflammatory bowel disease.\n",
      "\n",
      "2) Evaluating the eight-item Patient Health Questionnaire's psychometric properties with Mexican and Central American descent university students.\n",
      "\n",
      "3) Social Representation of \"Loud Music\" in Young Adults: A Cross-Cultural Study.\n",
      "-----------\n",
      "\n",
      "Query: aliment and mental health\n",
      "\n",
      "1) Letter: improvements in mental health after faecal microbiota transplantation-an underexplored treatment-related benefit? Authors' reply.\n",
      "\n",
      "2) Letter: improvements in mental health after faecal microbiota transplantation-an underexplored treatment-related benefit?\n",
      "\n",
      "3) Systematic review with meta-analysis: online psychological interventions for mental and physical health outcomes in gastrointestinal disorders including irritable bowel syndrome and inflammatory bowel disease.\n"
     ]
    },
    {
     "name": "stdout",
     "output_type": "stream",
     "text": [
      "-----------\n",
      "\n",
      "Query: aliment and feel\n",
      "\n",
      "1) Systematic review: psychosocial factors associated with pain in inflammatory bowel disease.\n",
      "\n",
      "2) Social Representation of \"Loud Music\" in Young Adults: A Cross-Cultural Study.\n",
      "\n",
      "3) Effects of disturbed sleep on gastrointestinal and somatic pain symptoms in irritable bowel syndrome.\n",
      "-----------\n",
      "\n",
      "Query: aliment and mood\n",
      "\n",
      "1) Review article: bugs, inflammation and mood-a microbiota-based approach to psychiatric symptoms in inflammatory bowel diseases.\n",
      "\n",
      "2) Letter: the relationship between diet, mood and mucosal healing in coeliac disease remains to be verified-authors' reply.\n",
      "\n",
      "3) Letter: the relationship between diet, mood and mucosal healing in coeliac disease remains to be verified.\n",
      "-----------\n",
      "\n",
      "Query: aliment and sensation\n",
      "\n",
      "1) Physicochemical and sensory analysis of craft beer made with soursop (Annona muricata L.).\n",
      "\n",
      "2) An evaluation of the mechanical and sensory characteristics of selected foodstuffs for senior citizens.\n",
      "\n",
      "3) Improvement of viability of probiotic bacteria, organoleptic qualities and physical characteristics in kefir using transglutaminase and xanthan.\n",
      "-----------\n",
      "\n",
      "Query: alimentation and psychology\n",
      "\n",
      "1) Impact of metabolic surgery on health-related quality of life and quality of alimentation.\n",
      "\n",
      "2) Sedation, alimentation, hydration, and equivocation: careful conversation about care at the end of life.\n",
      "\n",
      "3) Qualification of Food Intake by the Roma Population in the Region of South Bohemia.\n",
      "-----------\n",
      "\n",
      "Query: alimentation and mental health\n",
      "\n",
      "1) DIAGNOSTIC CLASSIFICATION OF MENTAL HEALTH AND DEVELOPMENTAL DISORDERS OF INFANCY AND EARLY CHILDHOOD DC:0-5: SELECTIVE REVIEWS FROM A NEW NOSOLOGY FOR EARLY CHILDHOOD PSYCHOPATHOLOGY.\n",
      "\n",
      "2) EATING AND FEEDING DISORDERS IN THE FIRST FIVE YEARS OF LIFE: REVISING THE DC:0-3R DIAGNOSTIC CLASSIFICATION OF MENTAL HEALTH AND DEVELOPMENTAL DISORDERS OF INFANCY AND EARLY CHILDHOOD AND RATIONALE FOR THE NEW DC:0-5 PROPOSED CRITERIA.\n",
      "\n",
      "3) Impact of metabolic surgery on health-related quality of life and quality of alimentation.\n",
      "-----------\n",
      "\n",
      "Query: alimentation and feel\n",
      "\n",
      "1) [Emotional therapies for overweight or obesity].\n",
      "\n",
      "2) Influence of maternal reflective functioning on mothers' and children's weight: A follow-up study.\n",
      "\n",
      "3) IMPACT OF PARENTAL BINGE EATING DISORDER: EXPLORING CHILDREN'S EMOTIONAL/BEHAVIORAL PROBLEMS AND THE QUALITY OF PARENT-CHILD FEEDING INTERACTIONS.\n",
      "-----------\n",
      "\n",
      "Query: alimentation and mood\n",
      "\n",
      "1) Does feed restriction and re-alimentation differently affect lipid content and metabolism according to muscle type in pigs (Sus scrofa)?\n",
      "\n",
      "2) Sedation, alimentation, hydration, and equivocation: careful conversation about care at the end of life.\n",
      "\n",
      "3) All or nothing: Switch to high current reproductive investment under risk of starvation in male kelp crab.\n",
      "-----------\n",
      "\n",
      "Query: alimentation and sensation\n",
      "\n",
      "1) Restoration of laryngopharyngeal sensation by neural anastomosis.\n",
      "\n",
      "2) Development of Full Sweet, Umami, and Bitter Taste Responsiveness Requires Regulator of G protein Signaling-21 (RGS21).\n",
      "\n",
      "3) Vasectomy reversal with ultrasonography-guided spermatic cord block.\n",
      "-----------\n",
      "\n",
      "Query: victuals and psychology\n",
      "-----------\n",
      "\n",
      "Query: victuals and mental health\n",
      "-----------\n",
      "\n",
      "Query: victuals and feel\n",
      "-----------\n",
      "\n",
      "Query: victuals and mood\n",
      "-----------\n",
      "\n",
      "Query: victuals and sensation\n",
      "-----------\n",
      "\n",
      "Query: food and psychology\n",
      "\n",
      "1) COVID-19 disease and nutritional choices: How will the pandemic reconfigure our food psychology and habits? A case study of the Italian population.\n",
      "\n",
      "2) The Psychology of Food Cravings: the Role of Food Deprivation.\n",
      "\n",
      "3) Diagnostic, clinical, and personality correlates of food anxiety during a food exposure in patients diagnosed with an eating disorder.\n",
      "-----------\n",
      "\n",
      "Query: food and mental health\n",
      "\n",
      "1) Food insecurity is associated with mental health problems among Canadian youth.\n",
      "\n",
      "2) Unpacking the \"black box\" of global food insecurity and mental health.\n",
      "\n",
      "3) Food insecurity and mental health during the COVID-19 pandemic.\n",
      "-----------\n",
      "\n",
      "Query: food and feel\n",
      "\n",
      "1) How do you feel? Preverbal infants match negative emotions to events.\n",
      "\n",
      "2) Influence of emotions evoked by life events on food choice.\n",
      "\n",
      "3) Are Maternal Feeding Practices and Mealtime Emotions Associated with Toddlers' Food Neophobia? A Follow-Up to the DIT-Coombe Hospital Birth Cohort in Ireland.\n",
      "-----------\n",
      "\n",
      "Query: food and mood\n",
      "\n",
      "1) Food for mood: Experimentally induced negative affect triggers loss of control over eating in adolescents with low inhibitory control.\n",
      "\n",
      "2) Food and Mood: the Corresponsive Effect.\n",
      "\n",
      "3) Mindfulness, mood, and food: The mediating role of positive affect.\n",
      "-----------\n",
      "\n",
      "Query: food and sensation\n",
      "\n",
      "1) Food Sensation Modulates Locomotion by Dopamine and Neuropeptide Signaling in a Distributed Neuronal Network.\n",
      "\n",
      "2) Behavioral measures of risk tasking, sensation seeking and sensitivity to reward may reflect different motivations for spicy food liking and consumption.\n",
      "\n",
      "3) Metallic Sensation-Just an Off-Flavor or a Biologically Relevant Sensing Pathway?\n",
      "-----------\n",
      "\n",
      "Query: nutrient and psychology\n",
      "\n",
      "1) Nutrient-wide association study of 92 foods and nutrients and breast cancer risk.\n",
      "\n",
      "2) Relationship between Autistic Traits and Nutrient Intake among Japanese Children and Adolescents.\n",
      "\n",
      "3) Self-Reported Diet Quality Differentiates Nutrient Intake, Blood Nutrient Status, Mood, and Cognition: Implications for Identifying Nutritional Neurocognitive Risk Factors in Middle Age.\n",
      "-----------\n",
      "\n",
      "Query: nutrient and mental health\n",
      "\n",
      "1) Mental health problems in relation to eating behavior patterns, nutrient intakes and health related quality of life among Iranian female adolescents.\n",
      "\n",
      "2) Food Insecurity, Poor Diet Quality, and Suboptimal Intakes of Folate and Iron Are Independently Associated with Perceived Mental Health in Canadian Adults.\n",
      "\n",
      "3) Dietary Fibre Intervention for Gut Microbiota, Sleep, and Mental Health in Adults with Irritable Bowel Syndrome: A Scoping Review.\n",
      "-----------\n",
      "\n",
      "Query: nutrient and feel\n",
      "\n",
      "1) Self-Reported Diet Quality Differentiates Nutrient Intake, Blood Nutrient Status, Mood, and Cognition: Implications for Identifying Nutritional Neurocognitive Risk Factors in Middle Age.\n",
      "\n",
      "2) Cognitive and Mood Effects of a Nutrient Enriched Breakfast Bar in Healthy Adults: A Randomised, Double-Blind, Placebo-Controlled, Parallel Groups Study.\n",
      "\n",
      "3) Nutritional Support of Neurodevelopment and Cognitive Function in Infants and Young Children-An Update and Novel Insights.\n",
      "-----------\n",
      "\n",
      "Query: nutrient and mood\n",
      "\n",
      "1) Self-Reported Diet Quality Differentiates Nutrient Intake, Blood Nutrient Status, Mood, and Cognition: Implications for Identifying Nutritional Neurocognitive Risk Factors in Middle Age.\n",
      "\n",
      "2) Cognitive and Mood Effects of a Nutrient Enriched Breakfast Bar in Healthy Adults: A Randomised, Double-Blind, Placebo-Controlled, Parallel Groups Study.\n",
      "\n",
      "3) Improvement of karst soil nutrients by arbuscular mycorrhizal fungi through promoting nutrient release from the litter.\n",
      "-----------\n",
      "\n",
      "Query: nutrient and sensation\n",
      "\n",
      "1) Similar taste-nutrient relationships in commonly consumed Dutch and Malaysian foods.\n",
      "\n",
      "2) Nutrient, non-nutrient and sensory profile of peeled and unpeeled dika (Irvingia gabonensis) fruit juice.\n",
      "\n",
      "3) Review: Chemosensing of nutrients and non-nutrients in the human and porcine gastrointestinal tract.\n"
     ]
    }
   ],
   "source": [
    "#https://pubmed.ncbi.nlm.nih.gov/?term=mental+health+and+nutrition&filter=pubt.systematicreview\n",
    "from Bio import Entrez\n",
    "i = 1\n",
    "for (food, mood) in combine_keywords:\n",
    "    query = food + ' and ' + mood\n",
    "    results = search(query, 3)\n",
    "    id_list = results['IdList']\n",
    "    papers = fetch_details(id_list)\n",
    "    print('-----------\\n\\nQuery:', query)\n",
    "    if papers is not None:\n",
    "        for i, paper in enumerate(papers['PubmedArticle']):\n",
    "            print(\"\\n{}) {}\".format(i+1, paper['MedlineCitation']['Article']['ArticleTitle']))\n",
    "    #        if (paper['MedlineCitation']['Article'].get('Abstract') is not None):\n",
    "    #            print(\"----\\n{}\".format(paper['MedlineCitation']['Article'].get('Abstract').get('AbstractText')))\n",
    "                #print(\"----\\n{}\".format(paper['MedlineCitation']['Article']))"
   ]
  },
  {
   "cell_type": "markdown",
   "id": "144d0fae",
   "metadata": {
    "id": "144d0fae"
   },
   "source": [
    "#### ✎ Only some keywords that render the revelant results"
   ]
  },
  {
   "cell_type": "markdown",
   "id": "0820da5c",
   "metadata": {
    "id": "0820da5c"
   },
   "source": [
    "#### Try the most effective keywords"
   ]
  },
  {
   "cell_type": "code",
   "execution_count": null,
   "id": "ac72b7c0",
   "metadata": {
    "id": "ac72b7c0",
    "outputId": "c4fd9516-890c-473b-b68a-69ace7503a2c"
   },
   "outputs": [
    {
     "name": "stdout",
     "output_type": "stream",
     "text": [
      "-----------\n",
      "\n",
      "Query: nutrition and mental health\n",
      "\n",
      "1) Correlates associated with mental health and nutritional status in Lebanese older adults: A cross-sectional study.\n",
      "----\n",
      "[StringElement('To assess correlates of mental and nutritional health among elderly in Lebanon, inside nursing homes compared to their private homes.', attributes={'Label': 'OBJECTIVE'}), StringElement('This cross-sectional study was conducted between June and August 2016 on 500 elderly.', attributes={'Label': 'METHODS'}), StringElement('Higher somatic (Beta\\u2009=\\u20090.259) and cognitive anxiety (Beta\\u2009=\\u20090.508), increased age (Beta\\u2009=\\u20090.174) were significantly associated with higher depression, whereas having a secondary (Beta\\u2009=\\u2009-4.006) and a university (Beta\\u2009=\\u2009-6.829) levels of education compared to illiteracy, living home (Beta\\u2009=\\u2009-2.557) compared to living in a nursing home and male gender (Beta\\u2009=\\u2009-1.280) were significantly associated with lower depression. Increased BMI (Beta\\u2009=\\u20090.056), a married (Beta\\u2009=\\u20090.687) and a widowed (Beta\\u2009=\\u20091.022) status compared to a single status were associated with a better nutritional status, whereas an increased somatic anxiety (Beta\\u2009=\\u2009-0.061), secondary (Beta\\u2009=\\u2009-0.79) and university (Beta\\u2009=\\u2009-1.196) educational levels compared to illiteracy were significantly associated with a worse nutritional status. Increased cognitive (Beta\\u2009=\\u20091.160) and affective (Beta\\u2009=\\u20090.788) anxiety and age (Beta\\u2009=\\u20090.191) were associated with higher stress, whereas a primary (Beta\\u2009=\\u2009-6.991), secondary (Beta\\u2009=\\u2009-11.812) and university (Beta\\u2009=\\u2009-13.927) educational levels, male gender (Beta\\u2009=\\u2009-2.015) were significantly associated with lower stress compared to females. A significantly higher mean depression score was found in patients living in nursing homes compared to those living at home (13.74 vs. 11.18). No difference was found between the two groups concerning the nutritional status and stress score.', attributes={'Label': 'RESULTS'}), StringElement('Living in nursing homes was associated with more malnutrition and depression. An increased awareness of the personnel working in nursing homes and family members of these older adults can help improve their psychological status.', attributes={'Label': 'CONCLUSION'})]\n",
      "\n",
      "2) Mental health symptoms and their relations with dietary diversity and nutritional status among mothers of young children in eastern Democratic Republic of the Congo.\n",
      "----\n",
      "[StringElement(\"In developing countries, maternal mental health problems have been linked to sub-optimal child feeding practices and child underweight and stunting, but little is known about how maternal mental health is associated with mothers' own diets and nutritional status. The objective of the study was to investigate the association between mental health symptoms and diet and nutritional status of mothers of young children in South Kivu, DR Congo.\", attributes={'Label': 'BACKGROUND', 'NlmCategory': 'BACKGROUND'}), StringElement('Participants were 828 mothers of young children enrolled in a larger, quasi-experimental study evaluating a multi-year food security and nutrition project. The present analysis was conducted with cross-sectional data collected from 2015 to 2016. We assessed symptoms of anxiety and depression using the Hopkins Symptom Checklist-25 (HSCL-25) and post-traumatic stress disorder (PTSD) with the Harvard Trauma Questionnaire (HTQ), using a four-point Likert scale. Mean scale scores were calculated ranging from one to four. A variable was created for high distress (participants scoring in the upper quartile of both measures). Dietary diversity scores were calculated from the number of food groups (range zero to ten)\\xa0consumed the previous day, identified from an open recall. Nutritional status was measured by body mass index (BMI) and underweight (BMI\\u2009<\\u200918.5\\u2009kg/m<sup>2</sup>, or mid-upper arm circumference\\u2009<\\u200923\\u2009cm for pregnant women). Bivariate and multivariate (adjusting for parent study intervention group, education, age, health, parity, livelihoods zone, and territory of origin) regression analyses were conducted.', attributes={'Label': 'METHODS', 'NlmCategory': 'METHODS'}), StringElement('Maternal mental health measures were positively and statistically significantly associated with higher dietary diversity scores in adjusted analyses (HSCL-25: ß= 0.18, p\\u2009=\\u20090.002, HTQ: ß= 0.12, p\\u2009=\\u20090.029, High Distress: ß= 0.47, p\\u2009<\\u20090.001). Mental health symptoms were not significantly associated with BMI (HSCL-25: ß\\u2009=\\u2009-\\u20090.04, p\\u2009=\\u20090.824; HTQ: ß\\u2009=\\u20090.02, p\\u2009=\\u20090.913; High distress: ß= -\\u20090.02, p\\u2009=\\u20090.938) or underweight (HSCL 25: OR\\u2009=\\u20090.91, p\\u2009=\\u20090.640; HTQ: OR\\u2009=\\u20091.03, p\\u2009=\\u20090.866; High distress: OR\\u2009=\\u20090.78, p\\u2009=\\u20090.489).', attributes={'Label': 'RESULTS', 'NlmCategory': 'RESULTS'}), StringElement('More severe maternal mental health symptoms were associated with higher dietary diversity\\xa0but not nutritional status, and\\xa0the reasons for these findings are not clear from available data. More research is needed to identify underlying factors that could influence mental health symptomatology and diet quality among food insecure and extremely resource-limited populations.', attributes={'Label': 'CONCLUSIONS', 'NlmCategory': 'CONCLUSIONS'})]\n",
      "\n",
      "3) Community canteen services for the rural elderly: determining impacts on general mental health, nutritional status, satisfaction with life, and social capital.\n",
      "----\n",
      "[StringElement(\"The Chinese government is piloting canteen services for older adults, but few studies have explored the influence of canteen services on the health of these older adults. This study aimed to investigate the impact of canteen services on older adults' general mental health, nutritional status, satisfaction with life, and social capital in rural areas.\", attributes={'Label': 'BACKGROUND', 'NlmCategory': 'BACKGROUND'}), StringElement('This study used a cross-sectional design. We selected 14 villages in Jinhua City, Zhejiang Province, China, including seven villages with canteen services and seven villages without canteen services. Participants were 284 senior older adults (aged 75~98), including 140 residing in villages with canteen services (Canteen Group [CG]) and 144 residing in villages without canteen services (Non-Canteen Group [NCG]). We also divided the CG into two sub-groups according to the funding sources (one receiving government support only, the other receiving government support plus enterprise donations). We used a self-designed questionnaire, including sociodemographics, diet-related items (e.g., satisfaction with the meals, diet expenditure, self-evaluation of meal nutrition), and the four scales including the Chinese version of the 12-item General Health Questionnaire (GHQ-12), the Chinese version of the Mini Nutritional Assessment Short-Form (MNA-SF), the Satisfaction with Life Scale (SWLS), and the Social Capital Questionnaire (SCQ).', attributes={'Label': 'METHODS', 'NlmCategory': 'METHODS'}), StringElement('The overall mental health, satisfaction with life, and social capital of the CG were better than the NCG (P\\u2009<\\u2009\\xa00.05). The nutritional status of these two groups did not show a significant difference. Participants in the CG with financial support from local government and donations from an enterprise with a better dietary diversity exhibited a better nutritional status (P\\u2009<\\u2009\\xa00.05); the average satisfaction with diet and self-evaluation of food nutrition of the CG were higher than the NCG (P\\u2009<\\u20090.05); the ratio of having a diet on time in the CG was higher than that of the NCG (P\\u2009<\\u20090.05).', attributes={'Label': 'RESULTS', 'NlmCategory': 'RESULTS'}), StringElement(\"The free canteen services provided by the government can improve older adults' satisfaction with life and diet, and mental health status and also enrich their social capital, but this still needs to be future evidenced. More financial support for canteen services is an essential component in promoting successful aging in China.\", attributes={'Label': 'CONCLUSION', 'NlmCategory': 'CONCLUSIONS'})]\n"
     ]
    },
    {
     "name": "stdout",
     "output_type": "stream",
     "text": [
      "-----------\n",
      "\n",
      "Query: nutrition and feel\n",
      "\n",
      "1) Remaining Socially Connected at 100 and Beyond Reduces Impact of Loneliness on Nutritional Status.\n",
      "----\n",
      "[StringElement(\"Understanding factors influencing centenarians' nutritional status can offer insight into effective nutrition interventions to improve quality of life among this population.\", attributes={'Label': 'BACKGROUND', 'NlmCategory': 'UNASSIGNED'}), StringElement('This cross-sectional study was conducted to evaluate the role of social support and loneliness on nutritional status among Oklahoma centenarians (<i>N</i>\\u2009=\\u2009151).', attributes={'Label': 'OBJECTIVE', 'NlmCategory': 'UNASSIGNED'}), StringElement('Nutritional status was assessed with the Short Form Mini Nutrition Assessment (MNA-SF). Perceived social support was assessed with the 24-item Social Provisions Scale. Loneliness was examined with the 10-item UCLA loneliness scale.', attributes={'Label': 'METHODS', 'NlmCategory': 'UNASSIGNED'}), StringElement('Ordinal logistic regression revealed that those who lacked social support were at increased risk of poor nutritional status (OR = 2.28, <i>p</i>\\u2009<\\u2009.05). Further, the model revealed that centenarians who reported lack of social support and loneliness had almost 2.8 times higher likelihood of being at risk of poor nutritional status compared to their socially connected counterparts (<i>p</i>\\u2009<\\u2009.01).', attributes={'Label': 'RESULTS', 'NlmCategory': 'UNASSIGNED'}), StringElement('Findings have implications for geriatric dietitians, social workers, and clinical counselors seeking to implement services and programs aimed at helping long-lived adults feel socially connected and maintain proper nutritional well-being.', attributes={'Label': 'CONCLUSIONS AND IMPLICATIONS', 'NlmCategory': 'UNASSIGNED'})]\n",
      "\n",
      "2) Correlates associated with mental health and nutritional status in Lebanese older adults: A cross-sectional study.\n",
      "----\n",
      "[StringElement('To assess correlates of mental and nutritional health among elderly in Lebanon, inside nursing homes compared to their private homes.', attributes={'Label': 'OBJECTIVE'}), StringElement('This cross-sectional study was conducted between June and August 2016 on 500 elderly.', attributes={'Label': 'METHODS'}), StringElement('Higher somatic (Beta\\u2009=\\u20090.259) and cognitive anxiety (Beta\\u2009=\\u20090.508), increased age (Beta\\u2009=\\u20090.174) were significantly associated with higher depression, whereas having a secondary (Beta\\u2009=\\u2009-4.006) and a university (Beta\\u2009=\\u2009-6.829) levels of education compared to illiteracy, living home (Beta\\u2009=\\u2009-2.557) compared to living in a nursing home and male gender (Beta\\u2009=\\u2009-1.280) were significantly associated with lower depression. Increased BMI (Beta\\u2009=\\u20090.056), a married (Beta\\u2009=\\u20090.687) and a widowed (Beta\\u2009=\\u20091.022) status compared to a single status were associated with a better nutritional status, whereas an increased somatic anxiety (Beta\\u2009=\\u2009-0.061), secondary (Beta\\u2009=\\u2009-0.79) and university (Beta\\u2009=\\u2009-1.196) educational levels compared to illiteracy were significantly associated with a worse nutritional status. Increased cognitive (Beta\\u2009=\\u20091.160) and affective (Beta\\u2009=\\u20090.788) anxiety and age (Beta\\u2009=\\u20090.191) were associated with higher stress, whereas a primary (Beta\\u2009=\\u2009-6.991), secondary (Beta\\u2009=\\u2009-11.812) and university (Beta\\u2009=\\u2009-13.927) educational levels, male gender (Beta\\u2009=\\u2009-2.015) were significantly associated with lower stress compared to females. A significantly higher mean depression score was found in patients living in nursing homes compared to those living at home (13.74 vs. 11.18). No difference was found between the two groups concerning the nutritional status and stress score.', attributes={'Label': 'RESULTS'}), StringElement('Living in nursing homes was associated with more malnutrition and depression. An increased awareness of the personnel working in nursing homes and family members of these older adults can help improve their psychological status.', attributes={'Label': 'CONCLUSION'})]\n",
      "\n",
      "3) Association between Postpartum Nutritional Status and Postpartum Depression Symptoms.\n",
      "----\n",
      "['Taiwanese women may practice traditional confinement after childbirth, and no study has investigated the nutritional status and the effects of postpartum depression on such women. The aim of this study was to investigate the association between nutritional status and postpartum depression at 6-8 weeks postpartum. A cross-sectional study was conducted on postpartum women who returned to the obstetrics and gynecology clinic for routine examination from January 2016 to September 2017. A total of 344 women received assessments based on the Edinburgh Postnatal Depression Scale (EPDS). An EPDS score of ≥10 indicated the presence of postpartum depressive symptoms (PPDS). A total of 97 women without such symptoms and 23 with PPDS completed nutritional parameter analyses and questionnaires. The results showed that the prevalence of postpartum depression (PPD) was 8.4%. The proportion was 70% for those who practiced confinement at home, significantly higher than for those in the non-PPDS group (45%). The overall psychological stress score was significantly higher and the postpartum care satisfaction score was significantly lower in those with PPDS compared to those without. In terms of nutritional biomarkers, the plasma riboflavin levels in the PPDS group were significantly lower than those in their symptomless counterparts (13.9%). The vitamin D insufficiency and deficiency rates in the non-PPD and PPDS groups were 35%, 41%, 48%, 26%, respectively. However, compared with those in the non-PPDS group, those with PPDS had significantly higher ratios of Σn-6/Σn-3, C20:3n-6/C18:3n-6, and C20:4n-6/(C20:5n-3 + C22:6n-3) (by 8.2%, 79.7%, and 8.8%, respectively), whereas they had lower ratios of C22:6n-3/C22:5n-6 (by 15.5%). Higher plasma riboflavin and erythrocyte C16:1n-9, C24:1n-9, C18:3n-6, and C20:5n-3 levels and lower Σn-6 fatty acid and C22:5n-6 levels decreased the risk of PPD after type of confinement, overall mental stress scores, and postpartum care satisfaction scores were adjusted for the logistic regression analysis. In conclusion, the plasma riboflavin level and erythrocyte fatty acid composition are potentially major contributors to PPD development.']\n",
      "-----------\n",
      "\n",
      "Query: nutrition and mood\n",
      "\n",
      "1) Does Depressive Affect Mediate the Relationship between Self-Care Capacity and Nutritional Status Among Rural Older Adults? : A Structural Equation Modeling Approach.\n",
      "----\n",
      "[\"This study examined the relationships of self-care capacity and depressive affect on nutritional status and whether depressive affect mediated the relationship of self-care capacity on nutritional status. A convenience sample of 171 rural community-dwelling older adults, 65 years and above, participated. Structural equation modeling (SEM) was conducted to test a mediation model. The hypothesized SEM model was supported with adequate fit (χ<sup>2</sup> (1)\\u2009=\\u20091.87, p\\u2009=\\u20090.17; CFI\\u2009=\\u20090.94; RMSEA\\u2009=\\u20090.07; SRMR\\u2009=\\u20090.03). SEM analysis revealed a significant positive direct effect of self-care capacity on nutritional status (γ\\u2009=\\u20090.14, p\\u2009=\\u20090.042). Significant negative direct effects were observed for self-care capacity on depressive affect (γ\\u2009=\\u2009-0.15, p\\u2009=\\u20090.027) and for depressive affect on nutritional status (β\\u2009=\\u2009-0.27, p\\u2009<\\u20090.01). Depressive affect was also observed to partially mediate the relationship of self-care capacity on nutrition status (γ\\u2009=\\u20090.04, p\\u2009=\\u20090.046). Findings highlight the importance of emotional well-being on rural older adults' nutritional status, particularly those with decreased ability to engage in self-care practices.\"]\n",
      "\n",
      "2) A Two-Year Longitudinal Study of the Association between Oral Frailty and Deteriorating Nutritional Status among Community-Dwelling Older Adults.\n",
      "----\n",
      "[StringElement('Limited longitudinal studies exist to evaluate whether poor oral health and functions affect the incidence of deteriorating nutritional status. We investigated if there were longitudinal associations between oral frailty, defined as accumulated deficits in oral health, and deteriorating nutritional status among community-dwelling older adults.', attributes={'Label': 'BACKGROUND'}), StringElement('The study population consisted of 191 men and 275 women (mean age, 76.4 years) from the Takashimadaira Study. Multifaced oral health assessment was performed at baseline, and oral frailty was defined as having ≥3 of the following six components: fewer teeth, low masticatory performance, low articulatory oral motor skill, low tongue pressure, and difficulties in chewing and swallowing. Nutritional status assessment was performed at baseline and two-year follow-up using the Mini Nutritional Assessment<sup>®</sup>-Short Form (MNA<sup>®</sup>-SF). Deteriorating nutritional status was defined as a decline in the nutritional status categories based on the MNA<sup>®</sup>-SF score during the study period. The association between oral frailty and deteriorating nutritional status was assessed using logistic regression analyses.', attributes={'Label': 'METHODS'}), StringElement('Oral frailty was observed in 67 (14.4%) participants at baseline. During the study, 58 (12.4%) participants exhibited deteriorating nutritional status. After adjusting for potential confounders, oral frailty was significantly associated with deteriorating nutritional status (adjusted odds ratio, 2.24; 95% confidence interval, 1.08-4.63).', attributes={'Label': 'RESULTS'}), StringElement('Community-dwelling older adults with oral frailty had an increased risk of deteriorating nutritional status.', attributes={'Label': 'CONCLUSION'})]\n",
      "\n",
      "3) Nutritional status as a predictor of comprehensive activities of daily living function and quality of life in patients with stroke.\n",
      "----\n",
      "[StringElement('Nutritional status could affect functional capacity and reduce quality of life in patients with stroke. Although the associations between nutritional status, basic activities of daily living (BADL)/Instrumental ADL, and quality of life (QOL) in older people have been identified, the relationships have not yet been examined in patients with stroke, using the full Mini Nutritional Assessment (MNA) or MNA-short form (MNA-SF).', attributes={'Label': 'BACKGROUND', 'NlmCategory': 'BACKGROUND'}), StringElement('This study aimed to examine the relationship between nutritional status (using full MNA and MNA-SF), comprehensive ADL function, and QOL in patients with stroke.', attributes={'Label': 'OBJECTIVE', 'NlmCategory': 'OBJECTIVE'}), StringElement('Eighty-two patients with ischemic stroke participated in this cross-sectional design study. Each participant was assessed with the full MNA, MNA-SF, comprehensive ADL function (including Barthel Index and Frenchay Activities Index), and WHO Quality of Life Questionnaire (WHOQOL-BREF) once.', attributes={'Label': 'METHODS', 'NlmCategory': 'METHODS'}), StringElement('The MNA-SF was only significantly correlated with the comprehensive ADL function (rho\\u200a=\\u200a0.27, p\\u200a=\\u200a0.013), whereas, the full MNA was found to be significantly correlated with the comprehensive ADL function and WHOQOL-BREF (rho\\u200a=\\u200a0.24, p\\u200a=\\u200a0.029 and rho\\u200a=\\u200a0.30, p\\u200a=\\u200a0.005, respectively). The MNA-SF was a significant predictor of comprehensive ADL function, accounting for 44% of the variance. The full MNA was the only significant predictor of the WHOQOL-BREF, explaining 17% of the variance.', attributes={'Label': 'RESULTS', 'NlmCategory': 'RESULTS'}), StringElement('This study has revealed a relationship between nutritional status, comprehensive ADL function, and QOL among patients with stroke. Patients with stroke with better nutritional status had higher ADL function as well as better QOL. The MNA-SF was useful in predicting comprehensive ADL, whereas, the full MNA could be used to predict QOL. Knowledge and evidence of the association and predictive power of the MNA-SF and full MNA could guide clinicians to choose tools for assessing the nutritional status of patients with stroke more effectively.', attributes={'Label': 'CONCLUSIONS', 'NlmCategory': 'CONCLUSIONS'})]\n"
     ]
    },
    {
     "name": "stdout",
     "output_type": "stream",
     "text": [
      "-----------\n",
      "\n",
      "Query: food and psychology\n",
      "\n",
      "1) COVID-19 disease and nutritional choices: How will the pandemic reconfigure our food psychology and habits? A case study of the Italian population.\n",
      "----\n",
      "[StringElement(\"In Italy, the spread of the novel coronavirus (SARS-Cov-2) required lifestyle changes that have affected food choices and people's health condition. We explore people's perception of the role of food consumption as a preventive measure and how it reconfigures consumption habits.\", attributes={'Label': 'BACKGROUND AND AIMS'}), StringElement('We conducted an online survey of a representative sample of 1004 Italian citizens. Around 40% of the population perceive that strengthening the immune defences through nutrition is not important to reduce the risk of coronavirus disease 2019 (COVID-19) infection. People with lower levels of perceived importance are slightly younger and have a less healthy lifestyle. They are less worried about the emergency. During the last months, they have bought less food supplements and also intend to decrease their purchase in the next 6 months.', attributes={'Label': 'METHOD AND RESULTS'}), StringElement('In COVID-19 pandemic, scholars underline the importance of having a strong immune system. However, the Italians who attribute less importance to food that helps the immune system seem to differ negatively in their psychological attitude towards the emergency and food consumption. Today, Italians are asked to engage in preventive food practices to protect against possible chronic diseases; exploring their perceptions is important to orient them towards this change.', attributes={'Label': 'CONCLUSION'})]\n",
      "\n",
      "2) The Psychology of Food Cravings: the Role of Food Deprivation.\n",
      "----\n",
      "[StringElement('Dieting is often blamed for causing food cravings. Such diet-induced cravings may be mediated by physiological (e.g., nutritional deprivation) or psychological (e.g., ironic effects of food thought suppression) mechanisms. However, this notion is often based on cross-sectional findings and, thus, the causal role of food deprivation on food cravings is unclear.', attributes={'Label': 'PURPOSE OF REVIEW'}), StringElement(\"Experimental studies suggest that a short-term, selective food deprivation seems to indeed increase cravings for the avoided foods. However, experimental studies also show that food craving can be understood as a conditioned response that, therefore, can also be unlearned. This is supported by intervention studies which indicate that long-term energy restriction results in a reduction of food cravings in overweight adults. Dieting's bad reputation for increasing food cravings is only partially true as the relationship between food restriction and craving is more complex. While short-term, selective food deprivation may indeed increase food cravings, long-term energy restriction seems to decrease food cravings, suggesting that food deprivation can also facilitate extinction of conditioned food craving responses.\", attributes={'Label': 'RECENT FINDINGS'})]\n",
      "\n",
      "3) Diagnostic, clinical, and personality correlates of food anxiety during a food exposure in patients diagnosed with an eating disorder.\n",
      "----\n",
      "[StringElement('Eating disorders are characterized by high levels of anxiety, especially while eating. However, little is known about anxiety experienced during meals and specifically what other variables may impact such anxiety.', attributes={'Label': 'BACKGROUND', 'NlmCategory': 'BACKGROUND'}), StringElement('We sought to further quantify and understand the relationship between food anxiety, eating disorders, and related correlates (e.g., comorbid diagnoses, personality).', attributes={'Label': 'OBJECTIVE', 'NlmCategory': 'OBJECTIVE'}), StringElement('In the current study [N\\u2009=\\u200942 participants diagnosed with an eating disorder (n\\u2009=\\u200936 participants with anorexia nervosa)], we quantified anxiety before, during, and after a meal using data from a food exposure session in a partial hospital eating disorder center. We examined diagnostic, personality, and clinical factors as correlates of food anxiety.', attributes={'Label': 'METHODS', 'NlmCategory': 'METHODS'}), StringElement('Participants were more likely to experience higher food anxiety if they had a current diagnosis of major depression, obsessive-compulsive disorder, or post-traumatic stress disorder (PTSD). Concern over mistakes was the strongest and most consistent correlate of food anxiety regardless of time during the meal that anxiety was assessed. Other significant correlates were fear of positive evaluation, social appearance anxiety, BMI, and trust.', attributes={'Label': 'RESULTS', 'NlmCategory': 'RESULTS'}), StringElement('These findings show how diagnoses, perfectionism (concern over mistakes), and other correlates relate to anxiety during meals. Food exposure interventions may benefit from personalizations that address these factors.', attributes={'Label': 'CONCLUSIONS', 'NlmCategory': 'CONCLUSIONS'}), StringElement('IV Evidence from a randomized control trial, but from the first session before effects of the design would be present.', attributes={'Label': 'LEVEL OF EVIDENCE', 'NlmCategory': 'METHODS'})]\n",
      "-----------\n",
      "\n",
      "Query: food and mental health\n",
      "\n",
      "1) Food insecurity is associated with mental health problems among Canadian youth.\n",
      "----\n",
      "[StringElement('Research has linked food insecurity to mental health problems, though little is known about this relationship among Canadian youth. We investigate the association between food insecurity severity and mental illnesses in a nationally representative youth sample.', attributes={'Label': 'BACKGROUND'}), StringElement('We sampled 55\\u2009700 youth 12-24 years from recent cycles of Canadian Community Health Survey. Household food insecurity was measured using a standard 18-item questionnaire. We fitted Poisson regressions on self-rated mental health and diagnosed mood and anxiety disorders, controlling for sociodemographic confounders. Clinical assessments of emotional distress, major depression and suicidal ideation were examined in subsamples with available data. We stratified the sample by gender, age and survey cycle to test potential demographic heterogeneity.', attributes={'Label': 'METHODS'}), StringElement('One in seven youth lived in marginal (5.30%), moderate (8.08%) or severe (1.44%) food insecurity. Results showed that food insecurity was associated with higher likelihood of every mental health problem examined. The association was graded, with more severe food insecurity linked to progressively worse mental health. Notably, marginal, moderate and severe food insecurity were associated with 1.77, 2.44 and 6.49 times higher risk of suicidal thoughts, respectively. The corresponding relative risk for mood disorders were 1.57, 2.00 and 2.89; those for anxiety disorders were 1.41, 1.65 and 2.58. Moderate food insecurity was more closely associated with mental health problems in 18-24\\u2009year olds than in 12-17\\u2009year olds.', attributes={'Label': 'RESULTS'}), StringElement('Food insecurity severity was associated with poorer mental health among Canadian youth independent of household income and other socioeconomic differences. Targeted policy intervention alleviating food insecurity may improve youth mental health.', attributes={'Label': 'CONCLUSIONS'})]\n",
      "\n",
      "2) Unpacking the \"black box\" of global food insecurity and mental health.\n",
      "----\n",
      "[\"Food insecurity is a global concern. While it was once characterized mainly as a problem of undernutrition, it is now recognized that a person may be food insecure without experiencing hunger. Numerous studies have demonstrated that food insecurity is strongly related to poor mental health around the world, but the mechanisms that underpin that relationship remain poorly understood. One body of research from nutritional sciences posits that nutrient deficiency impacts brain function, producing symptoms of depression and anxiety. Another body of research from the social sciences posits that the social consequences of having to eat non-preferred foods or obtain food in socially unacceptable ways may compromise mental health through stress. This study was designed to clarify the mechanisms linking food insecurity and mental health using case studies in rural Brazil and urban Ethiopia. Working with samples consisting of about 200 adult household decision-makers (mostly female) recruited between 2015 and 2019\\xa0at each site, we tested for nutritional and social mediation of the food insecurity-mental health relationship using multivariable linear regression and mediation analysis. Our analyses found no evidence of mediation in either setting. Moreover, there was no association between nutritional status variables and food insecurity. These findings suggest that food insecurity likely impacts mental health directly through forms of basic needs deprivation, such as worrying about where one's next meal will come from, rather than by acting as a social signal or even by impacting nutritional status. These results underscore the power of basic-needs deprivation for impacting mental health.\"]\n",
      "\n",
      "3) Food insecurity and mental health during the COVID-19 pandemic.\n",
      "----\n",
      "[StringElement('Food insecurity has been linked to adverse mental health outcomes. This study assessed the association between household food insecurity and self-perceived mental health status and anxiety symptoms among Canadians in the early months of the COVID-19 pandemic.', attributes={'Label': 'BACKGROUND'}), StringElement(\"The Canadian Perspectives Survey Series 2 collected cross-sectional data from May 4 to 10, 2020, on Canadians aged 15 years or older residing in the ten provinces. The brief six-item Household Food Security Survey Module was used to measure participants' households as food secure or marginally, moderately or severely food insecure within the previous 30 days. Logistic regression was used to assess associations between food security status and self-perceived fair or poor mental health and moderate or severe anxiety symptoms, adjusting for sociodemographic covariates.\", attributes={'Label': 'DATA AND METHODS'}), StringElement('Approximately one in seven Canadians (14.6%) lived in a household that experienced some level of food insecurity. Of these individuals, 9.3% reported recently accessing free food from a community organization. About one in five Canadians self-perceived their mental health as fair or poor (22.0%), or self-reported moderate or severe anxiety symptoms (18.2%). With covariate adjustment, individuals in households with moderate food insecurity had nearly three times higher odds of reporting fair or poor mental health, and moderate or severe anxiety symptoms, compared with individuals in food-secure households. Among those with severe food insecurity, adjusted odds ratios were 4.0 (95% confidence interval [CI]: 2.0 to 7.9) for fair or poor mental health, and 7.6 (95% CI: 3.9 to 14.7) for moderate or severe anxiety symptoms.', attributes={'Label': 'RESULTS'}), StringElement('In the early period of the COVID-19 epidemic in Canada, household food insecurity was independently associated with poorer mental health outcomes. Monitoring both food insecurity and mental health will be important as the COVID-19 pandemic continues.', attributes={'Label': 'DISCUSSION'})]\n"
     ]
    },
    {
     "name": "stdout",
     "output_type": "stream",
     "text": [
      "-----------\n",
      "\n",
      "Query: food and mood\n",
      "\n",
      "1) Food for mood: Experimentally induced negative affect triggers loss of control over eating in adolescents with low inhibitory control.\n",
      "----\n",
      "[StringElement('Loss of control over eating (LOC) is common among adolescents and is associated with negative developmental outcomes. Low self-regulation, and specifically low inhibitory control, is increasingly emphasized as an underlying factor in LOC. However, the specific context in which these capacities fail remains unclear. The affect regulation model proposes that negative affect may trigger LOC; however, research has mostly assessed trait negative affect using questionnaires, whereas measuring state negative affect is needed to determine its triggering role. Therefore, this study examined the interaction between inhibitory control and state negative affect in predicting LOC among adolescents using an experimental mood-induction design.', attributes={'Label': 'OBJECTIVE'}), StringElement('Participants were 50 adolescents (10-18\\u2009years; 76% girls) from the general community. Participants first reported on their self-regulatory and inhibitory control capacities. They were then assigned to a sad or neutral mood-induction (using a film clip), followed by a multi-item food buffet from which they could eat as much as they liked. Finally, participants reported on their experience of loss of control while eating.', attributes={'Label': 'METHOD'}), StringElement('Inhibitory control (but not self-regulation in general) interacted with the mood-induction to predict LOC. Adolescents with low inhibitory control experienced significantly more LOC, but only in the sad mood condition.', attributes={'Label': 'RESULTS'}), StringElement('The experience of negative affect appears to be an important trigger for LOC in adolescents with low inhibitory control. With a view to prevention and early intervention of LOC, inhibitory control training may be most effective in contexts where adolescents experience high levels of negative affect.', attributes={'Label': 'DISCUSSION'})]\n",
      "\n",
      "2) Food and Mood: the Corresponsive Effect.\n",
      "----\n",
      "[StringElement('The question whether food choice and eating behavior influence the mood or are influenced by the mood has been inquisitive to scientists and researchers. The purpose of this review is to support or refuse the argument that mood is affected by food or vice versa.', attributes={'Label': 'PURPOSE OF REVIEW'}), StringElement('The association between food and mood has been comprehensively elucidated in this review based on several studies that include participants from different ages, cultural backgrounds, and health status. The correlation among food, mood, and diseases such as diabetes mellitus, obesity, and depression was thoroughly investigated. The effect of different foods and nutrients on the mood was further explained. It is concluded that the mood significantly affects food intake and food choices. On the other hand, food also influences the mood, which affects the diseases either positively or negatively. Appropriate food choices play a significant role in mood enhancement. Advertisement is another crucial factor that negatively affects food choices and mood and contributes to many diseases. Understanding the interaction between food and mood can help to prevent or alleviate undesired health issues.', attributes={'Label': 'RECENT FINDINGS'})]\n",
      "\n",
      "3) Mindfulness, mood, and food: The mediating role of positive affect.\n",
      "----\n",
      "['With rates of overweight and obesity rising worldwide, it is important to examine psychological factors associated with food intake. Previous research has shown that mindfulness may serve as a protective factor against overconsumption of food. Some studies have posited that mindfulness addresses unhealthy eating by promoting the increased awareness of, and decreased responsiveness to, internal emotional cues. The present study investigated the effects of a brief mindfulness induction on positive and negative affect and subsequent energy intake in a sample of undergraduate students (N\\xa0=\\xa0126). After exposure to a negative mood induction, 63 participants were randomly assigned to a brief mindfulness intervention, while the remaining participants listened to a news article. Subsequently all participants were offered healthful and unhealthful snack foods. Although there was not a significant between-group difference in intake, a multiple mediation model indicated that positive affect, but not negative affect, significantly mediated the association between condition and food intake. Relative to controls, those in the experimental condition reported higher positive affect after the mindfulness induction, which in turn reduced their energy intake. Further exploratory analyses indicated that positive affect in the experimental group was associated with reduced consumption of unhealthful food. These findings provide insight into how mindfulness-based interventions may target unhealthy eating behaviors.']\n",
      "-----------\n",
      "\n",
      "Query: nutrient and psychology\n",
      "\n",
      "1) Nutrient-wide association study of 92 foods and nutrients and breast cancer risk.\n",
      "----\n",
      "[StringElement('Several dietary factors have been reported to be associated with risk of breast cancer, but to date, unequivocal evidence only exists for alcohol consumption. We sought to systematically assess the association between intake of 92 foods and nutrients and breast cancer risk using a nutrient-wide association study.', attributes={'Label': 'BACKGROUND'}), StringElement('Using data from 272,098 women participating in the European Prospective Investigation into Cancer and Nutrition (EPIC) study, we assessed dietary intake of 92 foods and nutrients estimated by dietary questionnaires. Cox regression was used to quantify the association between each food/nutrient and risk of breast cancer. A false discovery rate (FDR) of 0.05 was used to select the set of foods and nutrients to be replicated in the independent Netherlands Cohort Study (NLCS).', attributes={'Label': 'METHODS'}), StringElement('Six foods and nutrients were identified as associated with risk of breast cancer in the EPIC study (10,979 cases). Higher intake of alcohol overall was associated with a higher risk of breast cancer (hazard ratio (HR) for a 1 SD increment in intake\\u2009=\\u20091.05, 95% CI 1.03-1.07), as was beer/cider intake and wine intake (HRs per 1 SD increment\\u2009=\\u20091.05, 95% CI 1.03-1.06 and 1.04, 95% CI 1.02-1.06, respectively), whereas higher intakes of fibre, apple/pear, and carbohydrates were associated with a lower risk of breast cancer (HRs per 1 SD increment\\u2009=\\u20090.96, 95% CI 0.94-0.98; 0.96, 95% CI 0.94-0.99; and 0.96, 95% CI 0.95-0.98, respectively). When evaluated in the NLCS (2368 cases), estimates for each of these foods and nutrients were similar in magnitude and direction, with the exception of beer/cider intake, which was not associated with risk in the NLCS.', attributes={'Label': 'RESULTS'}), StringElement('Our findings confirm a positive association of alcohol consumption and suggest an inverse association of dietary fibre and possibly fruit intake with breast cancer risk.', attributes={'Label': 'CONCLUSIONS'})]\n",
      "\n",
      "2) Relationship between Autistic Traits and Nutrient Intake among Japanese Children and Adolescents.\n",
      "----\n",
      "['Increased food selectivity among children with autism spectrum disorder (ASD) may lead to nutritional inadequacy. The present study examined differences in nutrient intake between children and adolescents with and without ASD. We utilized cross-sectional data from the ongoing population Shika Town rural Japanese study. The participants were 1276 Japanese pupils and students aged between 7 and 15 years. ASD traits were evaluated using the Autism Spectrum Screening Questionnaire (ASSQ). Nutrient intake was assessed using a food frequency questionnaire. A one-way analysis of covariance (one-way ANCOVA) was performed to compare the mean nutrient intakes between participants with and without ASD traits. A two-way ANCOVA was conducted to compare the mean nutrient intakes among participants with and without ASD traits in different age groups (children and adolescents). The results obtained showed that the intake of carbohydrates and slightly lower intakes of protein, fat, calcium, magnesium, phosphorus, iron, zinc, retinol, vitamin B2, vitamin B12, folic acid, and pantothenic acid were higher among children and adolescents with ASD than among those without ASD. No interactions were observed between the autistic groups and age groups, excluding energy intakes. The present results indicate the importance of screening the nutrient intakes of ASD children and adolescents.']\n",
      "\n",
      "3) Self-Reported Diet Quality Differentiates Nutrient Intake, Blood Nutrient Status, Mood, and Cognition: Implications for Identifying Nutritional Neurocognitive Risk Factors in Middle Age.\n",
      "----\n",
      "['Evidence for diet quality representing a modifiable risk factor for age-related cognitive decline and mood disturbances has typically come from retrospective, cross-sectional analyses. Here a diet screening tool (DST) was used to categorize healthy middle-aged volunteers (<i>n</i> = 141, 40-65 years) into \"optimal\" or \"sub-optimal\" diet groups to investigate cross-sectional associations between diet quality, cognitive function, and mood. The DST distinguished levels of nutrient intake as assessed by Automated Self-Administered 24-h dietary recall and nutrient status, as assessed by blood biomarker measures. Compared with the \"sub-optimal\" group, the \"optimal\" diet group showed significantly higher intake of vitamin E (<i>p</i> = 0.007), magnesium (<i>p</i> = 0.001), zinc (<i>p</i> = 0.043) and fiber (<i>p</i> = 0.015), higher circulating levels of vitamin B6 (<i>p</i> = 0.030) and red blood cell folate (<i>p</i> = 0.026) and lower saturated fatty acids (<i>p</i> = 0.012). Regarding psychological outcomes, the \"optimal\" diet group had significantly better Stroop processing than those with a \"sub-optimal\" diet (<i>p</i> = 0.013). Regression analysis revealed that higher DST scores were associated with fewer mood disturbances (<i>p</i> = 0.002) and lower perceived stress (<i>p</i> = 0.031), although these differences were not significant when comparing \"optimal\" versus \"sub-optimal\" as discrete groups. This study demonstrates the potential of a 20-item diet screen to identify both nutritional and psychological status in an Australian setting.']\n"
     ]
    },
    {
     "name": "stdout",
     "output_type": "stream",
     "text": [
      "-----------\n",
      "\n",
      "Query: nutrient and mental health\n",
      "\n",
      "1) Mental health problems in relation to eating behavior patterns, nutrient intakes and health related quality of life among Iranian female adolescents.\n",
      "----\n",
      "[StringElement('To identify the association between mental health problems, eating behavior patterns, nutrient intakes and health related quality of life (HRQoL) among Iranian female adolescents.', attributes={'Label': 'AIMS'}), StringElement('The current cross-sectional study conducted among three high-schools randomly selected from 10-day-public high schools in the selected sub-county from Tabriz city-Iran between December 2015 through March 2016. Participants were a sample of 107 adolescent girls aged 15-17 years old. Anthropometric parameters were measured and assessments of HRQoL, mental health problems and eating behavioral patterns were performed by Short Form 36 (SF-36), Strengths and Difficulties Questionnaires (SDQ) and Eating Behavioral Pattern Questionnaire (EBPQ) respectively. Dietary intake was assessed using a semi-quantitative Food-Frequency Questionnaire (FFQ) adapted for the Iranian society. Quality of life was measured with HRQoL questionnaire. Quantitative analysis using independent sample t test was performed for comparison of continuous variables between two subgroups (unlikely, possible/probable) of each category of mental health problem. Multiple logistic regression was used to measure the potential predictors (e.g. eating patterns and HRQoL) of mental health problems in two models of crude and adjusted for age and body mass index (BMI). P values less than 0.05 were considered as statistically significant.', attributes={'Label': 'MATERIALS AND METHODS'}), StringElement(\"Indicators of conduct problems and hyperactivity disorders were the most prevalent mental health problems among female adolescents (25.2% and 18.6% respectively). The prevalence of hyperactivity disorders among female adolescents was 35.5%. Female adolescents in high scores of 'snacking and convenience', 'planning ahead' and 'meal skipping' eating patterns were more likely to have indicators of emotional disorders (P < 0.05). Also, being in the high tertile of 'low fat eating' pattern made adolescents less likely to have hyperactivity disorders (P < 0.05). Moreover, according to our finding, high scores of vitality and mental health components of HRQoL were associated with reduced likelihood of emotional disorders, conduct disorders and hyperactivity disorders. No significant difference in terms of BMI and nutrient intakes in different categories of mental health problems according to SDQ scoring was identified.\", attributes={'Label': 'RESULTS'}), StringElement('In the current study unhealthy eating patterns including \\'snacking and convenience\\', \\'planning ahead\\' and \\'meal skipping\\' eating patterns were positive predictors of \"emotional disorders\" while \"low fat\" eating pattern was negative predictor of hyperactivity disorders.', attributes={'Label': 'CONCLUSIONS'})]\n",
      "\n",
      "2) Food Insecurity, Poor Diet Quality, and Suboptimal Intakes of Folate and Iron Are Independently Associated with Perceived Mental Health in Canadian Adults.\n",
      "----\n",
      "[StringElement('To address nutrition-related population mental health data gaps, we examined relationships among food insecurity, diet quality, and perceived mental health.', attributes={'Label': 'BACKGROUND', 'NlmCategory': 'BACKGROUND'}), StringElement('Stratified and logistic regression analyses of respondents aged 19-70 years from the Canadian Community Health Survey, Cycle 2.2 were conducted (<i>n</i> = 15,546). Measures included the Household Food Security Survey Module, diet quality (i.e., comparisons to the <i>Dietary Reference Intakes</i>, Healthy Eating Index), perceived mental health (poor versus good), sociodemographics, and smoking.', attributes={'Label': 'METHODS', 'NlmCategory': 'METHODS'}), StringElement('In this sample, 6.9% were food insecure and 4.5% reported poor mental health. Stratified analysis of food security and mental health status by age/gender found associations for poor diet quality, protein, fat, fibre, and several micronutrients (<i>p</i>-values < 0.05); those who were food insecure tended to have higher suboptimal intakes (<i>p</i>-values < 0.05). After adjustment for covariates, associations in relation to mental health emerged for food insecurity (OR = 1.60, 95% CI 1.45-1.71), poor diet quality (1.61, 95% CI 1.34-1.81), and suboptimal intakes of folate (OR = 1.58, 95% CI 1.17-1.90) and iron (OR = 1.45, 95% CI 1.23-1.88).', attributes={'Label': 'RESULTS', 'NlmCategory': 'RESULTS'}), StringElement('Population approaches that improve food security and intakes of high quality diets may protect people from poor mental health.', attributes={'Label': 'CONCLUSIONS', 'NlmCategory': 'CONCLUSIONS'})]\n",
      "\n",
      "3) Dietary Fibre Intervention for Gut Microbiota, Sleep, and Mental Health in Adults with Irritable Bowel Syndrome: A Scoping Review.\n",
      "----\n",
      "['Irritable bowel syndrome (IBS) is a common functional gastrointestinal disorder affecting 4-5% of the global population. This disorder is associated with gut microbiota, diet, sleep, and mental health. This scoping review therefore aims to map existing research that has administrated fibre-related dietary intervention to IBS individuals and reported outcomes on at least two of the three following themes: gut microbiota, sleep, and mental health. Five digital databases were searched to identify and select papers as per the inclusion and exclusion criteria. Five articles were included in the assessment, where none reported on all three themes or the combination of gut microbiota and sleep. Two studies identified alterations in gut microbiota and mental health with fibre supplementation. The other three studies reported on mental health and sleep outcomes using subjective questionnaires. IBS-related research lacks system biology-type studies targeting gut microbiota, sleep, and mental health in patients undergoing diet intervention. Further IBS research is required to explore how human gut microbiota functions (such as short-chain fatty acids) in sleep and mental health, following the implementation of dietary pattern alteration or component supplementation. Additionally, the application of objective sleep assessments is required in order to detect sleep change with more accuracy and less bias.']\n"
     ]
    }
   ],
   "source": [
    "effective_kw = ['nutrition and mental health', 'nutrition and feel', 'nutrition and mood',\n",
    "               'food and psychology', 'food and mental health', 'food and mood',\n",
    "               'nutrient and psychology', 'nutrient and mental health']\n",
    "\n",
    "from Bio import Entrez\n",
    "\n",
    "for kw in effective_kw:\n",
    "    results = search(kw, 3)\n",
    "    id_list = results['IdList']\n",
    "    papers = fetch_details(id_list)\n",
    "    print('-----------\\n\\nQuery:', kw)\n",
    "    if papers is not None:\n",
    "        for i, paper in enumerate(papers['PubmedArticle']):\n",
    "            print(\"\\n{}) {}\".format(i+1, paper['MedlineCitation']['Article']['ArticleTitle']))\n",
    "            if (paper['MedlineCitation']['Article'].get('Abstract') is not None):\n",
    "                print(\"----\\n{}\".format(paper['MedlineCitation']['Article'].get('Abstract').get('AbstractText')))\n"
   ]
  },
  {
   "cell_type": "markdown",
   "id": "1d4fdbb0",
   "metadata": {
    "id": "1d4fdbb0"
   },
   "source": [
    "#### ✎ The abstract of results is not really clear for relationship between Food and Mental Health."
   ]
  },
  {
   "cell_type": "markdown",
   "id": "5ad301ba",
   "metadata": {
    "id": "5ad301ba"
   },
   "source": [
    "-------------------------"
   ]
  },
  {
   "cell_type": "markdown",
   "id": "42a5490e",
   "metadata": {
    "id": "42a5490e"
   },
   "source": [
    "# Search From Particular Entities"
   ]
  },
  {
   "cell_type": "markdown",
   "id": "0184070f",
   "metadata": {
    "id": "0184070f"
   },
   "source": [
    "## Utiles to get Entities From Ontologies"
   ]
  },
  {
   "cell_type": "code",
   "execution_count": 3,
   "id": "7989825f",
   "metadata": {},
   "outputs": [],
   "source": [
    "GENERAL_PATH = \"../DATASET\"\n",
    "DATA_PATH = \"../DATASET/data\""
   ]
  },
  {
   "cell_type": "code",
   "execution_count": 4,
   "id": "491bbce4",
   "metadata": {
    "id": "491bbce4"
   },
   "outputs": [],
   "source": [
    "def readCSV(fileName:str)->DataFrame:\n",
    "    \"\"\"\n",
    "    Read file csv\n",
    "    \"\"\"\n",
    "    filePath = f'{DATA_PATH}/resource_csv/' + fileName\n",
    "    return pd.read_csv(filePath)"
   ]
  },
  {
   "cell_type": "code",
   "execution_count": 14,
   "id": "f732e20e",
   "metadata": {
    "id": "f732e20e"
   },
   "outputs": [],
   "source": [
    "def getEntities(df:DataFrame, classes=[])->list:\n",
    "    \"\"\"\n",
    "    Get all entities in an ontology dataframe\n",
    "    \"\"\"\n",
    "    n = len(classes)\n",
    "    i = 0\n",
    "    while i < n:\n",
    "      p = classes[i]\n",
    "      classes = classes + [subclass for subclass in df.loc[df['Parents'].str.contains(f'.*{p}.*'), :]['Class ID'].tolist() if subclass not in classes]\n",
    "      i += 1\n",
    "      n = len(classes)\n",
    "    \n",
    "    vocabularies = []\n",
    "    sample = (df[df['Class ID'].isin(classes)] if len(classes) > 0 else df)\n",
    "    for idx, row in sample.iterrows():\n",
    "        vocabularies.append(row['Preferred Label'])\n",
    "        if isinstance(row['Synonyms'], str):\n",
    "            vocabularies += row['Synonyms'].split('|')\n",
    "    \n",
    "    return vocabularies"
   ]
  },
  {
   "cell_type": "code",
   "execution_count": 95,
   "id": "6c3daff1",
   "metadata": {
    "id": "6c3daff1"
   },
   "outputs": [],
   "source": [
    "def toTerm(word:str)->str:\n",
    "    \"\"\"\n",
    "    Convert an ontology term to a short term\n",
    "    \"\"\"\n",
    "    for el in periodictable.elements:\n",
    "        if word == el.symbol:\n",
    "            return el.name # Fe ==> iron\n",
    "    \n",
    "    regexes = [#r'(.*)\\s+\\(.*', r'^\\([\\+\\−].*\\)-(.*)',\n",
    "               r'([^\\(\\,]+)', # berry (whole) | Mullus barbatus Linnaeus, 1758\n",
    "               #r'.*\\w*\\(\\w+\\)\\w*', \n",
    "               #r'obsolete: (.*)',\n",
    "               #r'([^.]+\\s)',\n",
    "               #r'^(\\w+)\\(\\d*\\-\\)',\n",
    "               #r'https://en.wikipedia.org/wiki/(.*)'\n",
    "              ]\n",
    "\n",
    "    for regex in regexes:\n",
    "        if len(re.compile(regex).findall(word)) > 0:\n",
    "            return re.compile(regex).findall(word)[0].strip().lower()\n",
    "    return word\n",
    "\n",
    "def isMolecular(word:str)->bool:\n",
    "    \"\"\"\n",
    "    Check if the given word is molecular\n",
    "    \"\"\"\n",
    "    regex_molecular = '.*\\d+.*(\\d+|\\w{1}).*'\n",
    "    return True if len(re.compile(regex_molecular).findall(word)) > 0 else False\n",
    "\n",
    "def getCleanTerms(terms:list)->list:\n",
    "    \"\"\"\n",
    "    Get only clean terms in a list of terms\n",
    "    \"\"\"\n",
    "    new_terms = set(terms.copy())\n",
    "\n",
    "    # Remove molecular terms\n",
    "    deleted_terms = []\n",
    "    for term in new_terms:\n",
    "        if isMolecular(term) or len(re.compile(r\"(.+\\. )|(.\\)\\-.+)\").findall(term)) > 0:\n",
    "            deleted_terms.append(term)\n",
    "    new_terms.difference_update(deleted_terms)\n",
    "\n",
    "    # Convert to term\n",
    "    deleted_terms = []\n",
    "    new_terms = set(map(lambda x: toTerm(x), list(new_terms)))\n",
    "    for term in new_terms:\n",
    "        if len(term) >= 1 and len(term) <= 3: # too short => trash term\n",
    "            deleted_terms.append(term)\n",
    "    new_terms.difference_update(deleted_terms)\n",
    "    return new_terms\n",
    "    "
   ]
  },
  {
   "cell_type": "code",
   "execution_count": 74,
   "id": "2dc699dc",
   "metadata": {
    "id": "2dc699dc",
    "outputId": "fb190c55-d607-4e75-ff0b-3feaed0934f4"
   },
   "outputs": [
    {
     "data": {
      "text/plain": [
       "'mullus barbatus linnaeus'"
      ]
     },
     "execution_count": 74,
     "metadata": {},
     "output_type": "execute_result"
    }
   ],
   "source": [
    "#toTerm('Menippe frontalis A. Milne Edwards, 1879')\n",
    "toTerm('Mullus barbatus Linnaeus, 1758')"
   ]
  },
  {
   "cell_type": "code",
   "execution_count": 85,
   "id": "e8503915",
   "metadata": {
    "id": "e8503915",
    "outputId": "823c4423-08dc-41c5-92db-cc64e8bb0bb0"
   },
   "outputs": [
    {
     "data": {
      "text/plain": [
       "(True, False)"
      ]
     },
     "execution_count": 85,
     "metadata": {},
     "output_type": "execute_result"
    }
   ],
   "source": [
    "isMolecular('naringenin 7-o-alpha-l-rhamnosyl-(1->2)-beta-d-glucoside'), isMolecular('naringenin')"
   ]
  },
  {
   "cell_type": "markdown",
   "id": "56109d42",
   "metadata": {
    "id": "56109d42"
   },
   "source": [
    "---------------------"
   ]
  },
  {
   "cell_type": "markdown",
   "id": "1b02713d",
   "metadata": {
    "id": "1b02713d"
   },
   "source": [
    "## Food Entities"
   ]
  },
  {
   "cell_type": "markdown",
   "id": "dfff8eaf",
   "metadata": {
    "id": "dfff8eaf"
   },
   "source": [
    "### Get the all sub-classes these classes:\n",
    "* **FODMAP diet** : http://purl.obolibrary.org/obo/ONS_1000048\n",
    "* **coeliac diet**: http://purl.obolibrary.org/obo/ONS_1000047\n",
    "* **daily average nutritional intake**: http://purl.obolibrary.org/obo/ONS_1000060\n",
    "* **daily food intake**: http://purl.obolibrary.org/obo/ONS_1000059\n",
    "* **non-organic agriculture diet**: http://purl.obolibrary.org/obo/ONS_1000035\n",
    "* **organic agriculture diet**: http://purl.obolibrary.org/obo/ONS_1000034\n",
    "* **diet by nutritional composition**: http://purl.obolibrary.org/obo/ONS_1000005\n",
    "* **diet by food organism**: http://purl.obolibrary.org/obo/ONS_1000019\n",
    "* **liquid diet**: http://purl.obolibrary.org/obo/ONS_1000033\n",
    "* **ethnographic diet**: http://purl.obolibrary.org/obo/ONS_1000051\n",
    "* **weight loss diet**: http://purl.obolibrary.org/obo/ONS_1000049\n",
    "* **dietary pattern by nutritional composition**: http://purl.obolibrary.org/obo/ONS_2000005\n",
    "* **dietary pattern by food organism**: http://purl.obolibrary.org/obo/ONS_2000019\n",
    "* **dietary regimen**: http://purl.obolibrary.org/obo/ONS_1000062\n",
    "* **fruit**: http://purl.obolibrary.org/obo/PO_0009001\n",
    "* **chemical food component**: http://purl.obolibrary.org/obo/FOODON_03411041\n",
    "* **mixture**: http://purl.obolibrary.org/obo/CHEBI_60004\n",
    "* **food product organismal source**: http://purl.obolibrary.org/obo/FOODON_03411564\n",
    "* **egg or egg component**: http://purl.obolibrary.org/obo/FOODON_03420194\n",
    "* **honey**: http://purl.obolibrary.org/obo/UBERON_0036016\n",
    "* **root**: http://purl.obolibrary.org/obo/PO_0009005\n",
    "* **potato (whole)**: http://purl.obolibrary.org/obo/FOODON_03315354\n",
    "* **yarm (whole)**: http://purl.obolibrary.org/obo/FOODON_00003448\n",
    "* **meal**: http://purl.obolibrary.org/obo/NCIT_C80248\n",
    "* **pharmaceutical**: http://purl.obolibrary.org/obo/CHEBI_52217\n",
    "* **vitamin**: http://purl.obolibrary.org/obo/CHEBI_33229"
   ]
  },
  {
   "cell_type": "code",
   "execution_count": 16,
   "id": "c8efcfcd",
   "metadata": {
    "colab": {
     "base_uri": "https://localhost:8080/"
    },
    "id": "c8efcfcd",
    "outputId": "c475fff4-28bc-4f6e-c622-6e4064392f6f"
   },
   "outputs": [
    {
     "name": "stderr",
     "output_type": "stream",
     "text": [
      "C:\\Users\\milan\\AppData\\Local\\Temp\\ipykernel_19932\\3853291681.py:2: DtypeWarning: Columns (4,20,21,30,43,49,52,55,56,59,61,63,66,69,79,84,86,87,88,90,94,100,123,130,134,135,137,145,152) have mixed types.Specify dtype option on import or set low_memory=False.\n",
      "  foodon_df = readCSV('FOODON.csv')\n"
     ]
    }
   ],
   "source": [
    "# Read FOODON ontology\n",
    "foodon_df = readCSV('FOODON.csv')\n",
    "#classes = ['http://purl.obolibrary.org/obo/OBI_0100026', 'http://purl.obolibrary.org/obo/FOODON_00001002', 'http://purl.obolibrary.org/obo/FOODON_03411041']\n",
    "classes_food = ['http://purl.obolibrary.org/obo/ONS_1000048', 'http://purl.obolibrary.org/obo/ONS_1000047', 'http://purl.obolibrary.org/obo/ONS_1000060',\n",
    "                'http://purl.obolibrary.org/obo/ONS_1000059', 'http://purl.obolibrary.org/obo/ONS_1000035', 'http://purl.obolibrary.org/obo/ONS_1000034', \n",
    "                'http://purl.obolibrary.org/obo/ONS_1000005', 'http://purl.obolibrary.org/obo/ONS_1000019', 'http://purl.obolibrary.org/obo/ONS_1000033', \n",
    "                'http://purl.obolibrary.org/obo/ONS_1000051', 'http://purl.obolibrary.org/obo/ONS_1000049', 'http://purl.obolibrary.org/obo/ONS_2000005',\n",
    "                'http://purl.obolibrary.org/obo/ONS_2000019', 'http://purl.obolibrary.org/obo/ONS_1000062', 'http://purl.obolibrary.org/obo/PO_0009001',\n",
    "                'http://purl.obolibrary.org/obo/FOODON_03411041', 'http://purl.obolibrary.org/obo/FOODON_03411564', 'http://purl.obolibrary.org/obo/FOODON_03420194', \n",
    "                'http://purl.obolibrary.org/obo/UBERON_0036016', 'http://purl.obolibrary.org/obo/PO_0009005', 'http://purl.obolibrary.org/obo/FOODON_03315354', \n",
    "                'http://purl.obolibrary.org/obo/FOODON_00003448','http://purl.obolibrary.org/obo/NCIT_C80248']\n",
    "\n",
    "classes_chebi = ['http://purl.obolibrary.org/obo/CHEBI_52217', 'http://purl.obolibrary.org/obo/CHEBI_60004', 'http://purl.obolibrary.org/obo/CHEBI_33229']\n",
    "\n",
    "foodon_df['Parents'] = foodon_df['Parents'].fillna('')\n",
    "food_entities = getEntities(foodon_df, classes_food)\n",
    "chebi_entities = getEntities(foodon_df, classes_chebi)"
   ]
  },
  {
   "cell_type": "code",
   "execution_count": 96,
   "id": "69be5699",
   "metadata": {
    "id": "69be5699",
    "outputId": "9c606902-7446-4a3e-b2ff-098197cc30ef"
   },
   "outputs": [
    {
     "name": "stdout",
     "output_type": "stream",
     "text": [
      "There are 11395 NUTRITION terms and 198 CHEBI terms in FOODON.\n"
     ]
    }
   ],
   "source": [
    "food_terms = getCleanTerms(food_entities)\n",
    "chebi_terms = getCleanTerms(chebi_entities)\n",
    "print(f\"There are {len(food_terms)} NUTRITION terms and {len(chebi_terms)} CHEBI terms in FOODON.\")"
   ]
  },
  {
   "cell_type": "markdown",
   "id": "107602e1",
   "metadata": {
    "id": "107602e1"
   },
   "source": [
    "### Get terms with English only"
   ]
  },
  {
   "cell_type": "code",
   "execution_count": 93,
   "id": "62d0b58d",
   "metadata": {
    "id": "62d0b58d"
   },
   "outputs": [],
   "source": [
    "import langdetect"
   ]
  },
  {
   "cell_type": "code",
   "execution_count": 97,
   "id": "562f11f5",
   "metadata": {
    "id": "562f11f5",
    "outputId": "6ad1ce00-49b9-4d89-897c-a81407464943"
   },
   "outputs": [
    {
     "name": "stdout",
     "output_type": "stream",
     "text": [
      "There are 2921 food terms.\n"
     ]
    }
   ],
   "source": [
    "# Get only english terms in food terms\n",
    "food_terms_en = []\n",
    "for term in food_terms:\n",
    "    try:\n",
    "        if langdetect.detect(term) == 'en':\n",
    "            food_terms_en.append(term)\n",
    "    except:\n",
    "        continue\n",
    "print('There are', len(food_terms_en), 'food terms.')"
   ]
  },
  {
   "cell_type": "markdown",
   "id": "6790931c",
   "metadata": {
    "id": "6790931c"
   },
   "source": [
    "---------------"
   ]
  },
  {
   "cell_type": "markdown",
   "id": "3f337585",
   "metadata": {
    "id": "3f337585"
   },
   "source": [
    "## CHEBI Entities"
   ]
  },
  {
   "cell_type": "markdown",
   "id": "43db1bdc",
   "metadata": {
    "id": "43db1bdc"
   },
   "source": [
    "### Get the all sub-classes these classes:\n",
    "* allergen : http://purl.obolibrary.org/obo/CHEBI_50904\n",
    "* carcinogenic agent: http://purl.obolibrary.org/obo/CHEBI_50903\n",
    "* cardiotoxic agent: http://purl.obolibrary.org/obo/CHEBI_50912\n",
    "* hepatotoxic agent: http://purl.obolibrary.org/obo/CHEBI_50908\n",
    "* nephrotoxic agent: http://purl.obolibrary.org/obo/CHEBI_50909\n",
    "* neurotoxin: http://purl.obolibrary.org/obo/CHEBI_50910\n",
    "* antigen: http://purl.obolibrary.org/obo/CHEBI_59132\n",
    "* antimicrobial agent: http://purl.obolibrary.org/obo/CHEBI_33281\n",
    "* pharmacological role: http://purl.obolibrary.org/obo/CHEBI_52210\n",
    "* food additive:http://purl.obolibrary.org/obo/CHEBI_64047\n",
    "* poison: http://purl.obolibrary.org/obo/CHEBI_64909\n",
    "* provitamin: http://purl.obolibrary.org/obo/CHEBI_50188\n",
    "* vitamin: http://purl.obolibrary.org/obo/CHEBI_33229"
   ]
  },
  {
   "cell_type": "code",
   "execution_count": 98,
   "id": "b9d03d2e",
   "metadata": {
    "id": "b9d03d2e",
    "outputId": "22a1bdfb-0ea9-43c4-d922-95246e2644ce"
   },
   "outputs": [
    {
     "name": "stderr",
     "output_type": "stream",
     "text": [
      "C:\\Users\\milan\\AppData\\Local\\Temp\\ipykernel_19932\\2151509115.py:2: DtypeWarning: Columns (30,31) have mixed types.Specify dtype option on import or set low_memory=False.\n",
      "  chebi_df = readCSV('CHEBI.csv')\n"
     ]
    }
   ],
   "source": [
    "# Read CHEBI ontology\n",
    "chebi_df = readCSV('CHEBI.csv')\n",
    "classes = ['http://purl.obolibrary.org/obo/CHEBI_50904', 'http://purl.obolibrary.org/obo/CHEBI_50903', 'http://purl.obolibrary.org/obo/CHEBI_50912',\n",
    "          'http://purl.obolibrary.org/obo/CHEBI_50908', 'http://purl.obolibrary.org/obo/CHEBI_50909', 'http://purl.obolibrary.org/obo/CHEBI_50910',\n",
    "          'http://purl.obolibrary.org/obo/CHEBI_59132', 'http://purl.obolibrary.org/obo/CHEBI_33281', 'http://purl.obolibrary.org/obo/CHEBI_52210',\n",
    "           'http://purl.obolibrary.org/obo/CHEBI_64047', 'http://purl.obolibrary.org/obo/CHEBI_64909', 'http://purl.obolibrary.org/obo/CHEBI_50188',\n",
    "           'http://purl.obolibrary.org/obo/CHEBI_33229']\n",
    "\n",
    "chebi_df['Parents'] = chebi_df['Parents'].fillna('')\n",
    "chebi_entities_from_CHEBI = getEntities(chebi_df, classes)"
   ]
  },
  {
   "cell_type": "code",
   "execution_count": 99,
   "id": "7574d646",
   "metadata": {
    "id": "7574d646",
    "outputId": "27ca49a9-75f3-4f2e-c150-c136b88fe06a"
   },
   "outputs": [
    {
     "name": "stdout",
     "output_type": "stream",
     "text": [
      "There are total 1480 CHEBI terms from FOODON and CHEBI.\n"
     ]
    }
   ],
   "source": [
    "# Remove molecular terms in food set\n",
    "chebi_terms.update(getCleanTerms(chebi_entities_from_CHEBI))\n",
    "print(f\"There are total {len(chebi_terms)} CHEBI terms from FOODON and CHEBI.\")"
   ]
  },
  {
   "cell_type": "markdown",
   "id": "150c4ca9",
   "metadata": {
    "id": "150c4ca9"
   },
   "source": [
    "-------------------------------------"
   ]
  },
  {
   "cell_type": "markdown",
   "id": "3d7df009",
   "metadata": {
    "id": "3d7df009"
   },
   "source": [
    "## All Nutrition Terms"
   ]
  },
  {
   "cell_type": "code",
   "execution_count": 112,
   "id": "86ff3498",
   "metadata": {
    "id": "86ff3498",
    "outputId": "780fbbfc-339f-486e-f5f8-ad9f304c068f"
   },
   "outputs": [
    {
     "name": "stdout",
     "output_type": "stream",
     "text": [
      "There are 2921 nutrition terms and 1480 Chebi terms.\n"
     ]
    }
   ],
   "source": [
    "print(f'There are {len(food_terms_en)} nutrition terms and {len(chebi_terms)} Chebi terms.')"
   ]
  },
  {
   "cell_type": "markdown",
   "id": "9e25686a",
   "metadata": {
    "id": "9e25686a"
   },
   "source": [
    "--------------------------------"
   ]
  },
  {
   "cell_type": "markdown",
   "id": "d4a3460c",
   "metadata": {
    "id": "d4a3460c"
   },
   "source": [
    "## Mental Health Entities"
   ]
  },
  {
   "cell_type": "markdown",
   "id": "356fa63b",
   "metadata": {
    "id": "356fa63b"
   },
   "source": [
    "2 Ontologies:\n",
    "* **MFODM**: Mental disease Ontology is developed to facilitate representation for all aspects of mental disease.\n",
    "\n",
    "*Source*: https://www.ebi.ac.uk/ols/ontologies/mfomd\n",
    "\n",
    "* **Disorders Clusters**: Ontology about Disorders\n",
    "\n",
    "*Source*: https://bioportal.bioontology.org/ontologies/APADISORDERS/\n",
    "\n",
    "* **ASDPTO**: Autism Spectrum Disorder Phenotype Ontology\n",
    "\n",
    "*Source*: https://bioportal.bioontology.org/ontologies/ASDPTO"
   ]
  },
  {
   "cell_type": "markdown",
   "id": "46d33a3f",
   "metadata": {
    "id": "46d33a3f"
   },
   "source": [
    "------------------------"
   ]
  },
  {
   "cell_type": "markdown",
   "id": "091819f1",
   "metadata": {
    "id": "091819f1"
   },
   "source": [
    "### MFOMD Ontology"
   ]
  },
  {
   "cell_type": "code",
   "execution_count": 117,
   "id": "2f2e0116",
   "metadata": {
    "id": "2f2e0116",
    "outputId": "80875e31-9fa8-476e-93cb-308c8426a5e8"
   },
   "outputs": [
    {
     "name": "stdout",
     "output_type": "stream",
     "text": [
      "There are 561 entities in MFOMD ontology\n"
     ]
    }
   ],
   "source": [
    "mfomd_df = readCSV('MFOMD.csv')\n",
    "mfomd_df['Parents'] = mfomd_df['Parents'].fillna('')\n",
    "classes = [_class for _class in mfomd_df['Parents'].tolist() if len(re.compile(r'.*(MFOMD|DOID).*').findall(_class)) > 0]\n",
    "mfomd_entities = getEntities(mfomd_df, classes)\n",
    "print('There are', len(mfomd_entities), 'entities in MFOMD ontology')"
   ]
  },
  {
   "cell_type": "code",
   "execution_count": 118,
   "id": "80626afa",
   "metadata": {
    "id": "80626afa",
    "outputId": "5e8f2000-15bd-4d03-e144-960e344eb1e3"
   },
   "outputs": [
    {
     "name": "stdout",
     "output_type": "stream",
     "text": [
      "There are 561 terms in MFOMD ontology\n"
     ]
    }
   ],
   "source": [
    "mfomd_terms = set(mfomd_entities)\n",
    "print('There are', len(mfomd_entities), 'terms in MFOMD ontology')"
   ]
  },
  {
   "cell_type": "markdown",
   "id": "f71614a1",
   "metadata": {
    "id": "f71614a1"
   },
   "source": [
    "-----------------------------"
   ]
  },
  {
   "cell_type": "markdown",
   "id": "507d553d",
   "metadata": {
    "id": "507d553d"
   },
   "source": [
    "### APADISORDERS\n",
    "* **PsychologicalDisorders**: http://www.semanticweb.org/ontologies/2015/0/disorderscluster.owl#PsychologicalDisorders\n",
    "* **Agitation**: http://ontology.apa.org/apaonto/termsonlyOUT%20(5).owl#Agitation\n",
    "* **Amnesia**: http://ontology.apa.org/apaonto/termsonlyOUT%20(5).owl#Amnesia\n",
    "* **Anhedonia**: http://ontology.apa.org/apaonto/termsonlyOUT%20(5).owl#Anhedonia\n",
    "* **Anxiety**: http://ontology.apa.org/apaonto/termsonlyOUT%20(5).owl#Anxiety\n",
    "* **Chronic_Stress**: http://ontology.apa.org/apaonto/termsonlyOUT%20(5).owl#Chronic_Stress\n",
    "* **Craving**: http://ontology.apa.org/apaonto/termsonlyOUT%20(5).owl#Craving\n",
    "* **Depersonalization**: http://ontology.apa.org/apaonto/termsonlyOUT%20(5).owl#Depersonalization\n",
    "* **Distractibility**: http://ontology.apa.org/apaonto/termsonlyOUT%20(5).owl#Distractibility\n",
    "* **Dyskinesia**: http://ontology.apa.org/apaonto/termsonlyOUT%20(5).owl#Dyskinesia\n",
    "* **Emotional_Disturbances**: http://ontology.apa.org/apaonto/termsonlyOUT%20(5).owl#Emotional_Disturbances\n",
    "* **Fatigue**: http://ontology.apa.org/apaonto/termsonlyOUT%20(5).owl#Fatigue\n",
    "* **Headache**: http://ontology.apa.org/apaonto/termsonlyOUT%20(5).owl#Headache\n",
    "* **Insomnia**: http://ontology.apa.org/apaonto/termsonlyOUT%20(5).owl#Insomnia\n",
    "* **Intrusive Thoughts**: http://ontology.apa.org/apaonto/termsonlyOUT%20(5).owl#Intrusive_Thoughts\n",
    "* **Mental_Confusion**: http://ontology.apa.org/apaonto/termsonlyOUT%20(5).owl#Mental_Confusion\n",
    "* **Purging_Eating_Disorder**: http://ontology.apa.org/apaonto/termsonlyOUT%20(5).owl#Purging_(Eating_Disorders)\n",
    "* **Restlessness**: http://ontology.apa.org/apaonto/termsonlyOUT%20(5).owl#Restlessness\n",
    "* **Sleepiness**: http://ontology.apa.org/apaonto/termsonlyOUT%20(5).owl#Sleepiness\n",
    "* **Sommatization**: http://ontology.apa.org/apaonto/termsonlyOUT%20(5).owl#Somatization"
   ]
  },
  {
   "cell_type": "code",
   "execution_count": 119,
   "id": "a89167ca",
   "metadata": {
    "id": "a89167ca",
    "outputId": "48ce3589-ffd3-46f6-a84d-16c3cd850a9c"
   },
   "outputs": [
    {
     "name": "stderr",
     "output_type": "stream",
     "text": [
      "C:\\Users\\milan\\AppData\\Local\\Temp\\ipykernel_19932\\1958150001.py:9: UserWarning: This pattern has match groups. To actually get the groups, use str.extract.\n",
      "  classes = classes + [subclass for subclass in df.loc[df['Parents'].str.contains(f'.*{p}.*'), :]['Class ID'].tolist() if subclass not in classes]\n"
     ]
    },
    {
     "name": "stdout",
     "output_type": "stream",
     "text": [
      "There are 162 entities in APADISORDERS ontology\n"
     ]
    }
   ],
   "source": [
    "disorders_df = readCSV('APADISORDERS.csv')\n",
    "classes = ['http://www.semanticweb.org/ontologies/2015/0/disorderscluster.owl#PsychologicalDisorders']\n",
    "disorders_df['Parents'] = disorders_df['Parents'].fillna('')\n",
    "disorders_entities = getEntities(disorders_df, classes)\n",
    "print('There are', len(disorders_entities), 'entities in APADISORDERS ontology')"
   ]
  },
  {
   "cell_type": "code",
   "execution_count": 120,
   "id": "2041bfd6",
   "metadata": {
    "id": "2041bfd6"
   },
   "outputs": [],
   "source": [
    "another_terms = ['Agitation', 'Amnesia', 'Anhedonia', 'Anxiety', 'Chronic Stress', 'Craving', 'Depersonalization', 'Distractibility',\n",
    "                 'Dyskinesia', 'Emotional Disturbances', 'Fatigue', 'Headache', 'Insomnia', 'Intrusive Thoughts', 'Mental Confusion',\n",
    "                 'Purging', 'Eating_Disorder', 'Restlessness', 'Sleepiness', 'Sommatization']\n",
    "disorders_entities += another_terms"
   ]
  },
  {
   "cell_type": "code",
   "execution_count": 121,
   "id": "876f8ae4",
   "metadata": {
    "id": "876f8ae4",
    "outputId": "d1b55d47-ed59-40c6-e20e-81ed7e45c671"
   },
   "outputs": [
    {
     "name": "stdout",
     "output_type": "stream",
     "text": [
      "There are 182 terms in APADISORDERS ontology\n"
     ]
    }
   ],
   "source": [
    "disorders_terms = set(map(lambda x: x.replace('_', ' '), disorders_entities))\n",
    "print('There are', len(disorders_entities), 'terms in APADISORDERS ontology')"
   ]
  },
  {
   "cell_type": "markdown",
   "id": "795eced7",
   "metadata": {
    "id": "795eced7"
   },
   "source": [
    "------------------------------------"
   ]
  },
  {
   "cell_type": "markdown",
   "id": "682afed2",
   "metadata": {
    "id": "682afed2"
   },
   "source": [
    "### ASDPTO\n",
    "* **Mental Disorders**: http://cbmi.med.harvard.edu/asdphenotype#Class_455"
   ]
  },
  {
   "cell_type": "code",
   "execution_count": 122,
   "id": "e11aa91c",
   "metadata": {
    "id": "e11aa91c",
    "outputId": "052c8fff-5f28-4026-d7b6-d135d697a324"
   },
   "outputs": [
    {
     "name": "stdout",
     "output_type": "stream",
     "text": [
      "There are 15 entities in ASDPTO ontology\n"
     ]
    }
   ],
   "source": [
    "asdpto_df = readCSV('ASDPTO.csv')\n",
    "classes = ['http://cbmi.med.harvard.edu/asdphenotype#Class_455']\n",
    "asdpto_df['Parents'] = asdpto_df['Parents'].fillna('')\n",
    "asdpto_entities = getEntities(asdpto_df, classes)\n",
    "print('There are', len(asdpto_entities), 'entities in ASDPTO ontology')"
   ]
  },
  {
   "cell_type": "code",
   "execution_count": 123,
   "id": "cc6417c0",
   "metadata": {
    "id": "cc6417c0",
    "outputId": "21827b18-e311-4e9e-e551-e2dfa41092b4"
   },
   "outputs": [
    {
     "name": "stdout",
     "output_type": "stream",
     "text": [
      "There are 15 terms in ASDPTO ontology\n"
     ]
    }
   ],
   "source": [
    "asdpto_terms = set(asdpto_entities)\n",
    "print('There are', len(asdpto_terms), 'terms in ASDPTO ontology')"
   ]
  },
  {
   "cell_type": "markdown",
   "id": "889590e0",
   "metadata": {
    "id": "889590e0"
   },
   "source": [
    "----------------------------"
   ]
  },
  {
   "cell_type": "markdown",
   "id": "a6671a55",
   "metadata": {
    "id": "a6671a55"
   },
   "source": [
    "### Combine 3 list of terms"
   ]
  },
  {
   "cell_type": "code",
   "execution_count": 130,
   "id": "2d5c06e5",
   "metadata": {
    "id": "2d5c06e5",
    "outputId": "cc969f07-cc7d-4d5f-e4d2-b0a0c0d81ec9"
   },
   "outputs": [
    {
     "name": "stdout",
     "output_type": "stream",
     "text": [
      "There are 676 mental health terms that be collected.\n"
     ]
    },
    {
     "data": {
      "text/plain": [
       "{'abnormal sexual function',\n",
       " 'abstinence syndrome',\n",
       " 'academic skill disorder',\n",
       " 'acquired dyslexia',\n",
       " 'acrophobia',\n",
       " 'acute psychosis',\n",
       " 'acute schizophrenia',\n",
       " 'acute stress disorder',\n",
       " 'addiction disorder',\n",
       " 'addiction to use of a sunbed',\n",
       " 'adhd',\n",
       " 'adjustment disease',\n",
       " 'adjustment disorder',\n",
       " 'adjustment disorders',\n",
       " 'adjustment reaction',\n",
       " 'advanced sleep phase syndrome',\n",
       " 'affective disorders',\n",
       " 'affective flattening',\n",
       " 'affective personality disorder',\n",
       " 'affective psychosis',\n",
       " 'agitation',\n",
       " 'agnosia',\n",
       " 'agoraphobia',\n",
       " 'agraphia',\n",
       " 'aids dementia complex',\n",
       " 'aids phobia',\n",
       " 'akinesia',\n",
       " 'akinetopsia',\n",
       " 'alcohol abuse',\n",
       " 'alcohol dependence',\n",
       " 'alcohol-induced mental disorder',\n",
       " 'alcohol-related birth defect',\n",
       " 'alcohol-related neurodevelopmental disorder',\n",
       " 'alcoholic hallucinosis',\n",
       " 'alcoholic psychoses',\n",
       " 'alcoholic psychosis',\n",
       " 'alexia',\n",
       " 'alexithymia',\n",
       " 'alogia',\n",
       " 'alzheimer disease',\n",
       " \"alzheimer's disease\",\n",
       " 'alzheimers dementia',\n",
       " 'amnesia',\n",
       " 'amnestic disorder',\n",
       " 'amnestic syndrome',\n",
       " 'amphetamine abuse',\n",
       " 'amusia',\n",
       " 'anaclitic depression',\n",
       " 'analgesia',\n",
       " 'anancastic neurosis',\n",
       " 'anankastic personality disorder',\n",
       " 'anergia',\n",
       " 'anhedonia',\n",
       " 'animal phobia',\n",
       " 'anomia',\n",
       " 'anomic aphasia',\n",
       " 'anorexia nervosa',\n",
       " 'anorgasmia',\n",
       " 'anosognosia',\n",
       " 'anterograde amnesia',\n",
       " 'antidepressant type abuse',\n",
       " 'antisocial personality disorder',\n",
       " 'anxiety',\n",
       " 'anxiety disorder',\n",
       " 'anxiety disorders',\n",
       " 'anxiety state',\n",
       " 'anxious personality disorder',\n",
       " 'aphasia',\n",
       " 'aphemesthaesia',\n",
       " 'apotemnophilia',\n",
       " 'apperceptive agnosia',\n",
       " 'apprehension',\n",
       " 'apraxia',\n",
       " 'arbd',\n",
       " 'arnd',\n",
       " 'articulation disorder',\n",
       " 'articulation impairment',\n",
       " 'asocial personality',\n",
       " 'asperger syndrome',\n",
       " 'aspergers syndrome',\n",
       " 'assaultive behavior',\n",
       " 'associative agnosia',\n",
       " 'astereognosia',\n",
       " 'attention deficit disorder',\n",
       " 'attention deficit disorder with hyperactivity',\n",
       " 'attention deficit hyperactivity disorder',\n",
       " 'atypical autism',\n",
       " 'atypical depression',\n",
       " 'atypical depressive disorder',\n",
       " 'atypical disorders',\n",
       " 'auditory agnosia',\n",
       " 'auditory hallucinations',\n",
       " 'autism',\n",
       " 'autism spectrum disorder',\n",
       " 'autistic disorder',\n",
       " 'autistic disorder of childhood onset',\n",
       " 'autotopagnosia',\n",
       " 'avoidant personality disorder',\n",
       " 'avolition',\n",
       " 'barbiturate abuse',\n",
       " 'barbiturate dependence',\n",
       " 'bestiality',\n",
       " 'binge eating',\n",
       " 'binge eating disorder',\n",
       " 'binge-eating disorder',\n",
       " 'bipolar depression',\n",
       " 'bipolar disorder',\n",
       " 'bipolar disorder manic phase',\n",
       " 'bipolar i disorder',\n",
       " 'bipolar ll disorder',\n",
       " 'body dysmorphia',\n",
       " 'body dysmorphic disorder',\n",
       " 'body image disturbances',\n",
       " 'borderline personality disorder',\n",
       " 'borderline states',\n",
       " 'brief psychotic disorder',\n",
       " \"briquet's disorder\",\n",
       " 'bruxism',\n",
       " 'bruxism - teeth grinding',\n",
       " 'bulimia',\n",
       " 'bulimia nervosa',\n",
       " 'caffeine intoxication',\n",
       " 'cancer phobia',\n",
       " 'cancerophobia',\n",
       " 'cannabis abuse',\n",
       " 'cannabis dependence',\n",
       " 'capgras delusion theory',\n",
       " 'capgras syndrome',\n",
       " 'cardiovascular malfunction arising from mental factors',\n",
       " 'cardiovascular neurosis',\n",
       " 'castration anxiety',\n",
       " 'cataplexy',\n",
       " 'catatonic behaviour',\n",
       " 'catatonic excitement',\n",
       " 'catatonic posturing',\n",
       " 'catatonic rigidity',\n",
       " 'catatonic schizophrenia',\n",
       " 'catatonic stupor',\n",
       " 'central sleep apnea',\n",
       " 'central sleep apnea syndrome',\n",
       " 'cerebroatrophic hyperammonemia',\n",
       " 'character disorder',\n",
       " 'childhood autism',\n",
       " 'childhood disintegrative disease',\n",
       " 'childhood disintegrative disorder',\n",
       " 'childhood neurosis',\n",
       " 'childhood psychosis',\n",
       " 'childhood schizophrenia',\n",
       " 'chronic mental illness',\n",
       " 'chronic motor or vocal tic disorder',\n",
       " 'chronic paranoid schizophrenia',\n",
       " 'chronic psychosis',\n",
       " 'chronic stress',\n",
       " 'chronic tic disorder',\n",
       " 'classic apraxia',\n",
       " 'claustrophobia',\n",
       " 'clinical depression',\n",
       " 'cocaine abuse',\n",
       " 'cocaine bugs',\n",
       " 'cocaine dependence',\n",
       " 'cognitive disease',\n",
       " 'cognitive disorder',\n",
       " 'color agnosia',\n",
       " 'combat disorder',\n",
       " 'combat neurosis',\n",
       " 'communication disorder',\n",
       " 'compulsion',\n",
       " 'compulsive gambling',\n",
       " 'conditioned response',\n",
       " 'conduct disorder',\n",
       " 'confabulation',\n",
       " 'consciousness disturbances',\n",
       " 'conversion disorder',\n",
       " 'conversion hysteria or reaction',\n",
       " 'conversion hysterical neurosis',\n",
       " 'coprophagia',\n",
       " 'cortical deafness',\n",
       " 'craving',\n",
       " 'creutzfeldt jakob syndrome',\n",
       " 'cross dresser',\n",
       " 'culture bound syndromes',\n",
       " 'cycloid personality',\n",
       " 'cyclothymia',\n",
       " 'cyclothymic disorder',\n",
       " 'cyclothymic personality',\n",
       " \"da costa's syndrome\",\n",
       " 'death anxiety',\n",
       " 'defense mechanism',\n",
       " 'delayed sleep-phase syndrome',\n",
       " 'delirium',\n",
       " 'delirium tremens',\n",
       " 'delusion',\n",
       " 'delusion of persecution',\n",
       " 'delusional disorder',\n",
       " 'delusions',\n",
       " 'dementia',\n",
       " 'dementia with lewy bodies',\n",
       " 'dependent personality disorder',\n",
       " 'depersonalization',\n",
       " 'depersonalization disorder',\n",
       " 'depressed mood episode',\n",
       " 'depression',\n",
       " 'depressive disorder',\n",
       " 'depressive neurosis',\n",
       " 'depressive-manic psych.',\n",
       " 'derailment',\n",
       " 'derealization',\n",
       " 'developmental coordination disorder',\n",
       " 'developmental disorder of mental health',\n",
       " 'developmental expressive language disorder',\n",
       " 'diffuse lewy body disease',\n",
       " 'disintegrative psychosis nos',\n",
       " 'disorder of arithmetical skills',\n",
       " 'disordered thinking',\n",
       " 'disorganized schizophrenia',\n",
       " 'disorientation',\n",
       " 'displacement',\n",
       " 'dissocial personality disorder',\n",
       " 'dissociation',\n",
       " 'dissociative amnesia',\n",
       " 'dissociative disease',\n",
       " 'dissociative disorder',\n",
       " 'dissociative disorders',\n",
       " 'dissociative fugue',\n",
       " 'dissociative identity disorder',\n",
       " 'dissociative reaction',\n",
       " 'distractibility',\n",
       " 'down syndrome',\n",
       " 'drowsiness',\n",
       " 'drug dependence',\n",
       " 'drug psychosis',\n",
       " 'drug withdrawal syndrome in newborn',\n",
       " 'drug-induced mental disorder',\n",
       " 'drug-induced psychosis',\n",
       " 'drug-induced psychotic disorder',\n",
       " 'dual-role transvestism',\n",
       " 'dyscalculia',\n",
       " 'dysfunctional family',\n",
       " 'dysgraphia',\n",
       " 'dyskinesia',\n",
       " 'dyslexia',\n",
       " 'dysmorphic syndrome',\n",
       " 'dysmorphophobia',\n",
       " 'dyspareunia',\n",
       " 'dysphoria',\n",
       " 'dyspraxia',\n",
       " 'dyspraxia syndrome',\n",
       " 'dysthymia',\n",
       " 'dysthymic disorder',\n",
       " 'eating disorder',\n",
       " 'eating disorders',\n",
       " 'echolalia',\n",
       " 'ego-dystonic sexual orientation',\n",
       " 'electra complex',\n",
       " 'emotional disturbances',\n",
       " 'encopresis',\n",
       " 'endogenous depression',\n",
       " 'enuresis',\n",
       " 'episodic mood disorder',\n",
       " 'erectile dysfunction',\n",
       " 'erotomania',\n",
       " 'ethanol abuse',\n",
       " 'exhibitionism',\n",
       " 'explosive disorder',\n",
       " 'explosive personality disorder',\n",
       " 'expressive agnosia',\n",
       " 'expressive language disorder',\n",
       " 'facebook addiction',\n",
       " 'factitious disorder',\n",
       " 'factitious disorders',\n",
       " 'familial advanced sleep-phase syndrome',\n",
       " 'familial persistent stuttering',\n",
       " 'fantasies',\n",
       " 'fatigue',\n",
       " 'fear of animals',\n",
       " 'fear of getting cancer',\n",
       " 'fear of open spaces',\n",
       " 'fetal alcohol spectrum disorder',\n",
       " 'fetal alcohol syndrome',\n",
       " 'fetishism',\n",
       " 'fetishistic transvestism',\n",
       " 'finger agnosia',\n",
       " 'firesetting behavior',\n",
       " 'fixation',\n",
       " 'flashback',\n",
       " 'flat affect',\n",
       " 'flight of ideas',\n",
       " 'flying phobia',\n",
       " 'folie a deux',\n",
       " 'form agnosia',\n",
       " 'fragile x syndrome',\n",
       " 'fragmentation',\n",
       " 'fugue reaction',\n",
       " 'full-blown manic mood episode',\n",
       " 'functional vaginismus',\n",
       " 'gait apraxia',\n",
       " 'gambling addiction',\n",
       " 'gender identity disorder',\n",
       " 'generalized anxiety disorder',\n",
       " 'gilles de la tourette syndrome',\n",
       " 'global amnesia',\n",
       " 'grandiosity',\n",
       " 'grinding teeth',\n",
       " 'grossly disorganized behavior',\n",
       " \"guinon's disease\",\n",
       " 'hallucination',\n",
       " 'hallucinations',\n",
       " 'hallucinogen abuse',\n",
       " 'hallucinogen dependence',\n",
       " 'hallucinosis',\n",
       " 'headache',\n",
       " \"heller's syndrome\",\n",
       " 'heroin dependence',\n",
       " 'histrionic personality disorder',\n",
       " 'homeless mentally ill',\n",
       " 'homicidal ideations',\n",
       " 'hyperactivity',\n",
       " 'hyperarousal',\n",
       " 'hyperkinetic disorder',\n",
       " 'hyperorexia nervosa',\n",
       " 'hypnagogic hallucinations',\n",
       " 'hypoactive sexual desire disorder',\n",
       " 'hypochondria',\n",
       " 'hypochondriacal disorder',\n",
       " 'hypochondriacal neurosis',\n",
       " 'hypochondriasis',\n",
       " 'hypomania',\n",
       " 'hypomanic episode',\n",
       " 'hypomanic mood episode',\n",
       " 'hysteria',\n",
       " 'hysterical neurosis',\n",
       " 'ideomotor apraxia',\n",
       " 'ideomotor dyspraxia',\n",
       " 'impotence',\n",
       " 'impulse control disorder',\n",
       " 'impulse control disorders',\n",
       " 'incoherence',\n",
       " 'infantile autism',\n",
       " 'infantilism',\n",
       " 'inhibited sexual desire',\n",
       " 'insomnia',\n",
       " 'integrative agnosia',\n",
       " 'intellectual disability',\n",
       " 'intermittent explosive disorder',\n",
       " 'internet addiction',\n",
       " 'internet gaming addiction',\n",
       " 'intrusive thoughts',\n",
       " 'judgment disturbances',\n",
       " \"kanner's syndrome\",\n",
       " 'kleine-levin syndrome',\n",
       " 'kleptomania',\n",
       " 'kluver-bucy syndrome',\n",
       " 'klver-bucy syndrome',\n",
       " 'koro',\n",
       " \"korsakoff's psychosis or syndrome\",\n",
       " 'korsakoffs psychosis',\n",
       " \"krishaber's disease\",\n",
       " 'lack or loss of sexual desire',\n",
       " 'language disorder',\n",
       " 'learning disability',\n",
       " 'learning disorder',\n",
       " 'learning disorders',\n",
       " 'lewy body dementia',\n",
       " 'lewy body disease',\n",
       " 'limb-kinetic apraxia',\n",
       " 'magical thinking',\n",
       " 'major depression',\n",
       " 'major depressive disorder',\n",
       " 'major depressive episode',\n",
       " 'malingering',\n",
       " 'mania',\n",
       " 'manic bipolar affective disorder',\n",
       " 'manic bipolar i disorder',\n",
       " 'manic depression',\n",
       " 'manic depressive disorder',\n",
       " 'manic disorder',\n",
       " 'manic episode',\n",
       " 'marijuana abuse',\n",
       " 'masochistic personality',\n",
       " 'mass hysteria',\n",
       " 'mass madness',\n",
       " 'maternity blues',\n",
       " 'mathematics disorder',\n",
       " 'melancholia',\n",
       " 'memory disorders',\n",
       " 'mental confusion',\n",
       " 'mental depression',\n",
       " 'mental disease course',\n",
       " 'mental disorder',\n",
       " 'mental disorders',\n",
       " 'mental disorders due to general medical conditions',\n",
       " 'mental illness',\n",
       " 'mental or behavioural disorder',\n",
       " 'mental retardation',\n",
       " 'mentally ill offenders',\n",
       " 'mirror agnosia',\n",
       " 'mixed bipolar disorder',\n",
       " 'mixed episode',\n",
       " 'mixed receptive-expressive language disorder',\n",
       " 'mood disorder',\n",
       " 'mood disorders',\n",
       " 'mood swing',\n",
       " 'morphine dependence',\n",
       " 'motor-verbal tic disorder',\n",
       " 'multi infarct dementia',\n",
       " 'multifocal dementia',\n",
       " 'multiple personality disorder',\n",
       " 'munchausen by proxy',\n",
       " 'munchausen syndrome',\n",
       " 'munchausen syndrome by proxy',\n",
       " 'mutism',\n",
       " 'narcissistic personality disorder',\n",
       " 'narcolepsy',\n",
       " 'neonatal abstinence syndrome',\n",
       " 'nervousness',\n",
       " 'neurocirculatory asthenia',\n",
       " 'neurosis',\n",
       " 'neurotic depression',\n",
       " 'neurotic depression reactive type',\n",
       " 'neurotic depressive state',\n",
       " 'neurotic derealization',\n",
       " 'neurotic disorder',\n",
       " 'nicotine dependence',\n",
       " 'nightmare',\n",
       " 'nocturnal myoclonus',\n",
       " 'nominal aphasia',\n",
       " 'non-organic dyspareunia',\n",
       " 'non-organic sleep disorder',\n",
       " 'non-organic vaginismus',\n",
       " 'non-specific x-linked mental retardation',\n",
       " 'non-syndromic intellectual disability',\n",
       " 'nonsyndromic x-linked mental retardation',\n",
       " 'nosophobia',\n",
       " 'obsession',\n",
       " 'obsessional personality',\n",
       " 'obsessive compulsive disorder',\n",
       " 'obsessive compulsive personality disorder',\n",
       " 'obsessive-compulsive disorder',\n",
       " 'obsessive-compulsive personality disorder',\n",
       " 'obstructive sleep apnea',\n",
       " 'obstructive sleep apnea syndrome',\n",
       " 'occupational dysfunction',\n",
       " 'occupational neurosis',\n",
       " 'ocpd',\n",
       " 'oedipal complex',\n",
       " 'ophidiophobia',\n",
       " 'opiate dependence',\n",
       " 'opioid abuse',\n",
       " 'opioid type dependence',\n",
       " 'oppositional defiant disorder',\n",
       " 'organic brain syndromes',\n",
       " 'organic mental disorder',\n",
       " 'orgasmic disorder',\n",
       " 'orientation',\n",
       " 'paedophilia',\n",
       " 'pain agnosia',\n",
       " 'pain disorder',\n",
       " 'panic anxiety syndrome',\n",
       " 'panic attack',\n",
       " 'panic disorder',\n",
       " 'paramnsesia',\n",
       " 'paranoia',\n",
       " 'paranoid personality disorder',\n",
       " 'paranoid schizophrenia',\n",
       " 'paranoid type schizophrenia',\n",
       " 'paranoid type schizophrenia subchronic state',\n",
       " 'paraphilia disorder',\n",
       " 'paraphilias',\n",
       " 'paraphrenia - late',\n",
       " 'paraphrenic schizophrenia',\n",
       " 'paroxysmal sleep',\n",
       " 'partial fetal alcohol syndrome',\n",
       " 'passive aggressive personality disorder',\n",
       " 'pathological firesetting',\n",
       " 'pathological gambling',\n",
       " 'pathological mental process',\n",
       " 'pathological stealing',\n",
       " 'pcp abuse',\n",
       " 'pdd nos',\n",
       " 'pedophilia',\n",
       " 'periodic limb movement disorder',\n",
       " 'perseveration',\n",
       " 'personality disorder',\n",
       " 'personality disorders',\n",
       " 'pervasive development disorder',\n",
       " 'pervasive developmental disorder',\n",
       " 'pervasive developmental disorders',\n",
       " 'phencyclidine abuse',\n",
       " 'phobia',\n",
       " 'phobias',\n",
       " 'phobic disorder',\n",
       " 'phonagnosia',\n",
       " 'phonological disorder',\n",
       " 'physiological malfunction arising from mental factor',\n",
       " 'pica',\n",
       " 'pica disease',\n",
       " 'picks disease',\n",
       " 'polysomatising disorder',\n",
       " 'post-traumatic stress disorder',\n",
       " 'post-traumatic stress disorders',\n",
       " 'postnatal depression',\n",
       " 'postpartum depression',\n",
       " 'postpartum psychosis',\n",
       " 'posttraumatic stress disorder',\n",
       " 'prader-willi syndrome',\n",
       " 'premature ejaculation',\n",
       " 'premenstrual dysphoric disorder',\n",
       " 'premenstrual syndrome',\n",
       " 'presenile dementia',\n",
       " 'primary central sleep apnea',\n",
       " 'primary recurrent hypersomnia',\n",
       " 'primary sleep disorder: dyssomnia',\n",
       " 'primary sleep disorder: parasomnia',\n",
       " 'process addiction',\n",
       " 'process schizophrenia',\n",
       " 'projection',\n",
       " 'prosopagnosia',\n",
       " 'pseudodementia',\n",
       " 'psychogenic amnesia',\n",
       " 'psychogenic rumination',\n",
       " 'psychogenic tics',\n",
       " 'psychogenic vaginismus',\n",
       " 'psychologic dyspareunia',\n",
       " 'psychologic vaginismus',\n",
       " 'psychologicaldisorders',\n",
       " 'psychoneurosis nos',\n",
       " 'psychopath.personality',\n",
       " 'psychopathic personality',\n",
       " 'psychopathic personality disorder',\n",
       " 'psychophysiologic disorder',\n",
       " 'psychosexual disorder',\n",
       " 'psychosis',\n",
       " 'psychosomatic disorder',\n",
       " 'psychotic disorder',\n",
       " 'psychotic disorder due to a general medical condition',\n",
       " 'purging',\n",
       " 'pyromania',\n",
       " 'rambling',\n",
       " 'rapid eye movement sleep behavior disorder',\n",
       " 'rationalization',\n",
       " 'reaction formation',\n",
       " 'reactive depression',\n",
       " 'reactive psychosis',\n",
       " 'reading disorder',\n",
       " 'receptive amusia',\n",
       " 'recurrent depression',\n",
       " 'recurrent hypersomnia',\n",
       " 'recurrent major depression',\n",
       " 'regression',\n",
       " 'rem sleep behavior disorder',\n",
       " 'rem sleep behaviour disorder',\n",
       " 'renpenning syndrome',\n",
       " 'repetition compulsion',\n",
       " 'repression',\n",
       " 'residual schizophrenia',\n",
       " 'resistance',\n",
       " 'restlessness',\n",
       " 'retrograde amnesia',\n",
       " 'rett syndrome',\n",
       " \"rett's disorder\",\n",
       " 'rumination disorder',\n",
       " 'sadomasochistic personality',\n",
       " 'schizoaffective disorder',\n",
       " 'schizoid personality disorder',\n",
       " 'schizophrenia',\n",
       " 'schizophrenia and disorders with psychotic features',\n",
       " 'schizophrenia-1',\n",
       " 'schizophreniform disorder',\n",
       " 'schizophrenogenic family',\n",
       " 'schizophrenogenic mothers',\n",
       " 'schizotypal personality disorder',\n",
       " 'school phobia',\n",
       " 'seasonal affective disorder',\n",
       " 'self defeating behavior',\n",
       " 'self mutilation',\n",
       " 'semantic agnosia',\n",
       " 'senile dementia',\n",
       " 'senile dementia of the lewy body type',\n",
       " 'senile psychosis',\n",
       " 'separation anxiety',\n",
       " 'separation anxiety disorder',\n",
       " 'sex addiction',\n",
       " 'sexual addiction',\n",
       " 'sexual arousal disorder',\n",
       " 'sexual desire disorder',\n",
       " 'sexual disorder',\n",
       " 'sexual dysfunction',\n",
       " 'sexual impotence',\n",
       " 'sexual pain disorder',\n",
       " 'shared psychotic disorder',\n",
       " 'shopping addiction',\n",
       " 'simple phobia',\n",
       " 'simultanagnosia',\n",
       " 'single major depressive episode',\n",
       " 'sleep apnea',\n",
       " 'sleep disorder',\n",
       " 'sleep related bruxism',\n",
       " 'sleepiness',\n",
       " 'social anxiety',\n",
       " 'social dysfunction',\n",
       " 'social emotional agnosia',\n",
       " 'social phobia',\n",
       " 'sociopathic personality',\n",
       " 'somatisation disorder',\n",
       " 'somatization disorder',\n",
       " 'somatoform disorder',\n",
       " 'somatosensory agnosia',\n",
       " 'sommatization',\n",
       " 'somnolence',\n",
       " 'specific developmental disorder',\n",
       " 'specific language impairment',\n",
       " 'specific phobia',\n",
       " 'speech anxiety',\n",
       " 'speech disorder',\n",
       " 'stammering',\n",
       " 'static encephalopathy',\n",
       " 'stereotyped repetitive movements nos',\n",
       " 'stereotypic movement disorder',\n",
       " 'stereotypy habit disorder',\n",
       " 'stockholm syndrome',\n",
       " 'stress reactions',\n",
       " 'stupor',\n",
       " 'stuttering',\n",
       " 'subacute delirium',\n",
       " 'substance abuse',\n",
       " 'substance dependence',\n",
       " 'substance-induced anxiety disorder',\n",
       " 'substance-induced psychosis',\n",
       " 'substance-induced sexual dysfunction',\n",
       " 'substance-induced sleep disorder',\n",
       " 'substance-related disorder',\n",
       " 'suicidal behavior',\n",
       " 'suicidal ideations',\n",
       " 'suicide',\n",
       " 'symbiotic infantile psychosis',\n",
       " 'symbiotic psychosis',\n",
       " 'syndromes',\n",
       " 'syndromic intellectual disability',\n",
       " 'tactile agnosia',\n",
       " 'tangentiality in speech',\n",
       " 'teeth grinding',\n",
       " 'thought blocking',\n",
       " 'thought disorder',\n",
       " 'thought disturbances',\n",
       " 'tic disorder',\n",
       " 'time agnosia',\n",
       " 'topographical agnosia',\n",
       " 'tourette syndrome',\n",
       " 'toxic psychoses',\n",
       " 'transcortical apraxia',\n",
       " 'transient global amnesia',\n",
       " 'transient tic disorder',\n",
       " 'transsexualism',\n",
       " 'transvestic fetishism',\n",
       " 'transvestism',\n",
       " 'traumatic neurosis',\n",
       " 'traumatic stress disorder',\n",
       " 'treatment resistant depression',\n",
       " 'trichotillomania',\n",
       " 'undifferentiated schizophrenia',\n",
       " 'undoing',\n",
       " 'unipolar depression',\n",
       " 'vascular dementia',\n",
       " 'vasculogenic impotence',\n",
       " 'verbal auditory agnosia',\n",
       " 'visual agnosia',\n",
       " 'visual hallucinations',\n",
       " 'visual verbal agnosia',\n",
       " 'voyeurism',\n",
       " 'waxy flexibility',\n",
       " 'winter depression',\n",
       " 'withdrawal disorder',\n",
       " 'work related illnesses',\n",
       " 'writing disorder',\n",
       " 'zoophilia',\n",
       " 'zoophobia'}"
      ]
     },
     "execution_count": 130,
     "metadata": {},
     "output_type": "execute_result"
    }
   ],
   "source": [
    "mental_health_terms = getCleanTerms(list(mfomd_terms.union(disorders_terms).union(asdpto_terms)))\n",
    "print('There are', len(mental_health_terms), 'mental health terms that be collected.')\n",
    "mental_health_terms"
   ]
  },
  {
   "cell_type": "markdown",
   "id": "1f79c399",
   "metadata": {
    "id": "1f79c399"
   },
   "source": [
    "------------------"
   ]
  },
  {
   "cell_type": "markdown",
   "id": "e2f5dee3",
   "metadata": {
    "id": "e2f5dee3"
   },
   "source": [
    "## All Nutrition terms and Mental health Terms"
   ]
  },
  {
   "cell_type": "code",
   "execution_count": 133,
   "id": "72466e7e",
   "metadata": {
    "id": "72466e7e",
    "outputId": "b60faa02-fde0-48bb-e641-ff6202bb1958"
   },
   "outputs": [
    {
     "name": "stdout",
     "output_type": "stream",
     "text": [
      "There are 2921 nutrition terms.\n",
      "There are 1480 chebi terms.\n",
      "There are 676 mental health terms.\n"
     ]
    }
   ],
   "source": [
    "print('There are', len(food_terms_en), 'nutrition terms.')\n",
    "print('There are', len(chebi_terms), 'chebi terms.')\n",
    "print('There are', len(mental_health_terms), 'mental health terms.')"
   ]
  },
  {
   "cell_type": "markdown",
   "id": "17fe6c30",
   "metadata": {
    "id": "17fe6c30"
   },
   "source": [
    "## Write entities to files"
   ]
  },
  {
   "cell_type": "code",
   "execution_count": 134,
   "id": "9447b496",
   "metadata": {
    "id": "9447b496"
   },
   "outputs": [],
   "source": [
    "with open(f'{GENERAL_PATH}/results/entities/nutrition_entities.txt', 'w', encoding='utf-8') as f:\n",
    "    for t in food_terms_en:\n",
    "        f.write(t + '\\n')\n",
    "\n",
    "with open(f'{GENERAL_PATH}/results/entities/chebi_entities.txt', 'w', encoding='utf-8') as f:\n",
    "        for t in chebi_terms:\n",
    "            f.write(t + '\\n')\n",
    "        \n",
    "with open(f'{GENERAL_PATH}/results/entities/mental_health_entities.txt', 'w', encoding='utf-8') as f:\n",
    "        for t in mental_health_terms:\n",
    "            f.write(t + '\\n')"
   ]
  },
  {
   "cell_type": "markdown",
   "id": "4bb9410d",
   "metadata": {
    "id": "4bb9410d"
   },
   "source": [
    "--------------------------------"
   ]
  }
 ],
 "metadata": {
  "colab": {
   "collapsed_sections": [
    "7b8bd9ac",
    "0184070f",
    "1b02713d",
    "3f337585",
    "ecc4804d",
    "3d7df009",
    "d4a3460c",
    "e2f5dee3",
    "17fe6c30",
    "328df3d6"
   ],
   "name": "[code] Get_and_Clean_Papers.ipynb",
   "provenance": []
  },
  "kernelspec": {
   "display_name": "Python 3",
   "language": "python",
   "name": "python3"
  },
  "language_info": {
   "codemirror_mode": {
    "name": "ipython",
    "version": 3
   },
   "file_extension": ".py",
   "mimetype": "text/x-python",
   "name": "python",
   "nbconvert_exporter": "python",
   "pygments_lexer": "ipython3",
   "version": "3.8.8"
  }
 },
 "nbformat": 4,
 "nbformat_minor": 5
}
