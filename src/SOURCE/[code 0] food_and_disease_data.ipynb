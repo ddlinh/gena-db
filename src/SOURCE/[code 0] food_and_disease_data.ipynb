{
 "cells": [
  {
   "cell_type": "code",
   "execution_count": null,
   "id": "f0655141",
   "metadata": {},
   "outputs": [],
   "source": [
    "!pip install -U pandas\n",
    "!pip install -U numpy"
   ]
  },
  {
   "cell_type": "markdown",
   "id": "59153243",
   "metadata": {},
   "source": [
    "### Import the libraries"
   ]
  },
  {
   "cell_type": "code",
   "execution_count": 1,
   "id": "b9bc6076",
   "metadata": {},
   "outputs": [],
   "source": [
    "import os\n",
    "import pandas as pd\n",
    "import re\n",
    "import numpy as np"
   ]
  },
  {
   "cell_type": "markdown",
   "id": "de93dfa4",
   "metadata": {},
   "source": [
    "## DOID ontology\n",
    "**DOID ONTOLOGY** has been developed as a standardized ontology for human disease with the purpose of providing the biomedical community with consistent, reusable and sustainable descriptions of human disease terms, phenotype characteristics and related medical vocabulary disease concepts.\n",
    "\n",
    "**Source:**https://bioportal.bioontology.org/ontologies/DOID"
   ]
  },
  {
   "cell_type": "code",
   "execution_count": 11,
   "id": "2e827fee",
   "metadata": {},
   "outputs": [],
   "source": [
    "GENERAL_PATH = \"../DATASET\"\n",
    "DATA_PATH = GENERAL_PATH + \"/data\""
   ]
  },
  {
   "cell_type": "markdown",
   "id": "b15068c6",
   "metadata": {},
   "source": [
    "### Read DOID ontology"
   ]
  },
  {
   "cell_type": "code",
   "execution_count": 12,
   "id": "01ade237",
   "metadata": {},
   "outputs": [
    {
     "data": {
      "text/plain": [
       "Index(['Class ID', 'Preferred Label', 'Synonyms', 'Definitions', 'Obsolete',\n",
       "       'CUI', 'Semantic Types', 'Parents', 'adjacent_to', 'auto-generated-by',\n",
       "       ...\n",
       "       'related via exposure to',\n",
       "       'relation between physical entity and a process or stage', 'saved-by',\n",
       "       'sexually_transmitted_infectious_disease', 'subset_property',\n",
       "       'tick-borne_infectious_disease', 'title', 'TopNodes_DOcancerslim',\n",
       "       'transmitted by', 'zoonotic_infectious_disease'],\n",
       "      dtype='object', length=107)"
      ]
     },
     "execution_count": 12,
     "metadata": {},
     "output_type": "execute_result"
    }
   ],
   "source": [
    "file_path = DATA_PATH + '/resource_csv/DOID.csv'\n",
    "doid_df = pd.read_csv(file_path)\n",
    "doid_df.columns"
   ]
  },
  {
   "cell_type": "markdown",
   "id": "d0afe108",
   "metadata": {},
   "source": [
    "### Ontologies that has been used in DOID"
   ]
  },
  {
   "cell_type": "code",
   "execution_count": 41,
   "id": "71ad5a43",
   "metadata": {},
   "outputs": [
    {
     "data": {
      "text/plain": [
       "'DOID'"
      ]
     },
     "execution_count": 41,
     "metadata": {},
     "output_type": "execute_result"
    }
   ],
   "source": [
    "# group() 's' index is from 1\n",
    "regex = r\"^(.+//)(.+/)*(.+)(_\\d+)\\/*$\"\n",
    "regex_2 = r\"http://purl.obolibrary.org/obo/doid#(.+)\"\n",
    "re.match(regex, 'http://purl.obolibrary.org/obo/DOID_8986').group(3)"
   ]
  },
  {
   "cell_type": "code",
   "execution_count": 42,
   "id": "d8fabb44",
   "metadata": {},
   "outputs": [
    {
     "data": {
      "text/plain": [
       "DOID         13322\n",
       "NCBITaxon     1095\n",
       "SYMP           847\n",
       "UBERON         779\n",
       "HP             439\n",
       "CHEBI          374\n",
       "SO             246\n",
       "OMIM           202\n",
       "CL             184\n",
       "FOODON          56\n",
       "TRANS           32\n",
       "GENO            31\n",
       "ECO             13\n",
       "DISDRIV          7\n",
       "ExO              4\n",
       "UPHENO           1\n",
       "Name: Type, dtype: int64"
      ]
     },
     "execution_count": 42,
     "metadata": {},
     "output_type": "execute_result"
    }
   ],
   "source": [
    "doid_df['Type'] = doid_df['Class ID'].map(lambda x: re.match(regex, x).group(3) if re.match(regex, x) else re.match(regex_2, x).group(1).upper())\n",
    "doid_df['Type'] = doid_df['Type'].map(lambda x: 'SO' if x == 'SEQUENCE' else x)\n",
    "doid_df['Type'].value_counts()"
   ]
  },
  {
   "cell_type": "markdown",
   "id": "14c26112",
   "metadata": {},
   "source": [
    "### Drop the non-value columns"
   ]
  },
  {
   "cell_type": "code",
   "execution_count": 43,
   "id": "bffd0f68",
   "metadata": {},
   "outputs": [
    {
     "name": "stderr",
     "output_type": "stream",
     "text": [
      "<ipython-input-43-31077daf6dda>:4: FutureWarning: In a future version of pandas all arguments of DataFrame.drop except for the argument 'labels' will be keyword-only\n",
      "  doid_df = doid_df.drop(column, 1)\n"
     ]
    },
    {
     "data": {
      "text/html": [
       "<div>\n",
       "<style scoped>\n",
       "    .dataframe tbody tr th:only-of-type {\n",
       "        vertical-align: middle;\n",
       "    }\n",
       "\n",
       "    .dataframe tbody tr th {\n",
       "        vertical-align: top;\n",
       "    }\n",
       "\n",
       "    .dataframe thead th {\n",
       "        text-align: right;\n",
       "    }\n",
       "</style>\n",
       "<table border=\"1\" class=\"dataframe\">\n",
       "  <thead>\n",
       "    <tr style=\"text-align: right;\">\n",
       "      <th></th>\n",
       "      <th>Class ID</th>\n",
       "      <th>Preferred Label</th>\n",
       "      <th>Synonyms</th>\n",
       "      <th>Definitions</th>\n",
       "      <th>Obsolete</th>\n",
       "      <th>Parents</th>\n",
       "      <th>adjacent_to</th>\n",
       "      <th>comment</th>\n",
       "      <th>contributes to condition</th>\n",
       "      <th>created_by</th>\n",
       "      <th>...</th>\n",
       "      <th>http://data.bioontology.org/metadata/prefixIRI</th>\n",
       "      <th>http://purl.obolibrary.org/obo/doid#has_symptom</th>\n",
       "      <th>http://www.w3.org/2004/02/skos/core#notation</th>\n",
       "      <th>id</th>\n",
       "      <th>IEDB alternative term</th>\n",
       "      <th>in_subset</th>\n",
       "      <th>label</th>\n",
       "      <th>owl:deprecated</th>\n",
       "      <th>transmitted by</th>\n",
       "      <th>Type</th>\n",
       "    </tr>\n",
       "  </thead>\n",
       "  <tbody>\n",
       "    <tr>\n",
       "      <th>0</th>\n",
       "      <td>http://purl.obolibrary.org/obo/DOID_8986</td>\n",
       "      <td>narcolepsy</td>\n",
       "      <td>Narcolepsy, without cataplexy|paroxysmal sleep</td>\n",
       "      <td>A sleep disorder that involves an excessive ur...</td>\n",
       "      <td>False</td>\n",
       "      <td>http://purl.obolibrary.org/obo/DOID_535</td>\n",
       "      <td>NaN</td>\n",
       "      <td>Xref MGI.</td>\n",
       "      <td>NaN</td>\n",
       "      <td>NaN</td>\n",
       "      <td>...</td>\n",
       "      <td>NaN</td>\n",
       "      <td>NaN</td>\n",
       "      <td>DOID:8986</td>\n",
       "      <td>DOID:8986</td>\n",
       "      <td>NaN</td>\n",
       "      <td>http://purl.obolibrary.org/obo/doid#DO_rare_sl...</td>\n",
       "      <td>narcolepsy</td>\n",
       "      <td>NaN</td>\n",
       "      <td>NaN</td>\n",
       "      <td>DOID</td>\n",
       "    </tr>\n",
       "    <tr>\n",
       "      <th>1</th>\n",
       "      <td>http://purl.obolibrary.org/obo/DOID_7233</td>\n",
       "      <td>adult central nervous system embryonal carcinoma</td>\n",
       "      <td>Embryonal carcinoma of the adult central nervo...</td>\n",
       "      <td>A central nervous system adult germ cell tumor...</td>\n",
       "      <td>False</td>\n",
       "      <td>http://purl.obolibrary.org/obo/DOID_5349</td>\n",
       "      <td>NaN</td>\n",
       "      <td>NaN</td>\n",
       "      <td>NaN</td>\n",
       "      <td>NaN</td>\n",
       "      <td>...</td>\n",
       "      <td>NaN</td>\n",
       "      <td>NaN</td>\n",
       "      <td>DOID:7233</td>\n",
       "      <td>DOID:7233</td>\n",
       "      <td>NaN</td>\n",
       "      <td>http://purl.obolibrary.org/obo/doid#NCIthesaurus</td>\n",
       "      <td>adult central nervous system embryonal carcinoma</td>\n",
       "      <td>NaN</td>\n",
       "      <td>NaN</td>\n",
       "      <td>DOID</td>\n",
       "    </tr>\n",
       "    <tr>\n",
       "      <th>2</th>\n",
       "      <td>http://purl.obolibrary.org/obo/HP_0011138</td>\n",
       "      <td>Abnormality of skin adnexa morphology</td>\n",
       "      <td>NaN</td>\n",
       "      <td>NaN</td>\n",
       "      <td>False</td>\n",
       "      <td>http://purl.obolibrary.org/obo/HP_0001574</td>\n",
       "      <td>NaN</td>\n",
       "      <td>NaN</td>\n",
       "      <td>NaN</td>\n",
       "      <td>NaN</td>\n",
       "      <td>...</td>\n",
       "      <td>NaN</td>\n",
       "      <td>NaN</td>\n",
       "      <td>HP:0011138</td>\n",
       "      <td>HP:0011138</td>\n",
       "      <td>NaN</td>\n",
       "      <td>NaN</td>\n",
       "      <td>Abnormality of skin adnexa morphology</td>\n",
       "      <td>NaN</td>\n",
       "      <td>NaN</td>\n",
       "      <td>HP</td>\n",
       "    </tr>\n",
       "  </tbody>\n",
       "</table>\n",
       "<p>3 rows × 42 columns</p>\n",
       "</div>"
      ],
      "text/plain": [
       "                                    Class ID  \\\n",
       "0   http://purl.obolibrary.org/obo/DOID_8986   \n",
       "1   http://purl.obolibrary.org/obo/DOID_7233   \n",
       "2  http://purl.obolibrary.org/obo/HP_0011138   \n",
       "\n",
       "                                    Preferred Label  \\\n",
       "0                                        narcolepsy   \n",
       "1  adult central nervous system embryonal carcinoma   \n",
       "2             Abnormality of skin adnexa morphology   \n",
       "\n",
       "                                            Synonyms  \\\n",
       "0     Narcolepsy, without cataplexy|paroxysmal sleep   \n",
       "1  Embryonal carcinoma of the adult central nervo...   \n",
       "2                                                NaN   \n",
       "\n",
       "                                         Definitions  Obsolete  \\\n",
       "0  A sleep disorder that involves an excessive ur...     False   \n",
       "1  A central nervous system adult germ cell tumor...     False   \n",
       "2                                                NaN     False   \n",
       "\n",
       "                                     Parents adjacent_to    comment  \\\n",
       "0    http://purl.obolibrary.org/obo/DOID_535         NaN  Xref MGI.   \n",
       "1   http://purl.obolibrary.org/obo/DOID_5349         NaN        NaN   \n",
       "2  http://purl.obolibrary.org/obo/HP_0001574         NaN        NaN   \n",
       "\n",
       "  contributes to condition created_by  ...  \\\n",
       "0                      NaN        NaN  ...   \n",
       "1                      NaN        NaN  ...   \n",
       "2                      NaN        NaN  ...   \n",
       "\n",
       "  http://data.bioontology.org/metadata/prefixIRI  \\\n",
       "0                                            NaN   \n",
       "1                                            NaN   \n",
       "2                                            NaN   \n",
       "\n",
       "  http://purl.obolibrary.org/obo/doid#has_symptom  \\\n",
       "0                                             NaN   \n",
       "1                                             NaN   \n",
       "2                                             NaN   \n",
       "\n",
       "  http://www.w3.org/2004/02/skos/core#notation          id  \\\n",
       "0                                    DOID:8986   DOID:8986   \n",
       "1                                    DOID:7233   DOID:7233   \n",
       "2                                   HP:0011138  HP:0011138   \n",
       "\n",
       "  IEDB alternative term                                          in_subset  \\\n",
       "0                   NaN  http://purl.obolibrary.org/obo/doid#DO_rare_sl...   \n",
       "1                   NaN   http://purl.obolibrary.org/obo/doid#NCIthesaurus   \n",
       "2                   NaN                                                NaN   \n",
       "\n",
       "                                              label owl:deprecated  \\\n",
       "0                                        narcolepsy            NaN   \n",
       "1  adult central nervous system embryonal carcinoma            NaN   \n",
       "2             Abnormality of skin adnexa morphology            NaN   \n",
       "\n",
       "  transmitted by  Type  \n",
       "0            NaN  DOID  \n",
       "1            NaN  DOID  \n",
       "2            NaN    HP  \n",
       "\n",
       "[3 rows x 42 columns]"
      ]
     },
     "execution_count": 43,
     "metadata": {},
     "output_type": "execute_result"
    }
   ],
   "source": [
    "non_value_columns = []\n",
    "for column in list(doid_df.columns):\n",
    "    if len(list(doid_df[column].value_counts())) == 0:\n",
    "        doid_df = doid_df.drop(column, 1)\n",
    "        non_value_columns.append(column)\n",
    "doid_df.head(3)"
   ]
  },
  {
   "cell_type": "markdown",
   "id": "69a63a6c",
   "metadata": {},
   "source": [
    "### The ontologies that may be useful\n",
    "* **DOID**: human disease\n",
    "* **FOODON**: food ontology\n",
    "* **CHEBI**: Chemical Entities of Biological Interest Ontology"
   ]
  },
  {
   "cell_type": "markdown",
   "id": "c2a783b7",
   "metadata": {},
   "source": [
    "### Get fad_df (food and disease)"
   ]
  },
  {
   "cell_type": "code",
   "execution_count": 44,
   "id": "90b1fb8d",
   "metadata": {},
   "outputs": [
    {
     "data": {
      "text/html": [
       "<div>\n",
       "<style scoped>\n",
       "    .dataframe tbody tr th:only-of-type {\n",
       "        vertical-align: middle;\n",
       "    }\n",
       "\n",
       "    .dataframe tbody tr th {\n",
       "        vertical-align: top;\n",
       "    }\n",
       "\n",
       "    .dataframe thead th {\n",
       "        text-align: right;\n",
       "    }\n",
       "</style>\n",
       "<table border=\"1\" class=\"dataframe\">\n",
       "  <thead>\n",
       "    <tr style=\"text-align: right;\">\n",
       "      <th></th>\n",
       "      <th>Class ID</th>\n",
       "      <th>Preferred Label</th>\n",
       "      <th>Synonyms</th>\n",
       "      <th>Definitions</th>\n",
       "      <th>Obsolete</th>\n",
       "      <th>Parents</th>\n",
       "      <th>adjacent_to</th>\n",
       "      <th>comment</th>\n",
       "      <th>contributes to condition</th>\n",
       "      <th>created_by</th>\n",
       "      <th>...</th>\n",
       "      <th>http://data.bioontology.org/metadata/prefixIRI</th>\n",
       "      <th>http://purl.obolibrary.org/obo/doid#has_symptom</th>\n",
       "      <th>http://www.w3.org/2004/02/skos/core#notation</th>\n",
       "      <th>id</th>\n",
       "      <th>IEDB alternative term</th>\n",
       "      <th>in_subset</th>\n",
       "      <th>label</th>\n",
       "      <th>owl:deprecated</th>\n",
       "      <th>transmitted by</th>\n",
       "      <th>Type</th>\n",
       "    </tr>\n",
       "  </thead>\n",
       "  <tbody>\n",
       "    <tr>\n",
       "      <th>0</th>\n",
       "      <td>http://purl.obolibrary.org/obo/DOID_8986</td>\n",
       "      <td>narcolepsy</td>\n",
       "      <td>Narcolepsy, without cataplexy|paroxysmal sleep</td>\n",
       "      <td>A sleep disorder that involves an excessive ur...</td>\n",
       "      <td>False</td>\n",
       "      <td>http://purl.obolibrary.org/obo/DOID_535</td>\n",
       "      <td>NaN</td>\n",
       "      <td>Xref MGI.</td>\n",
       "      <td>NaN</td>\n",
       "      <td>NaN</td>\n",
       "      <td>...</td>\n",
       "      <td>NaN</td>\n",
       "      <td>NaN</td>\n",
       "      <td>DOID:8986</td>\n",
       "      <td>DOID:8986</td>\n",
       "      <td>NaN</td>\n",
       "      <td>http://purl.obolibrary.org/obo/doid#DO_rare_sl...</td>\n",
       "      <td>narcolepsy</td>\n",
       "      <td>NaN</td>\n",
       "      <td>NaN</td>\n",
       "      <td>DOID</td>\n",
       "    </tr>\n",
       "    <tr>\n",
       "      <th>1</th>\n",
       "      <td>http://purl.obolibrary.org/obo/DOID_7233</td>\n",
       "      <td>adult central nervous system embryonal carcinoma</td>\n",
       "      <td>Embryonal carcinoma of the adult central nervo...</td>\n",
       "      <td>A central nervous system adult germ cell tumor...</td>\n",
       "      <td>False</td>\n",
       "      <td>http://purl.obolibrary.org/obo/DOID_5349</td>\n",
       "      <td>NaN</td>\n",
       "      <td>NaN</td>\n",
       "      <td>NaN</td>\n",
       "      <td>NaN</td>\n",
       "      <td>...</td>\n",
       "      <td>NaN</td>\n",
       "      <td>NaN</td>\n",
       "      <td>DOID:7233</td>\n",
       "      <td>DOID:7233</td>\n",
       "      <td>NaN</td>\n",
       "      <td>http://purl.obolibrary.org/obo/doid#NCIthesaurus</td>\n",
       "      <td>adult central nervous system embryonal carcinoma</td>\n",
       "      <td>NaN</td>\n",
       "      <td>NaN</td>\n",
       "      <td>DOID</td>\n",
       "    </tr>\n",
       "    <tr>\n",
       "      <th>2</th>\n",
       "      <td>http://purl.obolibrary.org/obo/DOID_5236</td>\n",
       "      <td>subungual glomus tumor</td>\n",
       "      <td>Subungual Glomus tumour|Subungual Glomus tumor...</td>\n",
       "      <td>NaN</td>\n",
       "      <td>False</td>\n",
       "      <td>http://purl.obolibrary.org/obo/DOID_2431</td>\n",
       "      <td>NaN</td>\n",
       "      <td>NaN</td>\n",
       "      <td>NaN</td>\n",
       "      <td>NaN</td>\n",
       "      <td>...</td>\n",
       "      <td>NaN</td>\n",
       "      <td>NaN</td>\n",
       "      <td>DOID:5236</td>\n",
       "      <td>DOID:5236</td>\n",
       "      <td>NaN</td>\n",
       "      <td>http://purl.obolibrary.org/obo/doid#NCIthesaurus</td>\n",
       "      <td>subungual glomus tumor</td>\n",
       "      <td>NaN</td>\n",
       "      <td>NaN</td>\n",
       "      <td>DOID</td>\n",
       "    </tr>\n",
       "    <tr>\n",
       "      <th>3</th>\n",
       "      <td>http://purl.obolibrary.org/obo/DOID_1934</td>\n",
       "      <td>dysostosis</td>\n",
       "      <td>NaN</td>\n",
       "      <td>A bone development disease that results in def...</td>\n",
       "      <td>False</td>\n",
       "      <td>http://purl.obolibrary.org/obo/DOID_0080006</td>\n",
       "      <td>NaN</td>\n",
       "      <td>NaN</td>\n",
       "      <td>NaN</td>\n",
       "      <td>NaN</td>\n",
       "      <td>...</td>\n",
       "      <td>NaN</td>\n",
       "      <td>NaN</td>\n",
       "      <td>DOID:1934</td>\n",
       "      <td>DOID:1934</td>\n",
       "      <td>NaN</td>\n",
       "      <td>http://purl.obolibrary.org/obo/doid#NCIthesaurus</td>\n",
       "      <td>dysostosis</td>\n",
       "      <td>NaN</td>\n",
       "      <td>NaN</td>\n",
       "      <td>DOID</td>\n",
       "    </tr>\n",
       "    <tr>\n",
       "      <th>4</th>\n",
       "      <td>http://purl.obolibrary.org/obo/DOID_1086</td>\n",
       "      <td>obsolete congenital chromosomal disease</td>\n",
       "      <td>NaN</td>\n",
       "      <td>NaN</td>\n",
       "      <td>True</td>\n",
       "      <td>NaN</td>\n",
       "      <td>NaN</td>\n",
       "      <td>NaN</td>\n",
       "      <td>NaN</td>\n",
       "      <td>NaN</td>\n",
       "      <td>...</td>\n",
       "      <td>NaN</td>\n",
       "      <td>NaN</td>\n",
       "      <td>DOID:1086</td>\n",
       "      <td>DOID:1086</td>\n",
       "      <td>NaN</td>\n",
       "      <td>NaN</td>\n",
       "      <td>obsolete congenital chromosomal disease</td>\n",
       "      <td>True</td>\n",
       "      <td>NaN</td>\n",
       "      <td>DOID</td>\n",
       "    </tr>\n",
       "  </tbody>\n",
       "</table>\n",
       "<p>5 rows × 42 columns</p>\n",
       "</div>"
      ],
      "text/plain": [
       "                                   Class ID  \\\n",
       "0  http://purl.obolibrary.org/obo/DOID_8986   \n",
       "1  http://purl.obolibrary.org/obo/DOID_7233   \n",
       "2  http://purl.obolibrary.org/obo/DOID_5236   \n",
       "3  http://purl.obolibrary.org/obo/DOID_1934   \n",
       "4  http://purl.obolibrary.org/obo/DOID_1086   \n",
       "\n",
       "                                    Preferred Label  \\\n",
       "0                                        narcolepsy   \n",
       "1  adult central nervous system embryonal carcinoma   \n",
       "2                            subungual glomus tumor   \n",
       "3                                        dysostosis   \n",
       "4           obsolete congenital chromosomal disease   \n",
       "\n",
       "                                            Synonyms  \\\n",
       "0     Narcolepsy, without cataplexy|paroxysmal sleep   \n",
       "1  Embryonal carcinoma of the adult central nervo...   \n",
       "2  Subungual Glomus tumour|Subungual Glomus tumor...   \n",
       "3                                                NaN   \n",
       "4                                                NaN   \n",
       "\n",
       "                                         Definitions  Obsolete  \\\n",
       "0  A sleep disorder that involves an excessive ur...     False   \n",
       "1  A central nervous system adult germ cell tumor...     False   \n",
       "2                                                NaN     False   \n",
       "3  A bone development disease that results in def...     False   \n",
       "4                                                NaN      True   \n",
       "\n",
       "                                       Parents adjacent_to    comment  \\\n",
       "0      http://purl.obolibrary.org/obo/DOID_535         NaN  Xref MGI.   \n",
       "1     http://purl.obolibrary.org/obo/DOID_5349         NaN        NaN   \n",
       "2     http://purl.obolibrary.org/obo/DOID_2431         NaN        NaN   \n",
       "3  http://purl.obolibrary.org/obo/DOID_0080006         NaN        NaN   \n",
       "4                                          NaN         NaN        NaN   \n",
       "\n",
       "  contributes to condition created_by  ...  \\\n",
       "0                      NaN        NaN  ...   \n",
       "1                      NaN        NaN  ...   \n",
       "2                      NaN        NaN  ...   \n",
       "3                      NaN        NaN  ...   \n",
       "4                      NaN        NaN  ...   \n",
       "\n",
       "  http://data.bioontology.org/metadata/prefixIRI  \\\n",
       "0                                            NaN   \n",
       "1                                            NaN   \n",
       "2                                            NaN   \n",
       "3                                            NaN   \n",
       "4                                            NaN   \n",
       "\n",
       "  http://purl.obolibrary.org/obo/doid#has_symptom  \\\n",
       "0                                             NaN   \n",
       "1                                             NaN   \n",
       "2                                             NaN   \n",
       "3                                             NaN   \n",
       "4                                             NaN   \n",
       "\n",
       "  http://www.w3.org/2004/02/skos/core#notation         id  \\\n",
       "0                                    DOID:8986  DOID:8986   \n",
       "1                                    DOID:7233  DOID:7233   \n",
       "2                                    DOID:5236  DOID:5236   \n",
       "3                                    DOID:1934  DOID:1934   \n",
       "4                                    DOID:1086  DOID:1086   \n",
       "\n",
       "  IEDB alternative term                                          in_subset  \\\n",
       "0                   NaN  http://purl.obolibrary.org/obo/doid#DO_rare_sl...   \n",
       "1                   NaN   http://purl.obolibrary.org/obo/doid#NCIthesaurus   \n",
       "2                   NaN   http://purl.obolibrary.org/obo/doid#NCIthesaurus   \n",
       "3                   NaN   http://purl.obolibrary.org/obo/doid#NCIthesaurus   \n",
       "4                   NaN                                                NaN   \n",
       "\n",
       "                                              label owl:deprecated  \\\n",
       "0                                        narcolepsy            NaN   \n",
       "1  adult central nervous system embryonal carcinoma            NaN   \n",
       "2                            subungual glomus tumor            NaN   \n",
       "3                                        dysostosis            NaN   \n",
       "4           obsolete congenital chromosomal disease           True   \n",
       "\n",
       "  transmitted by  Type  \n",
       "0            NaN  DOID  \n",
       "1            NaN  DOID  \n",
       "2            NaN  DOID  \n",
       "3            NaN  DOID  \n",
       "4            NaN  DOID  \n",
       "\n",
       "[5 rows x 42 columns]"
      ]
     },
     "execution_count": 44,
     "metadata": {},
     "output_type": "execute_result"
    }
   ],
   "source": [
    "types = ['DOID', 'FOODON', 'CHEBI']\n",
    "fad_df = doid_df[doid_df['Type'].isin(types)].reset_index(drop=True)\n",
    "fad_df.dropna()\n",
    "fad_df = fad_df.drop_duplicates(subset='Class ID', keep='last')\n",
    "fad_df.head(5)"
   ]
  },
  {
   "cell_type": "markdown",
   "id": "24fffcbf",
   "metadata": {},
   "source": [
    "### Information dictionaries"
   ]
  },
  {
   "cell_type": "code",
   "execution_count": 45,
   "id": "1024bb5a",
   "metadata": {},
   "outputs": [],
   "source": [
    "# Create a dictionary for mapping class ID and preferred Label\n",
    "dct_classID = {}\n",
    "for index, row in fad_df.iterrows():\n",
    "    dct_classID[row['Class ID']] = row['Preferred Label']\n",
    "\n",
    "# Create a dictionary for mapping preferred label with their information\n",
    "dct_label = {}\n",
    "for index, row in fad_df.iterrows():\n",
    "    dct_label[row['Preferred Label']] = {}\n",
    "    dct_label[row['Preferred Label']]['synonyms'] = row['Synonyms']\n",
    "    dct_label[row['Preferred Label']]['definitions'] = row['Definitions']"
   ]
  },
  {
   "cell_type": "markdown",
   "id": "30b81ada",
   "metadata": {},
   "source": [
    "### Get the relations between the entities in fad_df"
   ]
  },
  {
   "cell_type": "code",
   "execution_count": 46,
   "id": "44c1703c",
   "metadata": {},
   "outputs": [
    {
     "data": {
      "text/plain": [
       "['adjacent_to',\n",
       " 'contributes to condition',\n",
       " 'derives_from',\n",
       " 'disease has basis in',\n",
       " 'disease has location',\n",
       " 'existence starts during',\n",
       " 'has allergic trigger',\n",
       " 'has broader match',\n",
       " 'has exact match',\n",
       " 'has exposure stressor',\n",
       " 'has material basis in',\n",
       " 'has narrower match',\n",
       " 'has phenotype',\n",
       " 'transmitted by']"
      ]
     },
     "execution_count": 46,
     "metadata": {},
     "output_type": "execute_result"
    }
   ],
   "source": [
    "columns = list(fad_df.columns)\n",
    "list_relations = columns[6:7] + [columns[8]] + columns[13:24] + [columns[-2]]\n",
    "list_relations"
   ]
  },
  {
   "cell_type": "code",
   "execution_count": 47,
   "id": "0968df7f",
   "metadata": {},
   "outputs": [],
   "source": [
    "fad_data = []\n",
    "regex_fad = r'.*(FOODON|DOID|CHEBI).*$'\n",
    "for index, row in fad_df.iterrows():\n",
    "    for relation in list_relations:\n",
    "        if not (pd.isna(row[relation])) and re.match(regex_fad, row[relation]):\n",
    "            fad_data.append((row['Class ID'], dct_classID.get(row['Class ID']), relation, row[relation]))"
   ]
  },
  {
   "cell_type": "code",
   "execution_count": 48,
   "id": "77d6aebc",
   "metadata": {},
   "outputs": [
    {
     "data": {
      "text/plain": [
       "128"
      ]
     },
     "execution_count": 48,
     "metadata": {},
     "output_type": "execute_result"
    }
   ],
   "source": [
    "len(fad_data)"
   ]
  },
  {
   "cell_type": "code",
   "execution_count": 49,
   "id": "fa242ba1",
   "metadata": {},
   "outputs": [
    {
     "data": {
      "text/plain": [
       "[('http://purl.obolibrary.org/obo/DOID_0040102',\n",
       "  \"N,N'-diethylthiourea allergic contact dermatitis\",\n",
       "  'has allergic trigger',\n",
       "  'http://purl.obolibrary.org/obo/CHEBI_82448'),\n",
       " ('http://purl.obolibrary.org/obo/DOID_251',\n",
       "  'alcohol-induced mental disorder',\n",
       "  'has exposure stressor',\n",
       "  'http://purl.obolibrary.org/obo/CHEBI_30879'),\n",
       " ('http://purl.obolibrary.org/obo/DOID_252',\n",
       "  'alcoholic psychosis',\n",
       "  'has exposure stressor',\n",
       "  'http://purl.obolibrary.org/obo/CHEBI_30879')]"
      ]
     },
     "execution_count": 49,
     "metadata": {},
     "output_type": "execute_result"
    }
   ],
   "source": [
    "fad_data[:3]"
   ]
  },
  {
   "cell_type": "markdown",
   "id": "6d6046f2",
   "metadata": {},
   "source": [
    "### Flatten the tuples"
   ]
  },
  {
   "cell_type": "code",
   "execution_count": 50,
   "id": "db0eea43",
   "metadata": {},
   "outputs": [
    {
     "data": {
      "text/plain": [
       "128"
      ]
     },
     "execution_count": 50,
     "metadata": {},
     "output_type": "execute_result"
    }
   ],
   "source": [
    "fad_final = []\n",
    "for (h, d, r, t) in fad_data:\n",
    "    ts = t.split('|')\n",
    "    if len(ts) > 1:\n",
    "        ts = list(filter(lambda mem: re.match(regex_fad, mem), ts))\n",
    "        fad_final = fad_final + [(h, d, r, sub_t) for sub_t in ts]\n",
    "    else:\n",
    "        fad_final = fad_final + [(h, d, r, t)]\n",
    "len(fad_final)"
   ]
  },
  {
   "cell_type": "markdown",
   "id": "0e1389de",
   "metadata": {},
   "source": [
    "### Create a dataframe for information tuple"
   ]
  },
  {
   "cell_type": "code",
   "execution_count": 51,
   "id": "9fcf9f96",
   "metadata": {},
   "outputs": [
    {
     "data": {
      "text/html": [
       "<div>\n",
       "<style scoped>\n",
       "    .dataframe tbody tr th:only-of-type {\n",
       "        vertical-align: middle;\n",
       "    }\n",
       "\n",
       "    .dataframe tbody tr th {\n",
       "        vertical-align: top;\n",
       "    }\n",
       "\n",
       "    .dataframe thead th {\n",
       "        text-align: right;\n",
       "    }\n",
       "</style>\n",
       "<table border=\"1\" class=\"dataframe\">\n",
       "  <thead>\n",
       "    <tr style=\"text-align: right;\">\n",
       "      <th></th>\n",
       "      <th>head_id</th>\n",
       "      <th>head_name</th>\n",
       "      <th>relation</th>\n",
       "      <th>tail_id</th>\n",
       "    </tr>\n",
       "  </thead>\n",
       "  <tbody>\n",
       "    <tr>\n",
       "      <th>0</th>\n",
       "      <td>http://purl.obolibrary.org/obo/DOID_0040102</td>\n",
       "      <td>N,N'-diethylthiourea allergic contact dermatitis</td>\n",
       "      <td>has allergic trigger</td>\n",
       "      <td>http://purl.obolibrary.org/obo/CHEBI_82448</td>\n",
       "    </tr>\n",
       "    <tr>\n",
       "      <th>1</th>\n",
       "      <td>http://purl.obolibrary.org/obo/DOID_251</td>\n",
       "      <td>alcohol-induced mental disorder</td>\n",
       "      <td>has exposure stressor</td>\n",
       "      <td>http://purl.obolibrary.org/obo/CHEBI_30879</td>\n",
       "    </tr>\n",
       "    <tr>\n",
       "      <th>2</th>\n",
       "      <td>http://purl.obolibrary.org/obo/DOID_252</td>\n",
       "      <td>alcoholic psychosis</td>\n",
       "      <td>has exposure stressor</td>\n",
       "      <td>http://purl.obolibrary.org/obo/CHEBI_30879</td>\n",
       "    </tr>\n",
       "    <tr>\n",
       "      <th>3</th>\n",
       "      <td>http://purl.obolibrary.org/obo/DOID_0040010</td>\n",
       "      <td>mepivacaine allergy</td>\n",
       "      <td>has allergic trigger</td>\n",
       "      <td>http://purl.obolibrary.org/obo/CHEBI_6759</td>\n",
       "    </tr>\n",
       "    <tr>\n",
       "      <th>4</th>\n",
       "      <td>http://purl.obolibrary.org/obo/DOID_0040103</td>\n",
       "      <td>cefotiam allergy</td>\n",
       "      <td>has allergic trigger</td>\n",
       "      <td>http://purl.obolibrary.org/obo/CHEBI_355510</td>\n",
       "    </tr>\n",
       "  </tbody>\n",
       "</table>\n",
       "</div>"
      ],
      "text/plain": [
       "                                       head_id  \\\n",
       "0  http://purl.obolibrary.org/obo/DOID_0040102   \n",
       "1      http://purl.obolibrary.org/obo/DOID_251   \n",
       "2      http://purl.obolibrary.org/obo/DOID_252   \n",
       "3  http://purl.obolibrary.org/obo/DOID_0040010   \n",
       "4  http://purl.obolibrary.org/obo/DOID_0040103   \n",
       "\n",
       "                                          head_name               relation  \\\n",
       "0  N,N'-diethylthiourea allergic contact dermatitis   has allergic trigger   \n",
       "1                   alcohol-induced mental disorder  has exposure stressor   \n",
       "2                               alcoholic psychosis  has exposure stressor   \n",
       "3                               mepivacaine allergy   has allergic trigger   \n",
       "4                                  cefotiam allergy   has allergic trigger   \n",
       "\n",
       "                                       tail_id  \n",
       "0   http://purl.obolibrary.org/obo/CHEBI_82448  \n",
       "1   http://purl.obolibrary.org/obo/CHEBI_30879  \n",
       "2   http://purl.obolibrary.org/obo/CHEBI_30879  \n",
       "3    http://purl.obolibrary.org/obo/CHEBI_6759  \n",
       "4  http://purl.obolibrary.org/obo/CHEBI_355510  "
      ]
     },
     "execution_count": 51,
     "metadata": {},
     "output_type": "execute_result"
    }
   ],
   "source": [
    "fad_df = pd.DataFrame(fad_final, columns=['head_id', 'head_name', 'relation', 'tail_id'])\n",
    "fad_df.head(5)"
   ]
  },
  {
   "cell_type": "markdown",
   "id": "c6af7372",
   "metadata": {},
   "source": [
    "----"
   ]
  },
  {
   "cell_type": "markdown",
   "id": "750d29ec",
   "metadata": {},
   "source": [
    "## BC5CDR Corpus\n",
    "**BC5CDR Corpus** is a corpus about Chemical, Disease and their Relation.\n",
    "\n",
    "**Source**: https://biocreative.bioinformatics.udel.edu/tasks/biocreative-v/track-3-cdr/"
   ]
  },
  {
   "cell_type": "code",
   "execution_count": 8,
   "id": "b0bbfeab",
   "metadata": {},
   "outputs": [],
   "source": [
    "def get_cdr(content:list):\n",
    "    \"\"\"\n",
    "    Get CDR data and save them into a list of tuples\n",
    "    \"\"\"\n",
    "    lines_tab = []\n",
    "    for line in content:\n",
    "        if \"\\t\" in line:\n",
    "            lines_tab.append(line.replace(\"\\n\", \"\").split(\"\\t\"))\n",
    "    return lines_tab"
   ]
  },
  {
   "cell_type": "code",
   "execution_count": 13,
   "id": "a040a3fc",
   "metadata": {},
   "outputs": [],
   "source": [
    "with open(f\"{DATA_PATH}/BC5CDR/CDR_TrainingSet.PubTator.txt\", \"r\") as f:\n",
    "    content = f.readlines()\n",
    "\n",
    "with open(f\"{DATA_PATH}/BC5CDR/CDR_DevelopmentSet.PubTator.txt\", \"r\") as f:\n",
    "    content += f.readlines()\n",
    "\n",
    "with open(f\"{DATA_PATH}/BC5CDR/CDR_TestSet.PubTator.txt\", \"r\") as f:\n",
    "    content += f.readlines()"
   ]
  },
  {
   "cell_type": "code",
   "execution_count": 9,
   "id": "794f1ebe",
   "metadata": {},
   "outputs": [
    {
     "data": {
      "text/plain": [
       "[['2234245', '250', '270', 'audiovisual toxicity', 'Disease', 'D014786'],\n",
       " ['2234245', '250', '270', 'audiovisual toxicity', 'Disease', 'D006311']]"
      ]
     },
     "execution_count": 9,
     "metadata": {},
     "output_type": "execute_result"
    }
   ],
   "source": [
    "cdrs = get_cdr(content)\n",
    "entities = list(filter(lambda line: len(line) == 6, cdrs))\n",
    "entities_sub_id = []\n",
    "entities_no_sub_id = []\n",
    "for ent in entities:\n",
    "    if len(ent[-1].split('|')) > 1:\n",
    "        for sub_id in ent[-1].split('|'):\n",
    "            entities_sub_id = entities_sub_id + [ent[:-1] + [sub_id]]\n",
    "    else:\n",
    "        entities_no_sub_id.append(ent)\n",
    "entities = entities_sub_id + entities_no_sub_id\n",
    "entities[:2]"
   ]
  },
  {
   "cell_type": "code",
   "execution_count": 55,
   "id": "b1a6ee54",
   "metadata": {},
   "outputs": [
    {
     "data": {
      "text/html": [
       "<div>\n",
       "<style scoped>\n",
       "    .dataframe tbody tr th:only-of-type {\n",
       "        vertical-align: middle;\n",
       "    }\n",
       "\n",
       "    .dataframe tbody tr th {\n",
       "        vertical-align: top;\n",
       "    }\n",
       "\n",
       "    .dataframe thead th {\n",
       "        text-align: right;\n",
       "    }\n",
       "</style>\n",
       "<table border=\"1\" class=\"dataframe\">\n",
       "  <thead>\n",
       "    <tr style=\"text-align: right;\">\n",
       "      <th></th>\n",
       "      <th>mesh_id</th>\n",
       "      <th>name</th>\n",
       "      <th>type</th>\n",
       "    </tr>\n",
       "  </thead>\n",
       "  <tbody>\n",
       "    <tr>\n",
       "      <th>0</th>\n",
       "      <td>D014786</td>\n",
       "      <td>audiovisual toxicity</td>\n",
       "      <td>Disease</td>\n",
       "    </tr>\n",
       "    <tr>\n",
       "      <th>1</th>\n",
       "      <td>D006311</td>\n",
       "      <td>audiovisual toxicity</td>\n",
       "      <td>Disease</td>\n",
       "    </tr>\n",
       "    <tr>\n",
       "      <th>2</th>\n",
       "      <td>D014786</td>\n",
       "      <td>audiovisual toxicity</td>\n",
       "      <td>Disease</td>\n",
       "    </tr>\n",
       "    <tr>\n",
       "      <th>3</th>\n",
       "      <td>D006311</td>\n",
       "      <td>audiovisual toxicity</td>\n",
       "      <td>Disease</td>\n",
       "    </tr>\n",
       "    <tr>\n",
       "      <th>4</th>\n",
       "      <td>D005355</td>\n",
       "      <td>fibrous myopathy</td>\n",
       "      <td>Disease</td>\n",
       "    </tr>\n",
       "  </tbody>\n",
       "</table>\n",
       "</div>"
      ],
      "text/plain": [
       "   mesh_id                  name     type\n",
       "0  D014786  audiovisual toxicity  Disease\n",
       "1  D006311  audiovisual toxicity  Disease\n",
       "2  D014786  audiovisual toxicity  Disease\n",
       "3  D006311  audiovisual toxicity  Disease\n",
       "4  D005355      fibrous myopathy  Disease"
      ]
     },
     "execution_count": 55,
     "metadata": {},
     "output_type": "execute_result"
    }
   ],
   "source": [
    "entities_df = pd.DataFrame(entities)\n",
    "entities_df.columns = [\"id\", \"start\", \"end\", \"name\", \"type\", \"mesh_id\"]\n",
    "entities_df = entities_df[['mesh_id', 'name', 'type']]\n",
    "entities_df.head(5)"
   ]
  },
  {
   "cell_type": "code",
   "execution_count": 56,
   "id": "3eeae6c4",
   "metadata": {},
   "outputs": [
    {
     "data": {
      "text/html": [
       "<div>\n",
       "<style scoped>\n",
       "    .dataframe tbody tr th:only-of-type {\n",
       "        vertical-align: middle;\n",
       "    }\n",
       "\n",
       "    .dataframe tbody tr th {\n",
       "        vertical-align: top;\n",
       "    }\n",
       "\n",
       "    .dataframe thead th {\n",
       "        text-align: right;\n",
       "    }\n",
       "</style>\n",
       "<table border=\"1\" class=\"dataframe\">\n",
       "  <thead>\n",
       "    <tr style=\"text-align: right;\">\n",
       "      <th></th>\n",
       "      <th>head_id</th>\n",
       "      <th>tail_id</th>\n",
       "      <th>relation</th>\n",
       "    </tr>\n",
       "  </thead>\n",
       "  <tbody>\n",
       "    <tr>\n",
       "      <th>0</th>\n",
       "      <td>D008750</td>\n",
       "      <td>D007022</td>\n",
       "      <td>CID</td>\n",
       "    </tr>\n",
       "    <tr>\n",
       "      <th>1</th>\n",
       "      <td>D008012</td>\n",
       "      <td>D006323</td>\n",
       "      <td>CID</td>\n",
       "    </tr>\n",
       "    <tr>\n",
       "      <th>2</th>\n",
       "      <td>D013390</td>\n",
       "      <td>D005207</td>\n",
       "      <td>CID</td>\n",
       "    </tr>\n",
       "    <tr>\n",
       "      <th>3</th>\n",
       "      <td>D012601</td>\n",
       "      <td>D062787</td>\n",
       "      <td>CID</td>\n",
       "    </tr>\n",
       "    <tr>\n",
       "      <th>4</th>\n",
       "      <td>D008094</td>\n",
       "      <td>D006973</td>\n",
       "      <td>CID</td>\n",
       "    </tr>\n",
       "  </tbody>\n",
       "</table>\n",
       "</div>"
      ],
      "text/plain": [
       "   head_id  tail_id relation\n",
       "0  D008750  D007022      CID\n",
       "1  D008012  D006323      CID\n",
       "2  D013390  D005207      CID\n",
       "3  D012601  D062787      CID\n",
       "4  D008094  D006973      CID"
      ]
     },
     "execution_count": 56,
     "metadata": {},
     "output_type": "execute_result"
    }
   ],
   "source": [
    "relations = list(filter(lambda line: len(line) == 4, cdrs))\n",
    "relations_df = pd.DataFrame(relations)\n",
    "relations_df.columns = [\"id\", \"relation\", \"head_id\", \"tail_id\"]\n",
    "relations_df = relations_df[[\"head_id\", \"tail_id\", \"relation\"]]\n",
    "relations_df.head(5)"
   ]
  },
  {
   "cell_type": "code",
   "execution_count": 57,
   "id": "171622b5",
   "metadata": {},
   "outputs": [],
   "source": [
    "mesh_ids_list = []\n",
    "mesh_names_list = []\n",
    "\n",
    "others = list(filter(lambda line: len(line) == 7, cdrs))\n",
    "for other in others:\n",
    "    mesh_ids = other[:][5]\n",
    "    mesh_names = other[:][6]\n",
    "    mesh_ids_list.append(mesh_ids)\n",
    "    mesh_names_list.append(mesh_names)\n",
    "    del other[6]"
   ]
  },
  {
   "cell_type": "code",
   "execution_count": 58,
   "id": "6e5d4d90",
   "metadata": {},
   "outputs": [
    {
     "data": {
      "text/plain": [
       "(504, 504, 504)"
      ]
     },
     "execution_count": 58,
     "metadata": {},
     "output_type": "execute_result"
    }
   ],
   "source": [
    "n = len(mesh_ids_list)\n",
    "mesh_ids = []\n",
    "mesh_names = []\n",
    "mesh_types = []\n",
    "for i in range(n):\n",
    "    sub_ids = mesh_ids_list[i].split('|')\n",
    "    mesh_ids += sub_ids\n",
    "    mesh_names += mesh_names_list[i].split('|')\n",
    "    mesh_types += ['Disease' if sub_ids[0][0] == 'D' else 'Chemical']*len(sub_ids)\n",
    "len(mesh_ids), len(mesh_names), len(mesh_types)"
   ]
  },
  {
   "cell_type": "code",
   "execution_count": 59,
   "id": "7fe2e638",
   "metadata": {},
   "outputs": [
    {
     "data": {
      "text/html": [
       "<div>\n",
       "<style scoped>\n",
       "    .dataframe tbody tr th:only-of-type {\n",
       "        vertical-align: middle;\n",
       "    }\n",
       "\n",
       "    .dataframe tbody tr th {\n",
       "        vertical-align: top;\n",
       "    }\n",
       "\n",
       "    .dataframe thead th {\n",
       "        text-align: right;\n",
       "    }\n",
       "</style>\n",
       "<table border=\"1\" class=\"dataframe\">\n",
       "  <thead>\n",
       "    <tr style=\"text-align: right;\">\n",
       "      <th></th>\n",
       "      <th>mesh_id</th>\n",
       "      <th>name</th>\n",
       "      <th>type</th>\n",
       "    </tr>\n",
       "  </thead>\n",
       "  <tbody>\n",
       "    <tr>\n",
       "      <th>0</th>\n",
       "      <td>D014786</td>\n",
       "      <td>audiovisual toxicity</td>\n",
       "      <td>Disease</td>\n",
       "    </tr>\n",
       "    <tr>\n",
       "      <th>1</th>\n",
       "      <td>D006311</td>\n",
       "      <td>audiovisual toxicity</td>\n",
       "      <td>Disease</td>\n",
       "    </tr>\n",
       "    <tr>\n",
       "      <th>2</th>\n",
       "      <td>D014786</td>\n",
       "      <td>audiovisual toxicity</td>\n",
       "      <td>Disease</td>\n",
       "    </tr>\n",
       "    <tr>\n",
       "      <th>3</th>\n",
       "      <td>D006311</td>\n",
       "      <td>audiovisual toxicity</td>\n",
       "      <td>Disease</td>\n",
       "    </tr>\n",
       "    <tr>\n",
       "      <th>4</th>\n",
       "      <td>D005355</td>\n",
       "      <td>fibrous myopathy</td>\n",
       "      <td>Disease</td>\n",
       "    </tr>\n",
       "  </tbody>\n",
       "</table>\n",
       "</div>"
      ],
      "text/plain": [
       "   mesh_id                  name     type\n",
       "0  D014786  audiovisual toxicity  Disease\n",
       "1  D006311  audiovisual toxicity  Disease\n",
       "2  D014786  audiovisual toxicity  Disease\n",
       "3  D006311  audiovisual toxicity  Disease\n",
       "4  D005355      fibrous myopathy  Disease"
      ]
     },
     "execution_count": 59,
     "metadata": {},
     "output_type": "execute_result"
    }
   ],
   "source": [
    "n = len(mesh_ids)\n",
    "mesh = [(mesh_ids[i], mesh_names[i], mesh_types[i]) for i in range(n) ]\n",
    "mesh_df = pd.DataFrame(mesh, columns=[\"mesh_id\", \"name\", \"type\"])\n",
    "entities_df = pd.concat([entities_df, mesh_df])\n",
    "entities_df.head(5)"
   ]
  },
  {
   "cell_type": "code",
   "execution_count": 60,
   "id": "641623f4",
   "metadata": {},
   "outputs": [],
   "source": [
    "def name_of_id_mesh(id_mesh, mesh_df):\n",
    "    \"\"\"\n",
    "    Get name from given id in MeSH DataFrame\n",
    "    \"\"\"\n",
    "#    print(id_mesh)\n",
    "#    print(mesh_df[mesh_df['mesh_id'] == id_mesh].reset_index()['name'])\n",
    "    return mesh_df[mesh_df['mesh_id'] == id_mesh].reset_index()['name'][0]"
   ]
  },
  {
   "cell_type": "code",
   "execution_count": 61,
   "id": "8e48513d",
   "metadata": {},
   "outputs": [
    {
     "data": {
      "text/html": [
       "<div>\n",
       "<style scoped>\n",
       "    .dataframe tbody tr th:only-of-type {\n",
       "        vertical-align: middle;\n",
       "    }\n",
       "\n",
       "    .dataframe tbody tr th {\n",
       "        vertical-align: top;\n",
       "    }\n",
       "\n",
       "    .dataframe thead th {\n",
       "        text-align: right;\n",
       "    }\n",
       "</style>\n",
       "<table border=\"1\" class=\"dataframe\">\n",
       "  <thead>\n",
       "    <tr style=\"text-align: right;\">\n",
       "      <th></th>\n",
       "      <th>head_id</th>\n",
       "      <th>head_name</th>\n",
       "      <th>tail_id</th>\n",
       "      <th>tail_name</th>\n",
       "      <th>relation</th>\n",
       "    </tr>\n",
       "  </thead>\n",
       "  <tbody>\n",
       "    <tr>\n",
       "      <th>0</th>\n",
       "      <td>D008750</td>\n",
       "      <td>alpha-methyldopa</td>\n",
       "      <td>D007022</td>\n",
       "      <td>hyper- or hypotension</td>\n",
       "      <td>CID</td>\n",
       "    </tr>\n",
       "    <tr>\n",
       "      <th>1</th>\n",
       "      <td>D008012</td>\n",
       "      <td>Lidocaine</td>\n",
       "      <td>D006323</td>\n",
       "      <td>cardiac asystole</td>\n",
       "      <td>CID</td>\n",
       "    </tr>\n",
       "    <tr>\n",
       "      <th>2</th>\n",
       "      <td>D013390</td>\n",
       "      <td>Suxamethonium</td>\n",
       "      <td>D005207</td>\n",
       "      <td>fasciculations</td>\n",
       "      <td>CID</td>\n",
       "    </tr>\n",
       "    <tr>\n",
       "      <th>3</th>\n",
       "      <td>D012601</td>\n",
       "      <td>scopolamine</td>\n",
       "      <td>D062787</td>\n",
       "      <td>overdosage</td>\n",
       "      <td>CID</td>\n",
       "    </tr>\n",
       "    <tr>\n",
       "      <th>4</th>\n",
       "      <td>D008094</td>\n",
       "      <td>lithium</td>\n",
       "      <td>D006973</td>\n",
       "      <td>hyper- or hypotension</td>\n",
       "      <td>CID</td>\n",
       "    </tr>\n",
       "  </tbody>\n",
       "</table>\n",
       "</div>"
      ],
      "text/plain": [
       "   head_id         head_name  tail_id              tail_name relation\n",
       "0  D008750  alpha-methyldopa  D007022  hyper- or hypotension      CID\n",
       "1  D008012         Lidocaine  D006323       cardiac asystole      CID\n",
       "2  D013390     Suxamethonium  D005207         fasciculations      CID\n",
       "3  D012601       scopolamine  D062787             overdosage      CID\n",
       "4  D008094           lithium  D006973  hyper- or hypotension      CID"
      ]
     },
     "execution_count": 61,
     "metadata": {},
     "output_type": "execute_result"
    }
   ],
   "source": [
    "relations_df[\"head_name\"] = relations_df[\"head_id\"].map(lambda x: name_of_id_mesh(x, entities_df))\n",
    "relations_df[\"tail_name\"] = relations_df[\"tail_id\"].map(lambda x: name_of_id_mesh(x, entities_df))\n",
    "relations_df = relations_df[['head_id', 'head_name', 'tail_id', 'tail_name', 'relation']]\n",
    "relations_df.head(5)"
   ]
  },
  {
   "cell_type": "code",
   "execution_count": 62,
   "id": "b60fb04a",
   "metadata": {},
   "outputs": [],
   "source": [
    "relations_df = relations_df.drop_duplicates().reset_index(drop=True)\n",
    "entities_df = entities_df.drop_duplicates().reset_index(drop=True)"
   ]
  },
  {
   "cell_type": "code",
   "execution_count": 63,
   "id": "0b3fca3e",
   "metadata": {},
   "outputs": [
    {
     "data": {
      "text/html": [
       "<div>\n",
       "<style scoped>\n",
       "    .dataframe tbody tr th:only-of-type {\n",
       "        vertical-align: middle;\n",
       "    }\n",
       "\n",
       "    .dataframe tbody tr th {\n",
       "        vertical-align: top;\n",
       "    }\n",
       "\n",
       "    .dataframe thead th {\n",
       "        text-align: right;\n",
       "    }\n",
       "</style>\n",
       "<table border=\"1\" class=\"dataframe\">\n",
       "  <thead>\n",
       "    <tr style=\"text-align: right;\">\n",
       "      <th></th>\n",
       "      <th>head_id</th>\n",
       "      <th>head_name</th>\n",
       "      <th>tail_id</th>\n",
       "      <th>tail_name</th>\n",
       "      <th>relation</th>\n",
       "    </tr>\n",
       "  </thead>\n",
       "  <tbody>\n",
       "    <tr>\n",
       "      <th>0</th>\n",
       "      <td>D008750</td>\n",
       "      <td>alpha-methyldopa</td>\n",
       "      <td>D007022</td>\n",
       "      <td>hyper- or hypotension</td>\n",
       "      <td>CID</td>\n",
       "    </tr>\n",
       "    <tr>\n",
       "      <th>1</th>\n",
       "      <td>D008012</td>\n",
       "      <td>Lidocaine</td>\n",
       "      <td>D006323</td>\n",
       "      <td>cardiac asystole</td>\n",
       "      <td>CID</td>\n",
       "    </tr>\n",
       "    <tr>\n",
       "      <th>2</th>\n",
       "      <td>D013390</td>\n",
       "      <td>Suxamethonium</td>\n",
       "      <td>D005207</td>\n",
       "      <td>fasciculations</td>\n",
       "      <td>CID</td>\n",
       "    </tr>\n",
       "    <tr>\n",
       "      <th>3</th>\n",
       "      <td>D012601</td>\n",
       "      <td>scopolamine</td>\n",
       "      <td>D062787</td>\n",
       "      <td>overdosage</td>\n",
       "      <td>CID</td>\n",
       "    </tr>\n",
       "    <tr>\n",
       "      <th>4</th>\n",
       "      <td>D008094</td>\n",
       "      <td>lithium</td>\n",
       "      <td>D006973</td>\n",
       "      <td>hyper- or hypotension</td>\n",
       "      <td>CID</td>\n",
       "    </tr>\n",
       "  </tbody>\n",
       "</table>\n",
       "</div>"
      ],
      "text/plain": [
       "   head_id         head_name  tail_id              tail_name relation\n",
       "0  D008750  alpha-methyldopa  D007022  hyper- or hypotension      CID\n",
       "1  D008012         Lidocaine  D006323       cardiac asystole      CID\n",
       "2  D013390     Suxamethonium  D005207         fasciculations      CID\n",
       "3  D012601       scopolamine  D062787             overdosage      CID\n",
       "4  D008094           lithium  D006973  hyper- or hypotension      CID"
      ]
     },
     "execution_count": 63,
     "metadata": {},
     "output_type": "execute_result"
    }
   ],
   "source": [
    "relations_df.head(5)"
   ]
  },
  {
   "cell_type": "markdown",
   "id": "4af52e66",
   "metadata": {},
   "source": [
    "-------------------------------"
   ]
  },
  {
   "cell_type": "markdown",
   "id": "25a65a4c",
   "metadata": {},
   "source": [
    "## Merge 2 types of relations"
   ]
  },
  {
   "cell_type": "code",
   "execution_count": 64,
   "id": "8757d9b8",
   "metadata": {},
   "outputs": [
    {
     "data": {
      "text/html": [
       "<div>\n",
       "<style scoped>\n",
       "    .dataframe tbody tr th:only-of-type {\n",
       "        vertical-align: middle;\n",
       "    }\n",
       "\n",
       "    .dataframe tbody tr th {\n",
       "        vertical-align: top;\n",
       "    }\n",
       "\n",
       "    .dataframe thead th {\n",
       "        text-align: right;\n",
       "    }\n",
       "</style>\n",
       "<table border=\"1\" class=\"dataframe\">\n",
       "  <thead>\n",
       "    <tr style=\"text-align: right;\">\n",
       "      <th></th>\n",
       "      <th>head_id</th>\n",
       "      <th>head_name</th>\n",
       "      <th>relation</th>\n",
       "      <th>tail_id</th>\n",
       "    </tr>\n",
       "  </thead>\n",
       "  <tbody>\n",
       "    <tr>\n",
       "      <th>0</th>\n",
       "      <td>http://purl.obolibrary.org/obo/DOID_0040102</td>\n",
       "      <td>N,N'-diethylthiourea allergic contact dermatitis</td>\n",
       "      <td>has allergic trigger</td>\n",
       "      <td>http://purl.obolibrary.org/obo/CHEBI_82448</td>\n",
       "    </tr>\n",
       "    <tr>\n",
       "      <th>1</th>\n",
       "      <td>http://purl.obolibrary.org/obo/DOID_251</td>\n",
       "      <td>alcohol-induced mental disorder</td>\n",
       "      <td>has exposure stressor</td>\n",
       "      <td>http://purl.obolibrary.org/obo/CHEBI_30879</td>\n",
       "    </tr>\n",
       "    <tr>\n",
       "      <th>2</th>\n",
       "      <td>http://purl.obolibrary.org/obo/DOID_252</td>\n",
       "      <td>alcoholic psychosis</td>\n",
       "      <td>has exposure stressor</td>\n",
       "      <td>http://purl.obolibrary.org/obo/CHEBI_30879</td>\n",
       "    </tr>\n",
       "    <tr>\n",
       "      <th>3</th>\n",
       "      <td>http://purl.obolibrary.org/obo/DOID_0040010</td>\n",
       "      <td>mepivacaine allergy</td>\n",
       "      <td>has allergic trigger</td>\n",
       "      <td>http://purl.obolibrary.org/obo/CHEBI_6759</td>\n",
       "    </tr>\n",
       "    <tr>\n",
       "      <th>4</th>\n",
       "      <td>http://purl.obolibrary.org/obo/DOID_0040103</td>\n",
       "      <td>cefotiam allergy</td>\n",
       "      <td>has allergic trigger</td>\n",
       "      <td>http://purl.obolibrary.org/obo/CHEBI_355510</td>\n",
       "    </tr>\n",
       "  </tbody>\n",
       "</table>\n",
       "</div>"
      ],
      "text/plain": [
       "                                       head_id  \\\n",
       "0  http://purl.obolibrary.org/obo/DOID_0040102   \n",
       "1      http://purl.obolibrary.org/obo/DOID_251   \n",
       "2      http://purl.obolibrary.org/obo/DOID_252   \n",
       "3  http://purl.obolibrary.org/obo/DOID_0040010   \n",
       "4  http://purl.obolibrary.org/obo/DOID_0040103   \n",
       "\n",
       "                                          head_name               relation  \\\n",
       "0  N,N'-diethylthiourea allergic contact dermatitis   has allergic trigger   \n",
       "1                   alcohol-induced mental disorder  has exposure stressor   \n",
       "2                               alcoholic psychosis  has exposure stressor   \n",
       "3                               mepivacaine allergy   has allergic trigger   \n",
       "4                                  cefotiam allergy   has allergic trigger   \n",
       "\n",
       "                                       tail_id  \n",
       "0   http://purl.obolibrary.org/obo/CHEBI_82448  \n",
       "1   http://purl.obolibrary.org/obo/CHEBI_30879  \n",
       "2   http://purl.obolibrary.org/obo/CHEBI_30879  \n",
       "3    http://purl.obolibrary.org/obo/CHEBI_6759  \n",
       "4  http://purl.obolibrary.org/obo/CHEBI_355510  "
      ]
     },
     "execution_count": 64,
     "metadata": {},
     "output_type": "execute_result"
    }
   ],
   "source": [
    "fad_df.head(5)"
   ]
  },
  {
   "cell_type": "code",
   "execution_count": 65,
   "id": "30bb117b",
   "metadata": {},
   "outputs": [
    {
     "data": {
      "text/html": [
       "<div>\n",
       "<style scoped>\n",
       "    .dataframe tbody tr th:only-of-type {\n",
       "        vertical-align: middle;\n",
       "    }\n",
       "\n",
       "    .dataframe tbody tr th {\n",
       "        vertical-align: top;\n",
       "    }\n",
       "\n",
       "    .dataframe thead th {\n",
       "        text-align: right;\n",
       "    }\n",
       "</style>\n",
       "<table border=\"1\" class=\"dataframe\">\n",
       "  <thead>\n",
       "    <tr style=\"text-align: right;\">\n",
       "      <th></th>\n",
       "      <th>head_id</th>\n",
       "      <th>head_name</th>\n",
       "      <th>tail_id</th>\n",
       "      <th>tail_name</th>\n",
       "      <th>relation</th>\n",
       "    </tr>\n",
       "  </thead>\n",
       "  <tbody>\n",
       "    <tr>\n",
       "      <th>0</th>\n",
       "      <td>D008750</td>\n",
       "      <td>alpha-methyldopa</td>\n",
       "      <td>D007022</td>\n",
       "      <td>hyper- or hypotension</td>\n",
       "      <td>CID</td>\n",
       "    </tr>\n",
       "    <tr>\n",
       "      <th>1</th>\n",
       "      <td>D008012</td>\n",
       "      <td>Lidocaine</td>\n",
       "      <td>D006323</td>\n",
       "      <td>cardiac asystole</td>\n",
       "      <td>CID</td>\n",
       "    </tr>\n",
       "    <tr>\n",
       "      <th>2</th>\n",
       "      <td>D013390</td>\n",
       "      <td>Suxamethonium</td>\n",
       "      <td>D005207</td>\n",
       "      <td>fasciculations</td>\n",
       "      <td>CID</td>\n",
       "    </tr>\n",
       "    <tr>\n",
       "      <th>3</th>\n",
       "      <td>D012601</td>\n",
       "      <td>scopolamine</td>\n",
       "      <td>D062787</td>\n",
       "      <td>overdosage</td>\n",
       "      <td>CID</td>\n",
       "    </tr>\n",
       "    <tr>\n",
       "      <th>4</th>\n",
       "      <td>D008094</td>\n",
       "      <td>lithium</td>\n",
       "      <td>D006973</td>\n",
       "      <td>hyper- or hypotension</td>\n",
       "      <td>CID</td>\n",
       "    </tr>\n",
       "  </tbody>\n",
       "</table>\n",
       "</div>"
      ],
      "text/plain": [
       "   head_id         head_name  tail_id              tail_name relation\n",
       "0  D008750  alpha-methyldopa  D007022  hyper- or hypotension      CID\n",
       "1  D008012         Lidocaine  D006323       cardiac asystole      CID\n",
       "2  D013390     Suxamethonium  D005207         fasciculations      CID\n",
       "3  D012601       scopolamine  D062787             overdosage      CID\n",
       "4  D008094           lithium  D006973  hyper- or hypotension      CID"
      ]
     },
     "execution_count": 65,
     "metadata": {},
     "output_type": "execute_result"
    }
   ],
   "source": [
    "fad_df['tail_name'] = fad_df['tail_id'].map(lambda row: dct_classID.get(row))\n",
    "dn_df = pd.concat([relations_df, fad_df[list(relations_df.columns)]]).reset_index(drop=True)\n",
    "dn_df.head(5)"
   ]
  },
  {
   "cell_type": "code",
   "execution_count": 66,
   "id": "7279b91d",
   "metadata": {},
   "outputs": [
    {
     "data": {
      "text/plain": [
       "array(['CID', 'has allergic trigger', 'has exposure stressor'],\n",
       "      dtype=object)"
      ]
     },
     "execution_count": 66,
     "metadata": {},
     "output_type": "execute_result"
    }
   ],
   "source": [
    "dn_df = dn_df[['head_id', 'head_name', 'relation', 'tail_id', 'tail_name']]\n",
    "dn_df['relation'].unique()"
   ]
  },
  {
   "cell_type": "code",
   "execution_count": 67,
   "id": "12da96a2",
   "metadata": {},
   "outputs": [
    {
     "name": "stdout",
     "output_type": "stream",
     "text": [
      "There are 2562 available relations between Nutrition and Disease.\n"
     ]
    }
   ],
   "source": [
    "print(f'There are {len(dn_df)} available relations between Nutrition and Disease.')"
   ]
  },
  {
   "cell_type": "code",
   "execution_count": 68,
   "id": "ac2b294e",
   "metadata": {},
   "outputs": [],
   "source": [
    "# Save to file\n",
    "dn_df.to_csv(f\"{GENERAL_PATH}/results/final_data/available_fad.csv\", index=False)"
   ]
  }
 ],
 "metadata": {
  "kernelspec": {
   "display_name": "Python 3",
   "language": "python",
   "name": "python3"
  },
  "language_info": {
   "codemirror_mode": {
    "name": "ipython",
    "version": 3
   },
   "file_extension": ".py",
   "mimetype": "text/x-python",
   "name": "python",
   "nbconvert_exporter": "python",
   "pygments_lexer": "ipython3",
   "version": "3.8.8"
  }
 },
 "nbformat": 4,
 "nbformat_minor": 5
}
