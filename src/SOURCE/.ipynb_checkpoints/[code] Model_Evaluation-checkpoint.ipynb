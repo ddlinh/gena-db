{
 "cells": [
  {
   "cell_type": "code",
   "execution_count": null,
   "id": "627bca67",
   "metadata": {},
   "outputs": [],
   "source": [
    "!pip install -U pandas\n",
    "!pip install -U scikit-learn\n",
    "!pip install -U spacy\n",
    "!pip install -U scispacy\n",
    "!pip install -U https://s3-us-west-2.amazonaws.com/ai2-s2-scispacy/releases/v0.5.0/en_ner_bc5cdr_md-0.5.0.tar.gz"
   ]
  },
  {
   "cell_type": "code",
   "execution_count": 1,
   "id": "0de0a8a5",
   "metadata": {},
   "outputs": [],
   "source": [
    "import pandas as pd\n",
    "import random"
   ]
  },
  {
   "cell_type": "code",
   "execution_count": 2,
   "id": "62dc4415",
   "metadata": {},
   "outputs": [],
   "source": [
    "RESULT_PATH = \"../DATASET/results\""
   ]
  },
  {
   "cell_type": "markdown",
   "id": "b2f8d7d2",
   "metadata": {},
   "source": [
    "# RE Evaluation"
   ]
  },
  {
   "cell_type": "code",
   "execution_count": 3,
   "id": "22bdea3f",
   "metadata": {},
   "outputs": [
    {
     "data": {
      "text/html": [
       "<div>\n",
       "<style scoped>\n",
       "    .dataframe tbody tr th:only-of-type {\n",
       "        vertical-align: middle;\n",
       "    }\n",
       "\n",
       "    .dataframe tbody tr th {\n",
       "        vertical-align: top;\n",
       "    }\n",
       "\n",
       "    .dataframe thead th {\n",
       "        text-align: right;\n",
       "    }\n",
       "</style>\n",
       "<table border=\"1\" class=\"dataframe\">\n",
       "  <thead>\n",
       "    <tr style=\"text-align: right;\">\n",
       "      <th></th>\n",
       "      <th>PMID</th>\n",
       "      <th>Sentence</th>\n",
       "      <th>E1</th>\n",
       "      <th>Type_E1</th>\n",
       "      <th>Relation</th>\n",
       "      <th>E2</th>\n",
       "      <th>Type_E2</th>\n",
       "    </tr>\n",
       "  </thead>\n",
       "  <tbody>\n",
       "    <tr>\n",
       "      <th>0</th>\n",
       "      <td>31196764</td>\n",
       "      <td>Flibanserin, a multifunctional serotonin recep...</td>\n",
       "      <td>Flibanserin</td>\n",
       "      <td>CHEMICAL</td>\n",
       "      <td>be approved in united states and canada for tr...</td>\n",
       "      <td>acquired generalized hypoactive sexual desire ...</td>\n",
       "      <td>MENTAL_HEALTH</td>\n",
       "    </tr>\n",
       "    <tr>\n",
       "      <th>1</th>\n",
       "      <td>31196764</td>\n",
       "      <td>Flibanserin, a multifunctional serotonin recep...</td>\n",
       "      <td>Flibanserin</td>\n",
       "      <td>CHEMICAL</td>\n",
       "      <td>be approved in united states and canada for tr...</td>\n",
       "      <td>HSDD</td>\n",
       "      <td>DISEASE</td>\n",
       "    </tr>\n",
       "    <tr>\n",
       "      <th>2</th>\n",
       "      <td>31196764</td>\n",
       "      <td>Flibanserin, a multifunctional serotonin recep...</td>\n",
       "      <td>multifunctional serotonin receptor agonist</td>\n",
       "      <td>CHEMICAL</td>\n",
       "      <td>be approved in united states and canada for tr...</td>\n",
       "      <td>acquired generalized hypoactive sexual desire ...</td>\n",
       "      <td>MENTAL_HEALTH</td>\n",
       "    </tr>\n",
       "    <tr>\n",
       "      <th>3</th>\n",
       "      <td>31196764</td>\n",
       "      <td>Flibanserin, a multifunctional serotonin recep...</td>\n",
       "      <td>multifunctional serotonin receptor agonist</td>\n",
       "      <td>CHEMICAL</td>\n",
       "      <td>be approved in united states and canada for tr...</td>\n",
       "      <td>HSDD</td>\n",
       "      <td>DISEASE</td>\n",
       "    </tr>\n",
       "    <tr>\n",
       "      <th>4</th>\n",
       "      <td>31196764</td>\n",
       "      <td>Flibanserin, a multifunctional serotonin recep...</td>\n",
       "      <td>multifunctional serotonin receptor agonist</td>\n",
       "      <td>BIOCHEMICAL</td>\n",
       "      <td>be approved in united states and canada for tr...</td>\n",
       "      <td>acquired generalized hypoactive sexual desire ...</td>\n",
       "      <td>MENTAL_HEALTH</td>\n",
       "    </tr>\n",
       "  </tbody>\n",
       "</table>\n",
       "</div>"
      ],
      "text/plain": [
       "       PMID                                           Sentence  \\\n",
       "0  31196764  Flibanserin, a multifunctional serotonin recep...   \n",
       "1  31196764  Flibanserin, a multifunctional serotonin recep...   \n",
       "2  31196764  Flibanserin, a multifunctional serotonin recep...   \n",
       "3  31196764  Flibanserin, a multifunctional serotonin recep...   \n",
       "4  31196764  Flibanserin, a multifunctional serotonin recep...   \n",
       "\n",
       "                                           E1      Type_E1  \\\n",
       "0                                 Flibanserin     CHEMICAL   \n",
       "1                                 Flibanserin     CHEMICAL   \n",
       "2  multifunctional serotonin receptor agonist     CHEMICAL   \n",
       "3  multifunctional serotonin receptor agonist     CHEMICAL   \n",
       "4  multifunctional serotonin receptor agonist  BIOCHEMICAL   \n",
       "\n",
       "                                            Relation  \\\n",
       "0  be approved in united states and canada for tr...   \n",
       "1  be approved in united states and canada for tr...   \n",
       "2  be approved in united states and canada for tr...   \n",
       "3  be approved in united states and canada for tr...   \n",
       "4  be approved in united states and canada for tr...   \n",
       "\n",
       "                                                  E2        Type_E2  \n",
       "0  acquired generalized hypoactive sexual desire ...  MENTAL_HEALTH  \n",
       "1                                               HSDD        DISEASE  \n",
       "2  acquired generalized hypoactive sexual desire ...  MENTAL_HEALTH  \n",
       "3                                               HSDD        DISEASE  \n",
       "4  acquired generalized hypoactive sexual desire ...  MENTAL_HEALTH  "
      ]
     },
     "execution_count": 3,
     "metadata": {},
     "output_type": "execute_result"
    }
   ],
   "source": [
    "results = pd.read_csv(f\"{RESULT_PATH}/raw_result/gena_data_raw.csv\")\n",
    "results.head(5)"
   ]
  },
  {
   "cell_type": "code",
   "execution_count": 7,
   "id": "73318557",
   "metadata": {},
   "outputs": [
    {
     "name": "stdout",
     "output_type": "stream",
     "text": [
      "Numbers of ID in test sample: 250\n"
     ]
    }
   ],
   "source": [
    "list_id_papers = results['PMID'].unique().tolist()\n",
    "sample_id = random.sample(list_id_papers, 250)\n",
    "print(\"Numbers of ID in test sample:\", len(sample_id))"
   ]
  },
  {
   "cell_type": "code",
   "execution_count": 8,
   "id": "25eea1ae",
   "metadata": {},
   "outputs": [
    {
     "name": "stdout",
     "output_type": "stream",
     "text": [
      "Size of test sample: 250\n"
     ]
    },
    {
     "name": "stderr",
     "output_type": "stream",
     "text": [
      "C:\\Users\\milan\\AppData\\Local\\Temp\\ipykernel_1804\\1821593410.py:1: UserWarning: Boolean Series key will be reindexed to match DataFrame index.\n",
      "  sample_test = results.sample(frac=1)[results['PMID'].isin(sample_id)]\n"
     ]
    }
   ],
   "source": [
    "sample_test = results.sample(frac=1)[results['PMID'].isin(sample_id)]\n",
    "sample_test.drop_duplicates(subset=['PMID'], inplace=True)\n",
    "sample_test = sample_test.sample(n=250)\n",
    "print(\"Size of test sample:\", len(sample_test))\n",
    "sample_test['E1_Result'] = [1]*len(sample_test)\n",
    "sample_test['Relation_Result'] = [1]*len(sample_test)\n",
    "sample_test['E2_Result'] = [1]*len(sample_test)"
   ]
  },
  {
   "cell_type": "code",
   "execution_count": 9,
   "id": "db4efde5",
   "metadata": {},
   "outputs": [],
   "source": [
    "# Save to excel file\n",
    "sample_test.to_excel(f\"{RESULT_PATH}/evaluation/sample_test_final_R01.xlsx\", index=False)\n",
    "sample_test.to_excel(f\"{RESULT_PATH}/evaluation/sample_test_final_R02.xlsx\", index=False)"
   ]
  },
  {
   "cell_type": "markdown",
   "id": "9abdfb63",
   "metadata": {},
   "source": [
    "------------------------------------------------"
   ]
  },
  {
   "cell_type": "code",
   "execution_count": 4,
   "id": "2762dade",
   "metadata": {},
   "outputs": [],
   "source": [
    "result_1 = pd.read_excel(f\"{RESULT_PATH}/evaluation/sample_test_final_R01.xlsx\")\n",
    "result_2 = pd.read_excel(f\"{RESULT_PATH}/evaluation/sample_test_final_R02.xlsx\")"
   ]
  },
  {
   "cell_type": "code",
   "execution_count": 5,
   "id": "2c9cf4e6",
   "metadata": {},
   "outputs": [
    {
     "data": {
      "text/plain": [
       "(250, 250)"
      ]
     },
     "execution_count": 5,
     "metadata": {},
     "output_type": "execute_result"
    }
   ],
   "source": [
    "len(result_1), len(result_2)"
   ]
  },
  {
   "cell_type": "code",
   "execution_count": 19,
   "id": "0dfa8171",
   "metadata": {},
   "outputs": [
    {
     "name": "stdout",
     "output_type": "stream",
     "text": [
      "Precision of Entities by Annotator 1:  0.966\n",
      "Precision of Entities by Annotator 2:  0.97\n",
      "IAA of Entities:  0.8063266623628147\n"
     ]
    }
   ],
   "source": [
    "import sklearn\n",
    "from sklearn.metrics import cohen_kappa_score\n",
    "\n",
    "print(\"Precision of Entities by Annotator 1: \", (sum(result_1['E1_Result']) + sum(result_1['E2_Result']))/(2.0*len(result_1)))\n",
    "print(\"Precision of Entities by Annotator 2: \", (sum(result_2['E1_Result']) + sum(result_2['E2_Result']))/(2.0*len(result_2)))\n",
    "\n",
    "print(\"IAA of Entities: \", cohen_kappa_score(result_1['E1_Result'].tolist() + result_1['E2_Result'].tolist(), result_2['E1_Result'].tolist() + result_2['E2_Result'].tolist()))"
   ]
  },
  {
   "cell_type": "code",
   "execution_count": 20,
   "id": "17aefb8e",
   "metadata": {},
   "outputs": [
    {
     "name": "stdout",
     "output_type": "stream",
     "text": [
      "Precision of Relations by Annotator 1: 0.836\n",
      "Precision of Relations by Annotator 2: 0.852\n",
      "IAA of Entities:  0.8178063889226285\n"
     ]
    }
   ],
   "source": [
    "print(\"Precision of Relations by Annotator 1:\", result_1['Relation_Result'].mean())\n",
    "print(\"Precision of Relations by Annotator 2:\", result_2['Relation_Result'].mean())\n",
    "\n",
    "print(\"IAA of Entities: \", cohen_kappa_score(result_1['Relation_Result'].tolist(), result_2['Relation_Result']))"
   ]
  },
  {
   "cell_type": "markdown",
   "id": "5284df1c",
   "metadata": {},
   "source": [
    "-----------------"
   ]
  },
  {
   "cell_type": "markdown",
   "id": "3b9ec4a6",
   "metadata": {},
   "source": [
    "# NER Evaluation"
   ]
  },
  {
   "cell_type": "code",
   "execution_count": 9,
   "id": "09bb5fd8",
   "metadata": {},
   "outputs": [],
   "source": [
    "import pandas as pd\n",
    "import random\n",
    "import spacy\n",
    "import scispacy"
   ]
  },
  {
   "cell_type": "code",
   "execution_count": 10,
   "id": "a888dd1d",
   "metadata": {},
   "outputs": [],
   "source": [
    "# Load 2 models\n",
    "origin_nlp = spacy.load('en_ner_bc5cdr_md')\n",
    "gena_nlp = spacy.load(f'{RESULT_PATH}/model/en_gena_sm')"
   ]
  },
  {
   "cell_type": "code",
   "execution_count": 11,
   "id": "9439f867",
   "metadata": {},
   "outputs": [
    {
     "data": {
      "text/html": [
       "<div>\n",
       "<style scoped>\n",
       "    .dataframe tbody tr th:only-of-type {\n",
       "        vertical-align: middle;\n",
       "    }\n",
       "\n",
       "    .dataframe tbody tr th {\n",
       "        vertical-align: top;\n",
       "    }\n",
       "\n",
       "    .dataframe thead th {\n",
       "        text-align: right;\n",
       "    }\n",
       "</style>\n",
       "<table border=\"1\" class=\"dataframe\">\n",
       "  <thead>\n",
       "    <tr style=\"text-align: right;\">\n",
       "      <th></th>\n",
       "      <th>PMID</th>\n",
       "      <th>Sentence</th>\n",
       "      <th>E1</th>\n",
       "      <th>Type_E1</th>\n",
       "      <th>Relation</th>\n",
       "      <th>E2</th>\n",
       "      <th>Type_E2</th>\n",
       "    </tr>\n",
       "  </thead>\n",
       "  <tbody>\n",
       "    <tr>\n",
       "      <th>87</th>\n",
       "      <td>14578199</td>\n",
       "      <td>N-methyl-D-aspartate receptor-induced toxicity...</td>\n",
       "      <td>acid/kainate receptor-type neurotoxicity</td>\n",
       "      <td>CHEMICAL</td>\n",
       "      <td>mediated by</td>\n",
       "      <td>voltage sensitive calcium channels</td>\n",
       "      <td>CHEMICAL</td>\n",
       "    </tr>\n",
       "    <tr>\n",
       "      <th>464</th>\n",
       "      <td>16389753</td>\n",
       "      <td>Enhanced intake of poly-unsaturated fatty acid...</td>\n",
       "      <td>poly-unsaturated fatty acids</td>\n",
       "      <td>NUTRITION</td>\n",
       "      <td>play important role in reversal of</td>\n",
       "      <td>related weight loss</td>\n",
       "      <td>DISEASE</td>\n",
       "    </tr>\n",
       "    <tr>\n",
       "      <th>465</th>\n",
       "      <td>16389753</td>\n",
       "      <td>Enhanced intake of poly-unsaturated fatty acid...</td>\n",
       "      <td>poly-unsaturated fatty acids</td>\n",
       "      <td>CHEMICAL</td>\n",
       "      <td>play important role in reversal of</td>\n",
       "      <td>related weight loss</td>\n",
       "      <td>DISEASE</td>\n",
       "    </tr>\n",
       "    <tr>\n",
       "      <th>481</th>\n",
       "      <td>15460168</td>\n",
       "      <td>n-3 long chain polyunsaturated fatty acids (n-...</td>\n",
       "      <td>n-3 long chain polyunsaturated fatty acids</td>\n",
       "      <td>NUTRITION</td>\n",
       "      <td>be present in mammal tissues from endogenous s...</td>\n",
       "      <td>n-3</td>\n",
       "      <td>CHEMICAL</td>\n",
       "    </tr>\n",
       "    <tr>\n",
       "      <th>482</th>\n",
       "      <td>15460168</td>\n",
       "      <td>n-3 long chain polyunsaturated fatty acids (n-...</td>\n",
       "      <td>n-3 long chain polyunsaturated fatty acids</td>\n",
       "      <td>NUTRITION</td>\n",
       "      <td>be present in mammal tissues from endogenous s...</td>\n",
       "      <td>desaturation</td>\n",
       "      <td>DISEASE</td>\n",
       "    </tr>\n",
       "  </tbody>\n",
       "</table>\n",
       "</div>"
      ],
      "text/plain": [
       "         PMID                                           Sentence  \\\n",
       "87   14578199  N-methyl-D-aspartate receptor-induced toxicity...   \n",
       "464  16389753  Enhanced intake of poly-unsaturated fatty acid...   \n",
       "465  16389753  Enhanced intake of poly-unsaturated fatty acid...   \n",
       "481  15460168  n-3 long chain polyunsaturated fatty acids (n-...   \n",
       "482  15460168  n-3 long chain polyunsaturated fatty acids (n-...   \n",
       "\n",
       "                                             E1    Type_E1  \\\n",
       "87     acid/kainate receptor-type neurotoxicity   CHEMICAL   \n",
       "464                poly-unsaturated fatty acids  NUTRITION   \n",
       "465                poly-unsaturated fatty acids   CHEMICAL   \n",
       "481  n-3 long chain polyunsaturated fatty acids  NUTRITION   \n",
       "482  n-3 long chain polyunsaturated fatty acids  NUTRITION   \n",
       "\n",
       "                                              Relation  \\\n",
       "87                                         mediated by   \n",
       "464                 play important role in reversal of   \n",
       "465                 play important role in reversal of   \n",
       "481  be present in mammal tissues from endogenous s...   \n",
       "482  be present in mammal tissues from endogenous s...   \n",
       "\n",
       "                                     E2   Type_E2  \n",
       "87   voltage sensitive calcium channels  CHEMICAL  \n",
       "464                 related weight loss   DISEASE  \n",
       "465                 related weight loss   DISEASE  \n",
       "481                                 n-3  CHEMICAL  \n",
       "482                        desaturation   DISEASE  "
      ]
     },
     "execution_count": 11,
     "metadata": {},
     "output_type": "execute_result"
    }
   ],
   "source": [
    "results = pd.read_csv(f\"{RESULT_PATH}/raw_result/gena_data_raw.csv\")\n",
    "random.seed(20)\n",
    "pmids_100_random = random.sample(list(results['Sentence'].unique()), 100)\n",
    "results_100 = results[results['Sentence'].isin(list(pmids_100_random))]\n",
    "results_100.head(5)"
   ]
  },
  {
   "cell_type": "code",
   "execution_count": 7,
   "id": "a4ec0312",
   "metadata": {},
   "outputs": [],
   "source": [
    "gena_results_ner_100 = []\n",
    "used_pmid = {}\n",
    "for idx, row in results_100.iterrows():\n",
    "    gena_results_ner_100.append((row['PMID'], row['Sentence'], row['E1'], row['Type_E1']))\n",
    "    gena_results_ner_100.append((row['PMID'], row['Sentence'], row['E2'], row['Type_E2']))\n",
    "gena_results_ner_100 = pd.DataFrame(gena_results_ner_100, columns=['PMID', 'Sentence', 'Named-Entity', 'Label'])\n",
    "gena_results_ner_100['Result'] = [1]*len(gena_results_ner_100)\n",
    "gena_results_ner_100.drop_duplicates().reset_index(drop=True).to_csv(f\"{RESULT_PATH}/evaluation/results_ner_100_gena.csv\", index=False)"
   ]
  },
  {
   "cell_type": "code",
   "execution_count": 8,
   "id": "7c95c24f",
   "metadata": {},
   "outputs": [],
   "source": [
    "origins_100 = results_100[['PMID', 'Sentence']].drop_duplicates().reset_index(drop=True)\n",
    "results_ner_100_origin = []\n",
    "for idx, row in origins_100.iterrows():\n",
    "    doc = origin_nlp(row['Sentence'])\n",
    "    for ent in doc.ents:\n",
    "        results_ner_100_origin.append((row['PMID'], row['Sentence'], ent.text, ent.label_))\n",
    "results_ner_100_origin = pd.DataFrame(results_ner_100_origin, columns=['PMID', 'Sentence', 'Named-Entity', 'Label'])\n",
    "results_ner_100_origin['Result'] = [1]*len(results_ner_100_origin)\n",
    "results_ner_100_origin.drop_duplicates().reset_index(drop=True).to_csv(f\"{RESULT_PATH}/evaluation/results_ner_100_origin.csv\", index=False)"
   ]
  },
  {
   "cell_type": "markdown",
   "id": "ccbf658b",
   "metadata": {},
   "source": [
    "-------------"
   ]
  },
  {
   "cell_type": "code",
   "execution_count": 12,
   "id": "ee8e49ee",
   "metadata": {},
   "outputs": [],
   "source": [
    "origin_results = pd.read_csv(f\"{RESULT_PATH}/evaluation/results_ner_100_origin.csv\")\n",
    "gena_results = pd.read_csv(f\"{RESULT_PATH}/evaluation/results_ner_100_gena.csv\")"
   ]
  },
  {
   "cell_type": "code",
   "execution_count": 13,
   "id": "c183e95f",
   "metadata": {},
   "outputs": [
    {
     "name": "stdout",
     "output_type": "stream",
     "text": [
      "Model origin has found 343 entities with precision 0.85\n"
     ]
    }
   ],
   "source": [
    "total_entities = origin_results['Result'].count()\n",
    "precision = origin_results['Result'].mean()\n",
    "print(f\"Model origin has found {total_entities} entities with precision {precision:0.2f}\")"
   ]
  },
  {
   "cell_type": "code",
   "execution_count": 14,
   "id": "607098f1",
   "metadata": {},
   "outputs": [
    {
     "name": "stdout",
     "output_type": "stream",
     "text": [
      "Model gena has found 311 entities with precision 0.95\n"
     ]
    }
   ],
   "source": [
    "total_entities = gena_results['Result'].count()\n",
    "precision = gena_results['Result'].mean()\n",
    "print(f\"Model gena has found {total_entities} entities with precision {precision:0.2f}\")"
   ]
  },
  {
   "cell_type": "markdown",
   "id": "ec3b02c3",
   "metadata": {},
   "source": [
    "---------"
   ]
  },
  {
   "cell_type": "markdown",
   "id": "0a9eec77",
   "metadata": {},
   "source": [
    "# Mapping ID Evaluation"
   ]
  },
  {
   "cell_type": "code",
   "execution_count": 4,
   "id": "4d41148d",
   "metadata": {},
   "outputs": [
    {
     "name": "stdout",
     "output_type": "stream",
     "text": [
      "There are: 80 exact result; 9 related result and 11 wrong result\n"
     ]
    }
   ],
   "source": [
    "mapping_results = pd.read_excel(f\"{RESULT_PATH}/evaluation/mapping_result.xlsx\")\n",
    "count_1 = len(mapping_results[mapping_results[\"Result\"] == 1])\n",
    "count_05 = len(mapping_results[mapping_results[\"Result\"] == 0.5])\n",
    "count_0 = len(mapping_results[mapping_results[\"Result\"] == 0])\n",
    "print(f\"There are: {count_1} exact result; {count_05} related result and {count_0} wrong result\")"
   ]
  }
 ],
 "metadata": {
  "kernelspec": {
   "display_name": "Python 3",
   "language": "python",
   "name": "python3"
  },
  "language_info": {
   "codemirror_mode": {
    "name": "ipython",
    "version": 3
   },
   "file_extension": ".py",
   "mimetype": "text/x-python",
   "name": "python",
   "nbconvert_exporter": "python",
   "pygments_lexer": "ipython3",
   "version": "3.8.8"
  }
 },
 "nbformat": 4,
 "nbformat_minor": 5
}
