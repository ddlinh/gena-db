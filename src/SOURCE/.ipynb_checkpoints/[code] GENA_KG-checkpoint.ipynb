{
 "cells": [
  {
   "cell_type": "code",
   "execution_count": null,
   "metadata": {
    "colab": {
     "base_uri": "https://localhost:8080/"
    },
    "executionInfo": {
     "elapsed": 6686,
     "status": "ok",
     "timestamp": 1653878507151,
     "user": {
      "displayName": "Liệu Tài",
      "userId": "14851803964287034059"
     },
     "user_tz": -420
    },
    "id": "Ct9bcRiQzixi",
    "outputId": "bf124ce1-8485-45a4-deb3-fa66eae009ec"
   },
   "outputs": [
    {
     "name": "stdout",
     "output_type": "stream",
     "text": [
      "Looking in indexes: https://pypi.org/simple, https://us-python.pkg.dev/colab-wheels/public/simple/\n",
      "Collecting neo4j\n",
      "  Downloading neo4j-4.4.3.tar.gz (90 kB)\n",
      "\u001b[K     |████████████████████████████████| 90 kB 6.0 MB/s \n",
      "\u001b[?25hRequirement already satisfied: pytz in /usr/local/lib/python3.7/dist-packages (from neo4j) (2022.1)\n",
      "Building wheels for collected packages: neo4j\n",
      "  Building wheel for neo4j (setup.py) ... \u001b[?25l\u001b[?25hdone\n",
      "  Created wheel for neo4j: filename=neo4j-4.4.3-py3-none-any.whl size=116069 sha256=0b5759c8e21711e13d9d7787049cf2c9ff69cb1506397124977b59bc3b3a3a19\n",
      "  Stored in directory: /root/.cache/pip/wheels/db/dd/76/acacd519878f133f2f869aec70db548d89e04013209c3c62bc\n",
      "Successfully built neo4j\n",
      "Installing collected packages: neo4j\n",
      "Successfully installed neo4j-4.4.3\n"
     ]
    }
   ],
   "source": [
    "!pip install -U neo4j\n",
    "!pip install -U pandas\n",
    "!pip install "
   ]
  },
  {
   "cell_type": "code",
   "execution_count": 16,
   "metadata": {
    "executionInfo": {
     "elapsed": 429,
     "status": "ok",
     "timestamp": 1653901558705,
     "user": {
      "displayName": "Liệu Tài",
      "userId": "14851803964287034059"
     },
     "user_tz": -420
    },
    "id": "md0twpkBza8l"
   },
   "outputs": [],
   "source": [
    "from neo4j import GraphDatabase\n",
    "from neo4j.exceptions import ServiceUnavailable\n",
    "import pandas as pd\n",
    "import itertools\n",
    "import os\n",
    "from time import sleep\n",
    "import re\n",
    "from pandas.core.frame import DataFrame"
   ]
  },
  {
   "cell_type": "code",
   "execution_count": 32,
   "metadata": {
    "executionInfo": {
     "elapsed": 2,
     "status": "ok",
     "timestamp": 1653901559140,
     "user": {
      "displayName": "Liệu Tài",
      "userId": "14851803964287034059"
     },
     "user_tz": -420
    },
    "id": "-dq3h2B6zeMb"
   },
   "outputs": [],
   "source": [
    "class Gena:\n",
    "    def __init__(self, uri, user, password):\n",
    "        self.driver = GraphDatabase.driver(uri, auth=(user, password))\n",
    "\n",
    "    def close(self):\n",
    "        # Don't forget to close the driver connection when you are finished with it\n",
    "        self.driver.close()\n",
    "    \n",
    "    def create_nodes(self, node_df):\n",
    "        with self.driver.session() as session:\n",
    "            create_nodes_query = \"CREATE \"\n",
    "            nodes = []\n",
    "            for idx, row in node_df.iterrows():\n",
    "                unique_id = row['ID']\n",
    "                name = row['Preferred label'].replace('\"', '')\n",
    "                label = row['Label'].upper()\n",
    "                synonyms = row['Synonyms'].replace('\"', '')\n",
    "                nodes.append(\"(n\" + str(idx) + \":\" + label + \" {id: \" + f'\"{unique_id}\"' + \", name: \" + f'\"{name}\"' + \", synonyms:\" + f'\"{synonyms}\"' + \"})\")\n",
    "        \n",
    "        with open(\"test_nodes.txt\", \"w\", encoding=\"utf-8\") as f:\n",
    "            print(\"write query to file.\")\n",
    "            f.write(create_nodes_query + \",\".join(nodes))\n",
    "        session.run(create_nodes_query + \",\".join(nodes))\n",
    "                \n",
    "    def create_relationships(self, relation_df):\n",
    "        with self.driver.session() as session:\n",
    "            for idx, row in relation_df.iterrows():\n",
    "                id_1 = row['ID_1']\n",
    "                label_1 = row['Type_E1'].upper()\n",
    "                id_2 = row['ID_2']\n",
    "                label_2 = row['Type_E2'].upper()\n",
    "                relation = row['Relation'].upper().replace(' ', '_').replace('\"', '')\n",
    "\n",
    "                had_relation = [result for result in session.run(\"MATCH p = (node_1)-[r:`CID`]->(node_2) WHERE (node_1.id = $id_1 AND node_2.id = $id_2) RETURN nodes(p)\", id_1=id_1, id_2=id_2)]\n",
    "                if len(had_relation) > 0:\n",
    "                    try:\n",
    "                        pmid_source = str(int(row['PMID']))\n",
    "                        create_relation = f'MATCH (node_1)-[r:CID]->(node_2)\\\n",
    "                        \\nWHERE (node_1.id = \"{id_1}\" AND node_2.id = \"{id_2}\")\\\n",
    "                        \\nSET r.detail = (CASE r.detail WHEN null THEN [\"{relation}\"] ELSE r.detail + [\"{relation}\"] END), r.source = r.source + [\"{pmid_source}\"]'\n",
    "                        session.run(create_relation)\n",
    "                    except Exception as e:\n",
    "                        print(idx)\n",
    "                        print(e)\n",
    "                        print('---')\n",
    "                else:\n",
    "                    create_relation = f'MATCH (node_1), (node_2) WHERE (node_1.id = \"{id_1}\" AND node_2.id = \"{id_2}\") MERGE ((node_1)-[r:`{relation}`' + ' {source:[\"' + row[\"PMID\"] + '\"]}]->(node_2))'\n",
    "                    session.run(create_relation)\n",
    "\n",
    "    def delete_data(self):\n",
    "        with self.driver.session() as session:\n",
    "            session.run(\"MATCH (n) DETACH DELETE n\")"
   ]
  },
  {
   "cell_type": "code",
   "execution_count": 30,
   "metadata": {
    "executionInfo": {
     "elapsed": 3,
     "status": "ok",
     "timestamp": 1653901562051,
     "user": {
      "displayName": "Liệu Tài",
      "userId": "14851803964287034059"
     },
     "user_tz": -420
    },
    "id": "T5OBUPyvzzLC"
   },
   "outputs": [],
   "source": [
    "## Call GENA\n",
    "uri = \"neo4j+s://8451226e.databases.neo4j.io\"\n",
    "user = \"neo4j\"\n",
    "password = \"RWY0rgJWWysmEbk808JCUv74jF-VrKBEfchJxy1vp5Q\"\n",
    "gena = Gena(uri, user, password)"
   ]
  },
  {
   "cell_type": "code",
   "execution_count": 12,
   "metadata": {
    "scrolled": false
   },
   "outputs": [
    {
     "name": "stdout",
     "output_type": "stream",
     "text": [
      "Create nodes from 0 to 2000\n",
      "write query to file.\n",
      "Create nodes from 2000 to 4000\n",
      "write query to file.\n",
      "Create nodes from 4000 to 6000\n",
      "write query to file.\n",
      "Create nodes from 6000 to 8000\n",
      "write query to file.\n",
      "Create nodes from 8000 to 10000\n",
      "write query to file.\n",
      "Create nodes from 10000 to 12000\n",
      "write query to file.\n",
      "Create nodes from 12000 to 14000\n",
      "write query to file.\n",
      "Create nodes from 14000 to 16000\n",
      "write query to file.\n",
      "Create nodes from 16000 to 18000\n",
      "write query to file.\n",
      "Create nodes from 18000 to 20000\n",
      "write query to file.\n",
      "Create nodes from 20000 to 22000\n",
      "write query to file.\n",
      "Create nodes from 22000 to 24000\n",
      "write query to file.\n",
      "Create nodes from 24000 to 26000\n",
      "write query to file.\n",
      "Create nodes from 26000 to 28000\n",
      "write query to file.\n",
      "Create nodes from 28000 to 30000\n",
      "write query to file.\n"
     ]
    }
   ],
   "source": [
    "import time\n",
    "RESULT_PATH = \"../DATASET/results/final_data\"\n",
    "nodes_df = pd.read_csv(f\"{RESULT_PATH}/ID_to_ENTITIES_final.csv\")\n",
    "pre_count = 0\n",
    "count = 2000\n",
    "while True:\n",
    "    print(f\"Create nodes from {pre_count} to {count}\")\n",
    "    gena.create_nodes(nodes_df[pre_count:count])\n",
    "    if count > len(nodes_df):\n",
    "        break\n",
    "    pre_count = count\n",
    "    count += 2000\n",
    "    time.sleep(2)"
   ]
  },
  {
   "cell_type": "code",
   "execution_count": 27,
   "metadata": {
    "colab": {
     "base_uri": "https://localhost:8080/",
     "height": 0
    },
    "executionInfo": {
     "elapsed": 1095347,
     "status": "ok",
     "timestamp": 1653902660323,
     "user": {
      "displayName": "Liệu Tài",
      "userId": "14851803964287034059"
     },
     "user_tz": -420
    },
    "id": "WGviFn8nzkyE",
    "outputId": "54504b7b-fcaf-44c9-8685-d7e022b2c3e1"
   },
   "outputs": [
    {
     "name": "stdout",
     "output_type": "stream",
     "text": [
      "Create relationship from 0 to 4000\n",
      "Create relationship from 4000 to 8000\n",
      "Create relationship from 8000 to 12000\n",
      "10215\n",
      "{code: Neo.ClientError.Statement.TypeError} {message: Neo4j only supports a subset of Cypher types for storage as singleton or array properties. Please refer to section cypher/syntax/values of the manual for more details.}\n",
      "---\n",
      "10407\n",
      "{code: Neo.ClientError.Statement.TypeError} {message: Neo4j only supports a subset of Cypher types for storage as singleton or array properties. Please refer to section cypher/syntax/values of the manual for more details.}\n",
      "---\n",
      "Create relationship from 12000 to 16000\n",
      "Create relationship from 16000 to 20000\n",
      "17413\n",
      "{code: Neo.ClientError.Statement.TypeError} {message: Neo4j only supports a subset of Cypher types for storage as singleton or array properties. Please refer to section cypher/syntax/values of the manual for more details.}\n",
      "---\n",
      "Create relationship from 20000 to 24000\n",
      "Create relationship from 24000 to 28000\n",
      "24874\n",
      "{code: Neo.ClientError.Statement.TypeError} {message: Neo4j only supports a subset of Cypher types for storage as singleton or array properties. Please refer to section cypher/syntax/values of the manual for more details.}\n",
      "---\n",
      "Create relationship from 28000 to 32000\n",
      "28331\n",
      "{code: Neo.ClientError.Statement.TypeError} {message: Neo4j only supports a subset of Cypher types for storage as singleton or array properties. Please refer to section cypher/syntax/values of the manual for more details.}\n",
      "---\n",
      "29734\n",
      "{code: Neo.ClientError.Statement.TypeError} {message: Neo4j only supports a subset of Cypher types for storage as singleton or array properties. Please refer to section cypher/syntax/values of the manual for more details.}\n",
      "---\n",
      "30433\n",
      "{code: Neo.ClientError.Statement.TypeError} {message: Neo4j only supports a subset of Cypher types for storage as singleton or array properties. Please refer to section cypher/syntax/values of the manual for more details.}\n",
      "---\n",
      "30749\n",
      "{code: Neo.ClientError.Statement.TypeError} {message: Neo4j only supports a subset of Cypher types for storage as singleton or array properties. Please refer to section cypher/syntax/values of the manual for more details.}\n",
      "---\n",
      "30981\n",
      "{code: Neo.ClientError.Statement.TypeError} {message: Neo4j only supports a subset of Cypher types for storage as singleton or array properties. Please refer to section cypher/syntax/values of the manual for more details.}\n",
      "---\n",
      "31776\n",
      "{code: Neo.ClientError.Statement.TypeError} {message: Neo4j only supports a subset of Cypher types for storage as singleton or array properties. Please refer to section cypher/syntax/values of the manual for more details.}\n",
      "---\n",
      "Create relationship from 32000 to 36000\n",
      "32015\n",
      "{code: Neo.ClientError.Statement.TypeError} {message: Neo4j only supports a subset of Cypher types for storage as singleton or array properties. Please refer to section cypher/syntax/values of the manual for more details.}\n",
      "---\n",
      "33512\n",
      "{code: Neo.ClientError.Statement.TypeError} {message: Neo4j only supports a subset of Cypher types for storage as singleton or array properties. Please refer to section cypher/syntax/values of the manual for more details.}\n",
      "---\n",
      "33718\n",
      "{code: Neo.ClientError.Statement.TypeError} {message: Neo4j only supports a subset of Cypher types for storage as singleton or array properties. Please refer to section cypher/syntax/values of the manual for more details.}\n",
      "---\n",
      "35366\n",
      "{code: Neo.ClientError.Statement.TypeError} {message: Neo4j only supports a subset of Cypher types for storage as singleton or array properties. Please refer to section cypher/syntax/values of the manual for more details.}\n",
      "---\n",
      "35808\n",
      "{code: Neo.ClientError.Statement.TypeError} {message: Neo4j only supports a subset of Cypher types for storage as singleton or array properties. Please refer to section cypher/syntax/values of the manual for more details.}\n",
      "---\n",
      "Create relationship from 36000 to 40000\n",
      "38663\n",
      "{code: Neo.ClientError.Statement.TypeError} {message: Neo4j only supports a subset of Cypher types for storage as singleton or array properties. Please refer to section cypher/syntax/values of the manual for more details.}\n",
      "---\n",
      "38967\n",
      "{code: Neo.ClientError.Statement.TypeError} {message: Neo4j only supports a subset of Cypher types for storage as singleton or array properties. Please refer to section cypher/syntax/values of the manual for more details.}\n",
      "---\n",
      "Create relationship from 40000 to 44000\n",
      "40255\n",
      "{code: Neo.ClientError.Statement.TypeError} {message: Neo4j only supports a subset of Cypher types for storage as singleton or array properties. Please refer to section cypher/syntax/values of the manual for more details.}\n",
      "---\n",
      "41356\n",
      "{code: Neo.ClientError.Statement.TypeError} {message: Neo4j only supports a subset of Cypher types for storage as singleton or array properties. Please refer to section cypher/syntax/values of the manual for more details.}\n",
      "---\n",
      "41922\n",
      "{code: Neo.ClientError.Statement.TypeError} {message: Neo4j only supports a subset of Cypher types for storage as singleton or array properties. Please refer to section cypher/syntax/values of the manual for more details.}\n",
      "---\n",
      "42688\n",
      "{code: Neo.ClientError.Statement.TypeError} {message: Neo4j only supports a subset of Cypher types for storage as singleton or array properties. Please refer to section cypher/syntax/values of the manual for more details.}\n",
      "---\n"
     ]
    }
   ],
   "source": [
    "## Create Relationship\n",
    "relationships = pd.read_csv(f\"{RESULT_PATH}/gena_data_final.csv\")\n",
    "pre_count = 0\n",
    "count = 4000\n",
    "reverse_relation = relationships[::-1].reset_index(drop=True)\n",
    "while True:\n",
    "    print(f\"Create relationship from {pre_count} to {count}\")\n",
    "    gena.create_relationships(reverse_relation[pre_count:count])\n",
    "    if count > len(reverse_relation):\n",
    "        break\n",
    "    pre_count = count\n",
    "    count += 4000\n",
    "    sleep(3)"
   ]
  },
  {
   "cell_type": "code",
   "execution_count": 34,
   "metadata": {},
   "outputs": [],
   "source": [
    "cid_relation = reverse_relation.iloc[[10215, 10417, 17413, 24874, 28331, 29734, 30433, 30749, 30981, 31776, 32015, 33512, 33718, 35366, 35808,\n",
    "                      38663, 38967, 40255, 41356, 41922, 42688], :]\n",
    "gena.create_relationships(cid_relation)"
   ]
  }
 ],
 "metadata": {
  "colab": {
   "authorship_tag": "ABX9TyN4OyW2pGZBnZXqhFtcWMcY",
   "background_execution": "on",
   "mount_file_id": "177D67F6iH7_BZK0l00zQD3p8YIM2ZqEZ",
   "name": "GENA_KG.ipynb",
   "provenance": []
  },
  "kernelspec": {
   "display_name": "Python 3",
   "language": "python",
   "name": "python3"
  },
  "language_info": {
   "codemirror_mode": {
    "name": "ipython",
    "version": 3
   },
   "file_extension": ".py",
   "mimetype": "text/x-python",
   "name": "python",
   "nbconvert_exporter": "python",
   "pygments_lexer": "ipython3",
   "version": "3.8.8"
  }
 },
 "nbformat": 4,
 "nbformat_minor": 1
}
